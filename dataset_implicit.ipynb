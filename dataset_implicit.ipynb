{
 "cells": [
  {
   "cell_type": "markdown",
   "metadata": {},
   "source": [
    "Book-Crossing: This dataset was collected by Cai-Nicolas Ziegler in a 4-week crawl (August / September 2004) from the Book-Crossing community with kind permission from Ron Hornbaker, CTO of Humankind Systems. It contains 278,858 users (anonymized but with demographic information) providing 1,149,780 ratings (explicit / implicit) about 271,379 books."
   ]
  },
  {
   "cell_type": "markdown",
   "metadata": {},
   "source": [
    "Book-Crossing Dataset:\n",
    "- Split based on the implicit and explicit feedback\n",
    "- Remove users with fewer than 5 interaction"
   ]
  },
  {
   "cell_type": "code",
   "execution_count": 1,
   "metadata": {},
   "outputs": [],
   "source": [
    "# importing required pakcages\n",
    "import pandas as pd\n",
    "from tqdm import tqdm"
   ]
  },
  {
   "cell_type": "code",
   "execution_count": 2,
   "metadata": {},
   "outputs": [],
   "source": [
    "# loading the Book-Crossing dataset\n",
    "dataset = pd.read_csv(\"dataset/BX-Book-Ratings.csv\", sep=\";\", encoding='ISO-8859–1')"
   ]
  },
  {
   "cell_type": "code",
   "execution_count": 3,
   "metadata": {},
   "outputs": [
    {
     "name": "stdout",
     "output_type": "stream",
     "text": [
      "Original dataset statistics: \n",
      "> No. of users: 105283\n",
      "> No. of Books: 340556\n",
      "> No. of Interaction: 1149780\n"
     ]
    }
   ],
   "source": [
    "# statistics on explicit dataset\n",
    "print(\"Original dataset statistics: \")\n",
    "print(f\"> No. of users: {len(dataset['User-ID'].unique())}\")\n",
    "print(f\"> No. of Books: {len(dataset['ISBN'].unique())}\")\n",
    "print(f\"> No. of Interaction: {dataset.shape[0]}\")"
   ]
  },
  {
   "cell_type": "code",
   "execution_count": 4,
   "metadata": {},
   "outputs": [
    {
     "data": {
      "text/plain": [
       "Index(['User-ID', 'ISBN', 'Book-Rating'], dtype='object')"
      ]
     },
     "execution_count": 4,
     "metadata": {},
     "output_type": "execute_result"
    }
   ],
   "source": [
    "# what columns or attributes the dataset is included?\n",
    "dataset.columns"
   ]
  },
  {
   "cell_type": "code",
   "execution_count": 5,
   "metadata": {},
   "outputs": [
    {
     "data": {
      "text/plain": [
       "0     716109\n",
       "8     103736\n",
       "10     78610\n",
       "7      76457\n",
       "9      67541\n",
       "5      50974\n",
       "6      36924\n",
       "4       8904\n",
       "3       5996\n",
       "2       2759\n",
       "1       1770\n",
       "Name: Book-Rating, dtype: int64"
      ]
     },
     "execution_count": 5,
     "metadata": {},
     "output_type": "execute_result"
    }
   ],
   "source": [
    "# checking the number of times in which a rating happened - (0: implicit, 1-10: explicit)\n",
    "dataset['Book-Rating'].value_counts()"
   ]
  },
  {
   "cell_type": "code",
   "execution_count": 6,
   "metadata": {},
   "outputs": [],
   "source": [
    "# This method return a dataframe in which the specified values are removed from a specific column. We can use it to generate the implicit/explicit dataset.\n",
    "# To do this, we can remove the 0 or 1-10 values from the `Book-Rating` column.\n",
    "def filter_rows_by_values(df, col, values):\n",
    "    return df[~df[col].isin(values)]"
   ]
  },
  {
   "cell_type": "markdown",
   "metadata": {},
   "source": [
    "### Implicit Dataset"
   ]
  },
  {
   "cell_type": "code",
   "execution_count": 7,
   "metadata": {},
   "outputs": [],
   "source": [
    "# To create the explicit dataset, we first remove those rows which includes 0 on Book-Rating columns (implicit ones), then we save the new generated daaset.\n",
    "implicit_dataset = filter_rows_by_values(dataset, \"Book-Rating\", [1, 2, 3, 4, 5, 6, 7, 8, 9, 10])\n",
    "implicit_dataset.to_csv(\"BX-Book-Implicit.csv\", index=False)"
   ]
  },
  {
   "cell_type": "code",
   "execution_count": 8,
   "metadata": {},
   "outputs": [
    {
     "data": {
      "text/plain": [
       "0    716109\n",
       "Name: Book-Rating, dtype: int64"
      ]
     },
     "execution_count": 8,
     "metadata": {},
     "output_type": "execute_result"
    }
   ],
   "source": [
    "# Here we can check that our explicit dataset does not include 0 rating.\n",
    "implicit_dataset['Book-Rating'].value_counts()"
   ]
  },
  {
   "cell_type": "code",
   "execution_count": 9,
   "metadata": {},
   "outputs": [
    {
     "name": "stdout",
     "output_type": "stream",
     "text": [
      "Explicit dataset statistics: \n",
      "> No. of users: 59517\n",
      "> No. of Books: 246724\n",
      "> No. of Interaction: 716109\n"
     ]
    }
   ],
   "source": [
    "# statistics on explicit dataset\n",
    "print(\"Explicit dataset statistics: \")\n",
    "print(f\"> No. of users: {len(implicit_dataset['User-ID'].unique())}\")\n",
    "print(f\"> No. of Books: {len(implicit_dataset['ISBN'].unique())}\")\n",
    "print(f\"> No. of Interaction: {implicit_dataset.shape[0]}\")"
   ]
  },
  {
   "cell_type": "markdown",
   "metadata": {},
   "source": [
    "#### Remove user with more than 200 interactions"
   ]
  },
  {
   "cell_type": "code",
   "execution_count": 14,
   "metadata": {},
   "outputs": [
    {
     "name": "stdout",
     "output_type": "stream",
     "text": [
      "The numebr of users with more than 500 interactions: 203\n"
     ]
    }
   ],
   "source": [
    "# To check if there is any user with fewer than 5 interaction in the preprocessed dataset\n",
    "# The correct output will be zero\n",
    "uid_value_counts = implicit_dataset['User-ID'].value_counts()\n",
    "print(f\"The numebr of users with more than 500 interactions: {uid_value_counts[uid_value_counts > 500].count()}\")"
   ]
  },
  {
   "cell_type": "code",
   "execution_count": 13,
   "metadata": {},
   "outputs": [
    {
     "name": "stderr",
     "output_type": "stream",
     "text": [
      "/var/folders/nb/mtr544q50k388rbnch13x9dm0000gn/T/ipykernel_18142/1960925012.py:5: SettingWithCopyWarning: \n",
      "A value is trying to be set on a copy of a slice from a DataFrame.\n",
      "Try using .loc[row_indexer,col_indexer] = value instead\n",
      "\n",
      "See the caveats in the documentation: https://pandas.pydata.org/pandas-docs/stable/user_guide/indexing.html#returning-a-view-versus-a-copy\n",
      "  implicit_dataset['Count'] = implicit_dataset['User-ID'].map(users_counts)\n"
     ]
    }
   ],
   "source": [
    "# To remove the users with fewer than 5 interaction we first count the number of interactino per user and add a new column (`Count`) in the dataframe.\n",
    "# This column shows the number of interaction per user in the dataset\n",
    "users_counts = implicit_dataset['User-ID'].value_counts()\n",
    "users_counts = users_counts.to_dict() #converts to dictionary\n",
    "implicit_dataset['Count'] = implicit_dataset['User-ID'].map(users_counts)"
   ]
  },
  {
   "cell_type": "code",
   "execution_count": 16,
   "metadata": {},
   "outputs": [
    {
     "data": {
      "text/plain": [
       "7533"
      ]
     },
     "execution_count": 16,
     "metadata": {},
     "output_type": "execute_result"
    }
   ],
   "source": [
    "max(implicit_dataset['Count'])"
   ]
  },
  {
   "cell_type": "code",
   "execution_count": 19,
   "metadata": {},
   "outputs": [],
   "source": [
    "implicit_dataset = filter_rows_by_values(implicit_dataset, \"Count\", list(range(500, max(implicit_dataset['Count']) + 1)))"
   ]
  },
  {
   "cell_type": "code",
   "execution_count": 20,
   "metadata": {},
   "outputs": [
    {
     "name": "stdout",
     "output_type": "stream",
     "text": [
      "Explicit dataset statistics (users > 500): \n",
      "> No. of users: 59314\n",
      "> No. of Books: 189498\n",
      "> No. of Interaction: 483210\n"
     ]
    }
   ],
   "source": [
    "# statistics on explicit dataset after removing users with more than 200 int.\n",
    "print(\"Explicit dataset statistics (users > 500): \")\n",
    "print(f\"> No. of users: {len(implicit_dataset['User-ID'].unique())}\")\n",
    "print(f\"> No. of Books: {len(implicit_dataset['ISBN'].unique())}\")\n",
    "print(f\"> No. of Interaction: {implicit_dataset.shape[0]}\")"
   ]
  },
  {
   "cell_type": "markdown",
   "metadata": {},
   "source": [
    "### Iteratively remove users and items with fewer than 5 interactions"
   ]
  },
  {
   "cell_type": "code",
   "execution_count": 21,
   "metadata": {},
   "outputs": [
    {
     "name": "stdout",
     "output_type": "stream",
     "text": [
      "The current number of user and item with < 5 interactions: \n",
      "No. of users < 5 ineractions: 46866\n",
      "No. of items < 5 ineractions: 156373\n",
      "The current number of user and item with < 5 interactions: \n",
      "No. of users < 5 ineractions: 4454\n",
      "No. of items < 5 ineractions: 1317\n",
      "The current number of user and item with < 5 interactions: \n",
      "No. of users < 5 ineractions: 209\n",
      "No. of items < 5 ineractions: 128\n",
      "The current number of user and item with < 5 interactions: \n",
      "No. of users < 5 ineractions: 30\n",
      "No. of items < 5 ineractions: 19\n",
      "The current number of user and item with < 5 interactions: \n",
      "No. of users < 5 ineractions: 7\n",
      "No. of items < 5 ineractions: 6\n",
      "The current number of user and item with < 5 interactions: \n",
      "No. of users < 5 ineractions: 6\n",
      "No. of items < 5 ineractions: 10\n",
      "The current number of user and item with < 5 interactions: \n",
      "No. of users < 5 ineractions: 3\n",
      "No. of items < 5 ineractions: 1\n",
      "The current number of user and item with < 5 interactions: \n",
      "No. of users < 5 ineractions: 0\n",
      "No. of items < 5 ineractions: 0\n"
     ]
    }
   ],
   "source": [
    "user_5_interaction, item_5_interaction = 1, 1\n",
    "\n",
    "while user_5_interaction != 0 or item_5_interaction != 0:\n",
    "    print(\"The current number of user and item with < 5 interactions: \")\n",
    "    # user side fewer than 5 cheking\n",
    "    uid_value_counts = implicit_dataset['User-ID'].value_counts()\n",
    "    user_5_interaction = uid_value_counts[uid_value_counts < 5].count()\n",
    "    print(f\"No. of users < 5 ineractions: {user_5_interaction}\")\n",
    "\n",
    "    users_counts = implicit_dataset['User-ID'].value_counts()\n",
    "    users_counts = users_counts.to_dict() #converts to dictionary\n",
    "    implicit_dataset['Count'] = implicit_dataset['User-ID'].map(users_counts)\n",
    "\n",
    "    implicit_dataset = filter_rows_by_values(implicit_dataset, \"Count\", [1, 2, 3, 4])\n",
    "\n",
    "    # item side fewer than 5 cheking\n",
    "    bid_value_counts = implicit_dataset['ISBN'].value_counts()\n",
    "    item_5_interaction = bid_value_counts[bid_value_counts < 5].count()\n",
    "    print(f\"No. of items < 5 ineractions: {item_5_interaction}\")\n",
    "\n",
    "    items_counts = implicit_dataset['ISBN'].value_counts()\n",
    "    items_counts = items_counts.to_dict() #converts to dictionary\n",
    "    implicit_dataset['Count'] = implicit_dataset['ISBN'].map(items_counts)\n",
    "\n",
    "    implicit_dataset = filter_rows_by_values(implicit_dataset, \"Count\", [1, 2, 3, 4])"
   ]
  },
  {
   "cell_type": "code",
   "execution_count": 22,
   "metadata": {},
   "outputs": [
    {
     "name": "stdout",
     "output_type": "stream",
     "text": [
      "No. of users: 6886\n",
      "No. of Books: 13139\n",
      "No. of Interaction: 172765\n"
     ]
    }
   ],
   "source": [
    "# statistics on 5 rate explicit dataset (after pre-processing)\n",
    "print(f\"No. of users: {len(implicit_dataset['User-ID'].unique())}\")\n",
    "print(f\"No. of Books: {len(implicit_dataset['ISBN'].unique())}\")\n",
    "print(f\"No. of Interaction: {implicit_dataset.shape[0]}\")"
   ]
  },
  {
   "cell_type": "code",
   "execution_count": 23,
   "metadata": {},
   "outputs": [],
   "source": [
    "# Before we save the preprocessed explicit dataset (5Rate) we first remove the added column which is `Count`\n",
    "del implicit_dataset['Count']"
   ]
  },
  {
   "cell_type": "code",
   "execution_count": 24,
   "metadata": {},
   "outputs": [],
   "source": [
    "# Here we save our new explicit dataset to do our experiments and analysis on that.\n",
    "implicit_dataset.to_csv(\"BX-Book-Implicit-5Rate.csv\", index=False)"
   ]
  },
  {
   "cell_type": "markdown",
   "metadata": {},
   "source": [
    "### User and Item ID Mapping"
   ]
  },
  {
   "cell_type": "code",
   "execution_count": 25,
   "metadata": {},
   "outputs": [],
   "source": [
    "dataset = pd.read_csv(\"BX-Book-Implicit-5Rate.csv\", sep=\",\", encoding='ISO-8859–1')"
   ]
  },
  {
   "cell_type": "code",
   "execution_count": 26,
   "metadata": {},
   "outputs": [],
   "source": [
    "uid_to_index = dict()\n",
    "bid_to_index = dict()\n",
    "\n",
    "last_user_id = 0\n",
    "last_book_id = 0\n",
    "\n",
    "for eachline in dataset.iterrows():\n",
    "  # add a new user id with an index\n",
    "  if eachline[1][0] not in uid_to_index.keys():\n",
    "    uid_to_index[eachline[1][0]] = last_user_id\n",
    "    last_user_id += 1\n",
    "  # add a new book id with an index\n",
    "  if eachline[1][1] not in bid_to_index.keys():\n",
    "    bid_to_index[eachline[1][1]] = last_book_id\n",
    "    last_book_id += 1"
   ]
  },
  {
   "cell_type": "code",
   "execution_count": 27,
   "metadata": {},
   "outputs": [
    {
     "name": "stderr",
     "output_type": "stream",
     "text": [
      "172765it [12:31, 229.84it/s]\n"
     ]
    }
   ],
   "source": [
    "mapped_dataset = pd.DataFrame(columns=['uid', 'bid', 'rating'])\n",
    "\n",
    "for eachline in tqdm(dataset.iterrows()):\n",
    "  mapped_dataset = mapped_dataset.append({'uid': uid_to_index[eachline[1][0]], 'bid': bid_to_index[eachline[1][1]], 'rating': eachline[1][2]},\n",
    "  ignore_index=True)"
   ]
  },
  {
   "cell_type": "code",
   "execution_count": 28,
   "metadata": {},
   "outputs": [],
   "source": [
    "mapped_dataset.to_csv(\"BX-Book-Implicit-5Rate-Map.csv\", index=False)"
   ]
  }
 ],
 "metadata": {
  "interpreter": {
   "hash": "0adcc2737ebf6a4a119f135174df96668767fca1ef1112612db5ecadf2b6d608"
  },
  "kernelspec": {
   "display_name": "Python 3.8.0 64-bit",
   "language": "python",
   "name": "python3"
  },
  "language_info": {
   "codemirror_mode": {
    "name": "ipython",
    "version": 3
   },
   "file_extension": ".py",
   "mimetype": "text/x-python",
   "name": "python",
   "nbconvert_exporter": "python",
   "pygments_lexer": "ipython3",
   "version": "3.8.0"
  },
  "orig_nbformat": 4
 },
 "nbformat": 4,
 "nbformat_minor": 2
}
