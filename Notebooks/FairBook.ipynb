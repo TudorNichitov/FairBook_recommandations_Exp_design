{
  "cells": [
    {
      "cell_type": "markdown",
      "metadata": {
        "colab_type": "text",
        "id": "view-in-github"
      },
      "source": [
        "<a href=\"https://colab.research.google.com/github/rahmanidashti/FairBook/blob/main/FairBook.ipynb\" target=\"_parent\"><img src=\"https://colab.research.google.com/assets/colab-badge.svg\" alt=\"Open In Colab\"/></a>"
      ]
    },
    {
      "cell_type": "markdown",
      "metadata": {
        "id": "I_FADOxYHUFN"
      },
      "source": [
        "This notebook should be run on Google Colab"
      ]
    },
    {
      "cell_type": "code",
      "execution_count": 1,
      "metadata": {
        "id": "L3Lbz0-UseQx"
      },
      "outputs": [],
      "source": [
        "# import\n",
        "import os\n",
        "import random as rd\n",
        "import pandas as pd\n",
        "import numpy as np\n",
        "\n",
        "import seaborn as sns\n",
        "import matplotlib.pyplot as plt\n",
        "# set plot style: grey grid in the background:\n",
        "sns.set(style=\"darkgrid\")\n",
        "\n",
        "from sklearn.preprocessing import MinMaxScaler\n",
        "from collections import defaultdict\n",
        "from scipy import stats\n",
        "from numpy.linalg import norm\n",
        "import time\n",
        "from tqdm import tqdm"
      ]
    },
    {
      "cell_type": "markdown",
      "metadata": {
        "id": "i7k0fcxc1-CI"
      },
      "source": [
        "## Settings"
      ]
    },
    {
      "cell_type": "code",
      "execution_count": 2,
      "metadata": {
        "id": "8cYhHuqgsu92"
      },
      "outputs": [],
      "source": [
        "# constants and initialization\n",
        "item_threshold = 1 # 1 means no filtering\n",
        "my_seed = 0\n",
        "rd.seed(my_seed)\n",
        "np.random.seed(my_seed)\n",
        "predict_col = 'bid'\n",
        "top_fraction = 0.2\n",
        "feedback_column = 'rating'\n",
        "user_events_file = \"https://raw.githubusercontent.com/rahmanidashti/FairBook/main/dataset/Bookcrossing/BX-Book-Explicit-5Rate-Map.csv\"\n",
        "high_user_file = \"https://raw.githubusercontent.com/rahmanidashti/FairBook/main/dataset/Bookcrossing/user-groups/active_users.txt\"\n",
        "low_user_file = \"https://raw.githubusercontent.com/rahmanidashti/FairBook/main/dataset/Bookcrossing/user-groups/inactive_users.txt\"\n",
        "medium_user_file = \"https://raw.githubusercontent.com/rahmanidashti/FairBook/main/dataset/Bookcrossing/user-groups/medium_users.txt\""
      ]
    },
    {
      "cell_type": "markdown",
      "metadata": {
        "id": "u_71UqdZ2ASW"
      },
      "source": [
        "## Load Dataset"
      ]
    },
    {
      "cell_type": "code",
      "execution_count": 3,
      "metadata": {
        "colab": {
          "base_uri": "https://localhost:8080/"
        },
        "id": "PCEoS3Z2u-Tb",
        "outputId": "38d6c431-0691-4df4-e221-69c173b7e036"
      },
      "outputs": [
        {
          "name": "stdout",
          "output_type": "stream",
          "text": [
            "No. of user interactions: 88552\n"
          ]
        }
      ],
      "source": [
        "# read user events\n",
        "df_events = pd.read_csv(user_events_file, sep=',')\n",
        "print('No. of user interactions: ' + str(len(df_events)))"
      ]
    },
    {
      "cell_type": "code",
      "execution_count": 4,
      "metadata": {
        "colab": {
          "base_uri": "https://localhost:8080/",
          "height": 206
        },
        "id": "2EsLW9xvvHu_",
        "outputId": "a16f96e4-804d-4c39-c224-ee4394b1d4a0"
      },
      "outputs": [
        {
          "data": {
            "text/html": [
              "<div>\n",
              "<style scoped>\n",
              "    .dataframe tbody tr th:only-of-type {\n",
              "        vertical-align: middle;\n",
              "    }\n",
              "\n",
              "    .dataframe tbody tr th {\n",
              "        vertical-align: top;\n",
              "    }\n",
              "\n",
              "    .dataframe thead th {\n",
              "        text-align: right;\n",
              "    }\n",
              "</style>\n",
              "<table border=\"1\" class=\"dataframe\">\n",
              "  <thead>\n",
              "    <tr style=\"text-align: right;\">\n",
              "      <th></th>\n",
              "      <th>uid</th>\n",
              "      <th>bid</th>\n",
              "      <th>rating</th>\n",
              "    </tr>\n",
              "  </thead>\n",
              "  <tbody>\n",
              "    <tr>\n",
              "      <th>0</th>\n",
              "      <td>0</td>\n",
              "      <td>0</td>\n",
              "      <td>8</td>\n",
              "    </tr>\n",
              "    <tr>\n",
              "      <th>1</th>\n",
              "      <td>0</td>\n",
              "      <td>1</td>\n",
              "      <td>10</td>\n",
              "    </tr>\n",
              "    <tr>\n",
              "      <th>2</th>\n",
              "      <td>0</td>\n",
              "      <td>2</td>\n",
              "      <td>10</td>\n",
              "    </tr>\n",
              "    <tr>\n",
              "      <th>3</th>\n",
              "      <td>0</td>\n",
              "      <td>3</td>\n",
              "      <td>10</td>\n",
              "    </tr>\n",
              "    <tr>\n",
              "      <th>4</th>\n",
              "      <td>0</td>\n",
              "      <td>4</td>\n",
              "      <td>10</td>\n",
              "    </tr>\n",
              "  </tbody>\n",
              "</table>\n",
              "</div>"
            ],
            "text/plain": [
              "   uid  bid  rating\n",
              "0    0    0       8\n",
              "1    0    1      10\n",
              "2    0    2      10\n",
              "3    0    3      10\n",
              "4    0    4      10"
            ]
          },
          "execution_count": 4,
          "metadata": {},
          "output_type": "execute_result"
        }
      ],
      "source": [
        "df_events.head()"
      ]
    },
    {
      "cell_type": "code",
      "execution_count": 5,
      "metadata": {
        "colab": {
          "base_uri": "https://localhost:8080/"
        },
        "id": "KUAGuFFC0AJR",
        "outputId": "2aa30dc8-4d90-48c0-af75-8143c5e870d6"
      },
      "outputs": [
        {
          "name": "stdout",
          "output_type": "stream",
          "text": [
            "No. filtered user interactions: 88552\n",
            "No. filtered items: 6921\n"
          ]
        }
      ],
      "source": [
        "df_events = df_events[df_events[feedback_column] >= item_threshold]\n",
        "print('No. filtered user interactions: ' + str(len(df_events)))\n",
        "print('No. filtered items: ' + str(len(df_events[predict_col].unique())))"
      ]
    },
    {
      "cell_type": "markdown",
      "metadata": {
        "id": "GhlCZYVh2Hb0"
      },
      "source": [
        "## User-Item Analysis"
      ]
    },
    {
      "cell_type": "code",
      "execution_count": 6,
      "metadata": {
        "colab": {
          "base_uri": "https://localhost:8080/"
        },
        "id": "I9qMqBrL0Dun",
        "outputId": "6bc303e8-2e98-4118-acaf-059b3be07afc"
      },
      "outputs": [
        {
          "name": "stdout",
          "output_type": "stream",
          "text": [
            "No. users: 6358\n",
            "Mean books per user: 13.927650204466813\n",
            "Min books per user: 5\n",
            "Max books per user: 153\n"
          ]
        }
      ],
      "source": [
        "# get user distribution\n",
        "user_dist = df_events['uid'].value_counts()\n",
        "num_users = len(user_dist)\n",
        "print('No. users: ' + str(num_users))\n",
        "print('Mean books per user: ' + str(user_dist.mean()))\n",
        "print('Min books per user: ' + str(user_dist.min()))\n",
        "print('Max books per user: ' + str(user_dist.max()))"
      ]
    },
    {
      "cell_type": "code",
      "execution_count": 7,
      "metadata": {
        "colab": {
          "base_uri": "https://localhost:8080/"
        },
        "id": "-fWyqRb80G0x",
        "outputId": "86296045-b1d2-4cd2-98ac-4dc0cee6930e"
      },
      "outputs": [
        {
          "name": "stdout",
          "output_type": "stream",
          "text": [
            "No. items: 6921\n"
          ]
        }
      ],
      "source": [
        "# get item distribution\n",
        "item_dist = df_events['bid'].value_counts()\n",
        "num_items = len(item_dist)\n",
        "print('No. items: ' + str(num_items))"
      ]
    },
    {
      "cell_type": "code",
      "execution_count": 8,
      "metadata": {
        "colab": {
          "base_uri": "https://localhost:8080/",
          "height": 292
        },
        "id": "cmH0khqblP8-",
        "outputId": "127f540f-b1f9-43bc-a504-9350bc59ecec"
      },
      "outputs": [
        {
          "data": {
            "image/png": "[encoded data removed]",
            "text/plain": [
              "<Figure size 640x480 with 1 Axes>"
            ]
          },
          "metadata": {},
          "output_type": "display_data"
        }
      ],
      "source": [
        "# plot item distribution\n",
        "plt.figure()\n",
        "plt.plot(item_dist.values)\n",
        "plt.xlabel('Book (log)', fontsize='14')\n",
        "plt.xticks(fontsize='13')\n",
        "plt.yticks(fontsize='13')\n",
        "plt.ylabel('Number of readers (log)', fontsize='15')\n",
        "plt.xscale('log')\n",
        "plt.yscale('log')\n",
        "plt.savefig('book_long_tail_log.pdf', dpi=300, bbox_inches='tight')"
      ]
    },
    {
      "cell_type": "code",
      "execution_count": 9,
      "metadata": {
        "colab": {
          "base_uri": "https://localhost:8080/",
          "height": 286
        },
        "id": "yUEKqq0RlTwa",
        "outputId": "056e39c6-2358-46cf-f232-2db4b5baabe8"
      },
      "outputs": [
        {
          "data": {
            "image/png": "[encoded data removed]",
            "text/plain": [
              "<Figure size 640x480 with 1 Axes>"
            ]
          },
          "metadata": {},
          "output_type": "display_data"
        }
      ],
      "source": [
        "# plot item distribution\n",
        "plt.figure()\n",
        "plt.plot(item_dist.values)\n",
        "plt.xlabel('Book', fontsize='14')\n",
        "plt.xticks(fontsize='10')\n",
        "plt.yticks(fontsize='13')\n",
        "plt.ylabel('Number of readers', fontsize='15')\n",
        "plt.savefig('book_long_tail_normal.pdf', dpi=300, bbox_inches='tight')"
      ]
    },
    {
      "cell_type": "code",
      "execution_count": 10,
      "metadata": {
        "colab": {
          "base_uri": "https://localhost:8080/"
        },
        "id": "hO0kLgCA68dG",
        "outputId": "482995c1-d2b9-482d-cd04-a1df93e5dbdd"
      },
      "outputs": [
        {
          "name": "stdout",
          "output_type": "stream",
          "text": [
            "No. top items: 1384\n"
          ]
        }
      ],
      "source": [
        "# get top items\n",
        "num_top = int(top_fraction * num_items)\n",
        "top_item_dist = item_dist[:num_top]\n",
        "print('No. top items: ' + str(len(top_item_dist)))"
      ]
    },
    {
      "cell_type": "markdown",
      "metadata": {
        "id": "2XQuvW4p2Lv8"
      },
      "source": [
        "## User Groups Analysis"
      ]
    },
    {
      "cell_type": "code",
      "execution_count": 11,
      "metadata": {
        "colab": {
          "base_uri": "https://localhost:8080/"
        },
        "id": "Pva9HrNs69_0",
        "outputId": "09d3e269-cac7-4c2e-cd4c-1d06327cb1a2"
      },
      "outputs": [
        {
          "name": "stdout",
          "output_type": "stream",
          "text": [
            "No. of users: 6358\n",
            "No. of inactive users: 1271\n",
            "No. of medium users: 3816\n",
            "No. of active users: 1271\n"
          ]
        }
      ],
      "source": [
        "# read users\n",
        "low_users = pd.read_csv(low_user_file, sep=',').set_index('user_id')\n",
        "medium_users = pd.read_csv(medium_user_file, sep=',').set_index('user_id')\n",
        "high_users = pd.read_csv(high_user_file, sep=',').set_index('user_id')\n",
        "\n",
        "no_users = len(low_users) + len(medium_users) + len(high_users)\n",
        "\n",
        "print('No. of users: ' + str(no_users))\n",
        "print('No. of inactive users: ' + str(len(low_users)))\n",
        "print('No. of medium users: ' + str(len(medium_users)))\n",
        "print('No. of active users: ' + str(len(high_users)))"
      ]
    },
    {
      "cell_type": "code",
      "execution_count": 12,
      "metadata": {
        "colab": {
          "base_uri": "https://localhost:8080/"
        },
        "id": "D43r1OYy7vLM",
        "outputId": "45406b3b-9071-4f6f-fc49-31b95b4779e1"
      },
      "outputs": [
        {
          "name": "stdout",
          "output_type": "stream",
          "text": [
            "Low count (for check): 1271\n",
            "Med count (for check): 3816\n",
            "High count (for check): 1271\n"
          ]
        }
      ],
      "source": [
        "# get pop fractions\n",
        "predict_col = 'bid'\n",
        "\n",
        "pop_count = [] # number of top items per user\n",
        "user_hist = [] # user history sizes\n",
        "pop_fraq = [] # relative number of top items per user\n",
        "pop_item_fraq = [] # average popularity of items in user profiles\n",
        "\n",
        "low_profile_size = 0\n",
        "low_gap = 0\n",
        "medium_profile_size = 0\n",
        "medium_gap = 0\n",
        "high_profile_size = 0\n",
        "high_gap = 0\n",
        "\n",
        "low_count = 0\n",
        "med_count = 0\n",
        "high_count = 0\n",
        "\n",
        "for u, df in df_events.groupby('uid'):\n",
        "    no_user_items = len(set(df[predict_col])) # profile size\n",
        "    no_user_pop_items = len(set(df[predict_col]) & set(top_item_dist.index)) # top items in profile\n",
        "    pop_count.append(no_user_pop_items)\n",
        "    user_hist.append(no_user_items)\n",
        "    pop_fraq.append(no_user_pop_items / no_user_items)\n",
        "    # get popularity (= fraction of users interacted with item) of user items and calculate average of it\n",
        "    user_pop_item_fraq = sum(item_dist[df[predict_col]] / no_users) / no_user_items\n",
        "    pop_item_fraq.append(user_pop_item_fraq)\n",
        "    if u in low_users.index: # get user group-specific values\n",
        "        low_profile_size += no_user_items\n",
        "        low_gap += user_pop_item_fraq\n",
        "        low_count += 1\n",
        "    elif u in medium_users.index:\n",
        "        medium_profile_size += no_user_items\n",
        "        medium_gap += user_pop_item_fraq\n",
        "        med_count += 1\n",
        "    else:\n",
        "        high_profile_size += no_user_items\n",
        "        high_gap += user_pop_item_fraq\n",
        "        high_count += 1\n",
        "\n",
        "low_profile_size /= len(low_users)\n",
        "medium_profile_size /= len(medium_users)\n",
        "high_profile_size /= len(high_users)\n",
        "\n",
        "low_gap /= len(low_users)\n",
        "medium_gap /= len(medium_users)\n",
        "high_gap /= len(high_users)\n",
        "\n",
        "print('Low count (for check): ' + str(low_count))\n",
        "print('Med count (for check): ' + str(med_count))\n",
        "print('High count (for check): ' + str(high_count))"
      ]
    },
    {
      "cell_type": "code",
      "execution_count": 13,
      "metadata": {
        "colab": {
          "base_uri": "https://localhost:8080/",
          "height": 290
        },
        "id": "BidwevwPluTi",
        "outputId": "6e3cf92c-ea83-4205-bf6f-f833d9a3def3"
      },
      "outputs": [
        {
          "data": {
            "image/png": "[encoded data removed]",
            "text/plain": [
              "<Figure size 640x480 with 1 Axes>"
            ]
          },
          "metadata": {},
          "output_type": "display_data"
        }
      ],
      "source": [
        "plt.figure()\n",
        "plt.plot(sorted(pop_fraq))\n",
        "plt.xlabel('User', fontsize='15')\n",
        "plt.xticks(fontsize='13')\n",
        "plt.ylabel('Ratio of popular books', fontsize='15')\n",
        "plt.yticks(fontsize='13')\n",
        "plt.axhline(y=0.8, color='black', linestyle='--', label='80% ratio of popular books')\n",
        "plt.legend(fontsize='15')\n",
        "plt.savefig('user_book_ratio.pdf', dpi=300, bbox_inches='tight')"
      ]
    },
    {
      "cell_type": "code",
      "execution_count": 14,
      "metadata": {
        "colab": {
          "base_uri": "https://localhost:8080/",
          "height": 307
        },
        "id": "fb2AJc-cl1vz",
        "outputId": "8af7caaf-2201-4da9-d83a-a1dd49f92bc4"
      },
      "outputs": [
        {
          "name": "stdout",
          "output_type": "stream",
          "text": [
            "R-value: 0.9230435903359996\n"
          ]
        },
        {
          "data": {
            "image/png": "[encoded data removed]",
            "text/plain": [
              "<Figure size 640x480 with 1 Axes>"
            ]
          },
          "metadata": {},
          "output_type": "display_data"
        }
      ],
      "source": [
        "plt.figure()\n",
        "slope, intercept, r_value, p_value, std_err = stats.linregress(user_hist, pop_count)\n",
        "print('R-value: ' + str(r_value))\n",
        "line = slope * np.array(user_hist) + intercept\n",
        "plt.plot(user_hist, pop_count, 'o', user_hist, line)\n",
        "plt.xlabel('User profile size', fontsize='15')\n",
        "plt.xticks(fontsize='13')\n",
        "plt.ylabel('Number of popular books', fontsize='15')\n",
        "plt.yticks(fontsize='13')\n",
        "plt.savefig('corr_user_pop.pdf', dpi=300, bbox_inches='tight')"
      ]
    },
    {
      "cell_type": "code",
      "execution_count": 15,
      "metadata": {
        "colab": {
          "base_uri": "https://localhost:8080/",
          "height": 285
        },
        "id": "Moqsn1Iwl4wS",
        "outputId": "7c8d831d-0eb8-4098-f952-8df8dea717c3"
      },
      "outputs": [
        {
          "data": {
            "image/png": "[encoded data removed]",
            "text/plain": [
              "<Figure size 640x480 with 1 Axes>"
            ]
          },
          "metadata": {},
          "output_type": "display_data"
        }
      ],
      "source": [
        "# we can remore it and do not use it\n",
        "plt.figure()\n",
        "slope, intercept, r_value, p_value, std_err = stats.linregress(user_hist, pop_fraq)\n",
        "line = slope * np.array(user_hist) + intercept\n",
        "plt.plot(user_hist, pop_fraq, 'o', user_hist, line)\n",
        "plt.xlabel('User profile size')\n",
        "plt.ylabel('Percentage of popular books')\n",
        "plt.savefig('corr_user_ratio.pdf', dpi=300, bbox_inches='tight')"
      ]
    },
    {
      "cell_type": "code",
      "execution_count": 16,
      "metadata": {
        "colab": {
          "base_uri": "https://localhost:8080/",
          "height": 325
        },
        "id": "SNZd91YKl6E7",
        "outputId": "3e21691d-7b0a-4150-ba22-e2f96ef96aae"
      },
      "outputs": [
        {
          "name": "stdout",
          "output_type": "stream",
          "text": [
            "R-value: -0.03357522222625168\n",
            "SpearmanrResult(correlation=0.06291508367304682, pvalue=5.149636716688308e-07)\n"
          ]
        },
        {
          "data": {
            "image/png": "[encoded data removed]",
            "text/plain": [
              "<Figure size 640x480 with 1 Axes>"
            ]
          },
          "metadata": {},
          "output_type": "display_data"
        }
      ],
      "source": [
        "plt.figure()\n",
        "slope, intercept, r_value, p_value, std_err = stats.linregress(user_hist, pop_item_fraq)\n",
        "print('R-value: ' + str(r_value))\n",
        "print(stats.spearmanr(user_hist, pop_item_fraq))\n",
        "line = slope * np.array(user_hist) + intercept\n",
        "plt.plot(user_hist, pop_item_fraq, 'o', user_hist, line)\n",
        "plt.xlabel('User profile size', fontsize='15')\n",
        "plt.ylabel('Average popularity of books', fontsize='15')\n",
        "plt.xticks(fontsize='13')\n",
        "plt.yticks(fontsize='13')\n",
        "plt.savefig('corr_user_avg.pdf', dpi=300, bbox_inches='tight')"
      ]
    },
    {
      "cell_type": "code",
      "execution_count": 17,
      "metadata": {
        "colab": {
          "base_uri": "https://localhost:8080/",
          "height": 285
        },
        "id": "EkZV2binl_t8",
        "outputId": "c56e5f2e-48a3-44ea-8b4f-6a3a174c4116"
      },
      "outputs": [
        {
          "data": {
            "image/png": "[encoded data removed]",
            "text/plain": [
              "<Figure size 500x400 with 1 Axes>"
            ]
          },
          "metadata": {},
          "output_type": "display_data"
        }
      ],
      "source": [
        "sns.set(rc = {'figure.figsize':(5,4)})\n",
        "\n",
        "# set plot style: grey grid in the background:\n",
        "sns.set(style=\"darkgrid\")\n",
        "plt.figure()\n",
        "plt.bar(0, low_profile_size)\n",
        "plt.bar(1, medium_profile_size)\n",
        "plt.bar(2, high_profile_size)\n",
        "plt.xticks(np.arange(3), ['Niche', 'Diverse', 'BestSeller'])\n",
        "plt.xlabel('User groups')\n",
        "plt.ylabel('Average user profile size')\n",
        "plt.savefig('group_size.pdf', dpi=300, bbox_inches='tight')"
      ]
    },
    {
      "cell_type": "code",
      "execution_count": 18,
      "metadata": {
        "colab": {
          "base_uri": "https://localhost:8080/"
        },
        "id": "BLYce_I48IgQ",
        "outputId": "6800ebab-bb83-449b-fcd3-7c4ad8d1555d"
      },
      "outputs": [
        {
          "name": "stdout",
          "output_type": "stream",
          "text": [
            "Average LowMS profile size: 11.019669551534225\n",
            "Average MedMS profile size: 16.21829140461216\n",
            "Average HighMS profile size: 9.958300550747444\n"
          ]
        }
      ],
      "source": [
        "print('Average LowMS profile size: ' + str(low_profile_size))\n",
        "print('Average MedMS profile size: ' + str(medium_profile_size))\n",
        "print('Average HighMS profile size: ' + str(high_profile_size))"
      ]
    },
    {
      "cell_type": "markdown",
      "metadata": {
        "id": "xUP-r0jCmGP-"
      },
      "source": [
        "## Recommendation using Cornac"
      ]
    },
    {
      "cell_type": "code",
      "execution_count": 19,
      "metadata": {
        "colab": {
          "base_uri": "https://localhost:8080/"
        },
        "id": "Wy9Caaa-MK7D",
        "outputId": "63c1abe5-28be-4bd2-cdcb-f671fc68122a"
      },
      "outputs": [
        {
          "name": "stdout",
          "output_type": "stream",
          "text": [
            "Requirement already satisfied: cornac in c:\\users\\julia\\anaconda3\\envs\\tf1_15\\lib\\site-packages (1.14.2)\n",
            "Requirement already satisfied: powerlaw in c:\\users\\julia\\anaconda3\\envs\\tf1_15\\lib\\site-packages (from cornac) (1.5)\n",
            "Requirement already satisfied: tqdm>=4.19 in c:\\users\\julia\\anaconda3\\envs\\tf1_15\\lib\\site-packages (from cornac) (4.64.1)\n",
            "Requirement already satisfied: numpy in c:\\users\\julia\\anaconda3\\envs\\tf1_15\\lib\\site-packages (from cornac) (1.21.5)\n",
            "Requirement already satisfied: scipy in c:\\users\\julia\\anaconda3\\envs\\tf1_15\\lib\\site-packages (from cornac) (1.7.3)\n",
            "Requirement already satisfied: colorama in c:\\users\\julia\\anaconda3\\envs\\tf1_15\\lib\\site-packages (from tqdm>=4.19->cornac) (0.4.6)\n",
            "Requirement already satisfied: mpmath in c:\\users\\julia\\anaconda3\\envs\\tf1_15\\lib\\site-packages (from powerlaw->cornac) (1.2.1)\n",
            "Requirement already satisfied: matplotlib in c:\\users\\julia\\anaconda3\\envs\\tf1_15\\lib\\site-packages (from powerlaw->cornac) (3.5.3)\n",
            "Requirement already satisfied: pillow>=6.2.0 in c:\\users\\julia\\anaconda3\\envs\\tf1_15\\lib\\site-packages (from matplotlib->powerlaw->cornac) (9.3.0)\n",
            "Requirement already satisfied: pyparsing>=2.2.1 in c:\\users\\julia\\anaconda3\\envs\\tf1_15\\lib\\site-packages (from matplotlib->powerlaw->cornac) (3.0.9)\n",
            "Requirement already satisfied: packaging>=20.0 in c:\\users\\julia\\anaconda3\\envs\\tf1_15\\lib\\site-packages (from matplotlib->powerlaw->cornac) (22.0)\n",
            "Requirement already satisfied: cycler>=0.10 in c:\\users\\julia\\anaconda3\\envs\\tf1_15\\lib\\site-packages (from matplotlib->powerlaw->cornac) (0.11.0)\n",
            "Requirement already satisfied: python-dateutil>=2.7 in c:\\users\\julia\\anaconda3\\envs\\tf1_15\\lib\\site-packages (from matplotlib->powerlaw->cornac) (2.8.2)\n",
            "Requirement already satisfied: fonttools>=4.22.0 in c:\\users\\julia\\anaconda3\\envs\\tf1_15\\lib\\site-packages (from matplotlib->powerlaw->cornac) (4.25.0)\n",
            "Requirement already satisfied: kiwisolver>=1.0.1 in c:\\users\\julia\\anaconda3\\envs\\tf1_15\\lib\\site-packages (from matplotlib->powerlaw->cornac) (1.4.4)\n",
            "Requirement already satisfied: typing-extensions in c:\\users\\julia\\anaconda3\\envs\\tf1_15\\lib\\site-packages (from kiwisolver>=1.0.1->matplotlib->powerlaw->cornac) (4.4.0)\n",
            "Requirement already satisfied: six>=1.5 in c:\\users\\julia\\anaconda3\\envs\\tf1_15\\lib\\site-packages (from python-dateutil>=2.7->matplotlib->powerlaw->cornac) (1.16.0)\n"
          ]
        }
      ],
      "source": [
        "# install cornac framework for RecSys\n",
        "! pip install cornac\n",
        "#!pip install torch"
      ]
    },
    {
      "cell_type": "markdown",
      "metadata": {
        "id": "zExHmWfkmQfo"
      },
      "source": [
        "### Switch to Tensorflow 1"
      ]
    },
    {
      "cell_type": "code",
      "execution_count": 20,
      "metadata": {
        "colab": {
          "base_uri": "https://localhost:8080/"
        },
        "id": "GkdHHs8VMN_5",
        "outputId": "21cbfc10-afb1-457e-de48-c28f7801bd31"
      },
      "outputs": [
        {
          "name": "stderr",
          "output_type": "stream",
          "text": [
            "UsageError: Line magic function `%tensorflow_version` not found.\n"
          ]
        }
      ],
      "source": [
        "%tensorflow_version 1.x"
      ]
    },
    {
      "cell_type": "code",
      "execution_count": 21,
      "metadata": {
        "colab": {
          "base_uri": "https://localhost:8080/",
          "height": 35
        },
        "id": "Bw5HHkOmMP6a",
        "outputId": "ba49a7b1-189c-403a-d6de-4258bbc3f06a"
      },
      "outputs": [
        {
          "data": {
            "text/plain": [
              "'1.15.0'"
            ]
          },
          "execution_count": 21,
          "metadata": {},
          "output_type": "execute_result"
        }
      ],
      "source": [
        "import tensorflow as tf\n",
        "tf.__version__"
      ]
    },
    {
      "cell_type": "markdown",
      "metadata": {
        "id": "P6vrgsMvmUKl"
      },
      "source": [
        "### Import Cornac Reqired Packages"
      ]
    },
    {
      "cell_type": "code",
      "execution_count": 22,
      "metadata": {
        "id": "peQt-4VBMXyt"
      },
      "outputs": [
        {
          "name": "stderr",
          "output_type": "stream",
          "text": [
            "c:\\Users\\julia\\anaconda3\\envs\\tf1_15\\lib\\site-packages\\tqdm\\auto.py:22: TqdmWarning: IProgress not found. Please update jupyter and ipywidgets. See https://ipywidgets.readthedocs.io/en/stable/user_install.html\n",
            "  from .autonotebook import tqdm as notebook_tqdm\n"
          ]
        },
        {
          "name": "stdout",
          "output_type": "stream",
          "text": [
            "FM model is only supported on Linux.\n",
            "Windows executable can be found at http://www.libfm.org.\n"
          ]
        }
      ],
      "source": [
        "import cornac\n",
        "from cornac.eval_methods import RatioSplit\n",
        "from cornac.data import Reader\n",
        "from cornac.models import MostPop, MF, PMF, BPR, NeuMF, WMF, HPF, VAECF, NMF\n",
        "from cornac.metrics import MAE, MSE, RMSE, Precision, Recall, NDCG, AUC, MAP, FMeasure, MRR"
      ]
    },
    {
      "cell_type": "code",
      "execution_count": 23,
      "metadata": {
        "colab": {
          "base_uri": "https://localhost:8080/"
        },
        "id": "-6XEwHbcvaVH",
        "outputId": "6a42e8c1-c672-459c-bb54-fd2b2d7c0ada"
      },
      "outputs": [
        {
          "data": {
            "text/plain": [
              "0"
            ]
          },
          "execution_count": 23,
          "metadata": {},
          "output_type": "execute_result"
        }
      ],
      "source": [
        "# load txt file to feed into Cornac\n",
        "os.system(\"\")"
      ]
    },
    {
      "cell_type": "code",
      "execution_count": 24,
      "metadata": {
        "id": "U46pVtwrv-e9"
      },
      "outputs": [],
      "source": [
        "# load dataset in Cornac\n",
        "reader = Reader()\n",
        "#\n",
        "data = reader.read('dataset/Bookcrossing/BX-Book-Explicit-5Rate-Map.txt', fmt='UIR', sep=',')"
      ]
    },
    {
      "cell_type": "code",
      "execution_count": 25,
      "metadata": {},
      "outputs": [
        {
          "data": {
            "text/plain": [
              "array([   0,    1,    2, ..., 6355, 6356, 6357])"
            ]
          },
          "execution_count": 25,
          "metadata": {},
          "output_type": "execute_result"
        }
      ],
      "source": [
        "df = pd.DataFrame(data,columns = [\"User\",\"Book\",\"Rating\"])\n",
        "df[\"User\"] = df[\"User\"].astype(int)\n",
        "df[\"Book\"] = df[\"Book\"].astype(int)\n",
        "df[\"Rating\"] = df[\"Rating\"].astype(int)\n",
        "#new_df = df_data.groupby(\"User\")#.sample(n=500)\n",
        "np.unique(df[\"User\"])\n",
        "#new_df.head()\n",
        "#np.unique(df_data[1])\n",
        "#df_data.columns"
      ]
    },
    {
      "cell_type": "code",
      "execution_count": 26,
      "metadata": {},
      "outputs": [],
      "source": [
        "#un_user = np.unique(df[\"User\"])\n",
        "#un_book = np.unique(df[\"Book\"])\n",
        "#len(un_user)\n",
        "#type(un_user)\n",
        "#round(np.size(un_user)/4)\n",
        "#rand_size = round(np.size(un_user)/4)\n",
        "#un_user_sampl = np.random.choice(un_user, size=rand_size, replace=False)\n",
        "#np.size(un_user_sampl)"
      ]
    },
    {
      "cell_type": "code",
      "execution_count": 27,
      "metadata": {},
      "outputs": [],
      "source": [
        "#len=df.shape[0]\n",
        "#for i in range(len):\n",
        "# if df.iat[i,0] not in un_user_sampl: #if user is in\n",
        "#     if i <100:\n",
        "#        df.drop(df.index[i],inplace=True)"
      ]
    },
    {
      "cell_type": "code",
      "execution_count": 28,
      "metadata": {},
      "outputs": [],
      "source": [
        "# turn data into dataframe\n",
        "#df = pd.DataFrame(data, columns=['user', 'item', 'rating'])\n",
        "#print(df.shape)\n",
        "# sample to only include 25% of users\n",
        "#df = df.groupby('user').sample(frac=0.25, random_state=1)\n",
        "\n",
        "# sample to only include 25% of books\n",
        "#df = df.groupby('item').sample(frac=0.02, random_state=1)\n",
        "#data = df.values.tolist()\n"
      ]
    },
    {
      "cell_type": "code",
      "execution_count": 135,
      "metadata": {},
      "outputs": [
        {
          "data": {
            "text/html": [
              "<div>\n",
              "<style scoped>\n",
              "    .dataframe tbody tr th:only-of-type {\n",
              "        vertical-align: middle;\n",
              "    }\n",
              "\n",
              "    .dataframe tbody tr th {\n",
              "        vertical-align: top;\n",
              "    }\n",
              "\n",
              "    .dataframe thead th {\n",
              "        text-align: right;\n",
              "    }\n",
              "</style>\n",
              "<table border=\"1\" class=\"dataframe\">\n",
              "  <thead>\n",
              "    <tr style=\"text-align: right;\">\n",
              "      <th>user</th>\n",
              "      <th>0</th>\n",
              "      <th>1</th>\n",
              "      <th>10</th>\n",
              "      <th>100</th>\n",
              "      <th>1000</th>\n",
              "      <th>1001</th>\n",
              "      <th>1002</th>\n",
              "      <th>1003</th>\n",
              "      <th>1004</th>\n",
              "      <th>1005</th>\n",
              "      <th>...</th>\n",
              "      <th>990</th>\n",
              "      <th>991</th>\n",
              "      <th>992</th>\n",
              "      <th>993</th>\n",
              "      <th>994</th>\n",
              "      <th>995</th>\n",
              "      <th>996</th>\n",
              "      <th>997</th>\n",
              "      <th>998</th>\n",
              "      <th>999</th>\n",
              "    </tr>\n",
              "    <tr>\n",
              "      <th>item</th>\n",
              "      <th></th>\n",
              "      <th></th>\n",
              "      <th></th>\n",
              "      <th></th>\n",
              "      <th></th>\n",
              "      <th></th>\n",
              "      <th></th>\n",
              "      <th></th>\n",
              "      <th></th>\n",
              "      <th></th>\n",
              "      <th></th>\n",
              "      <th></th>\n",
              "      <th></th>\n",
              "      <th></th>\n",
              "      <th></th>\n",
              "      <th></th>\n",
              "      <th></th>\n",
              "      <th></th>\n",
              "      <th></th>\n",
              "      <th></th>\n",
              "      <th></th>\n",
              "    </tr>\n",
              "  </thead>\n",
              "  <tbody>\n",
              "    <tr>\n",
              "      <th>0</th>\n",
              "      <td>8.0</td>\n",
              "      <td>NaN</td>\n",
              "      <td>NaN</td>\n",
              "      <td>NaN</td>\n",
              "      <td>NaN</td>\n",
              "      <td>NaN</td>\n",
              "      <td>NaN</td>\n",
              "      <td>NaN</td>\n",
              "      <td>NaN</td>\n",
              "      <td>NaN</td>\n",
              "      <td>...</td>\n",
              "      <td>NaN</td>\n",
              "      <td>NaN</td>\n",
              "      <td>NaN</td>\n",
              "      <td>NaN</td>\n",
              "      <td>NaN</td>\n",
              "      <td>NaN</td>\n",
              "      <td>NaN</td>\n",
              "      <td>NaN</td>\n",
              "      <td>NaN</td>\n",
              "      <td>NaN</td>\n",
              "    </tr>\n",
              "    <tr>\n",
              "      <th>1</th>\n",
              "      <td>10.0</td>\n",
              "      <td>NaN</td>\n",
              "      <td>NaN</td>\n",
              "      <td>NaN</td>\n",
              "      <td>NaN</td>\n",
              "      <td>NaN</td>\n",
              "      <td>NaN</td>\n",
              "      <td>NaN</td>\n",
              "      <td>NaN</td>\n",
              "      <td>NaN</td>\n",
              "      <td>...</td>\n",
              "      <td>NaN</td>\n",
              "      <td>NaN</td>\n",
              "      <td>NaN</td>\n",
              "      <td>NaN</td>\n",
              "      <td>NaN</td>\n",
              "      <td>NaN</td>\n",
              "      <td>NaN</td>\n",
              "      <td>NaN</td>\n",
              "      <td>NaN</td>\n",
              "      <td>NaN</td>\n",
              "    </tr>\n",
              "    <tr>\n",
              "      <th>10</th>\n",
              "      <td>NaN</td>\n",
              "      <td>7.0</td>\n",
              "      <td>NaN</td>\n",
              "      <td>NaN</td>\n",
              "      <td>NaN</td>\n",
              "      <td>NaN</td>\n",
              "      <td>NaN</td>\n",
              "      <td>NaN</td>\n",
              "      <td>NaN</td>\n",
              "      <td>NaN</td>\n",
              "      <td>...</td>\n",
              "      <td>NaN</td>\n",
              "      <td>NaN</td>\n",
              "      <td>NaN</td>\n",
              "      <td>8.0</td>\n",
              "      <td>NaN</td>\n",
              "      <td>NaN</td>\n",
              "      <td>NaN</td>\n",
              "      <td>NaN</td>\n",
              "      <td>NaN</td>\n",
              "      <td>NaN</td>\n",
              "    </tr>\n",
              "    <tr>\n",
              "      <th>100</th>\n",
              "      <td>NaN</td>\n",
              "      <td>NaN</td>\n",
              "      <td>NaN</td>\n",
              "      <td>NaN</td>\n",
              "      <td>NaN</td>\n",
              "      <td>NaN</td>\n",
              "      <td>NaN</td>\n",
              "      <td>NaN</td>\n",
              "      <td>NaN</td>\n",
              "      <td>NaN</td>\n",
              "      <td>...</td>\n",
              "      <td>NaN</td>\n",
              "      <td>NaN</td>\n",
              "      <td>NaN</td>\n",
              "      <td>NaN</td>\n",
              "      <td>NaN</td>\n",
              "      <td>NaN</td>\n",
              "      <td>NaN</td>\n",
              "      <td>NaN</td>\n",
              "      <td>NaN</td>\n",
              "      <td>NaN</td>\n",
              "    </tr>\n",
              "    <tr>\n",
              "      <th>1000</th>\n",
              "      <td>NaN</td>\n",
              "      <td>NaN</td>\n",
              "      <td>NaN</td>\n",
              "      <td>NaN</td>\n",
              "      <td>NaN</td>\n",
              "      <td>NaN</td>\n",
              "      <td>NaN</td>\n",
              "      <td>NaN</td>\n",
              "      <td>NaN</td>\n",
              "      <td>NaN</td>\n",
              "      <td>...</td>\n",
              "      <td>NaN</td>\n",
              "      <td>NaN</td>\n",
              "      <td>NaN</td>\n",
              "      <td>NaN</td>\n",
              "      <td>NaN</td>\n",
              "      <td>NaN</td>\n",
              "      <td>NaN</td>\n",
              "      <td>NaN</td>\n",
              "      <td>NaN</td>\n",
              "      <td>NaN</td>\n",
              "    </tr>\n",
              "    <tr>\n",
              "      <th>...</th>\n",
              "      <td>...</td>\n",
              "      <td>...</td>\n",
              "      <td>...</td>\n",
              "      <td>...</td>\n",
              "      <td>...</td>\n",
              "      <td>...</td>\n",
              "      <td>...</td>\n",
              "      <td>...</td>\n",
              "      <td>...</td>\n",
              "      <td>...</td>\n",
              "      <td>...</td>\n",
              "      <td>...</td>\n",
              "      <td>...</td>\n",
              "      <td>...</td>\n",
              "      <td>...</td>\n",
              "      <td>...</td>\n",
              "      <td>...</td>\n",
              "      <td>...</td>\n",
              "      <td>...</td>\n",
              "      <td>...</td>\n",
              "      <td>...</td>\n",
              "    </tr>\n",
              "    <tr>\n",
              "      <th>995</th>\n",
              "      <td>NaN</td>\n",
              "      <td>NaN</td>\n",
              "      <td>NaN</td>\n",
              "      <td>NaN</td>\n",
              "      <td>NaN</td>\n",
              "      <td>NaN</td>\n",
              "      <td>NaN</td>\n",
              "      <td>NaN</td>\n",
              "      <td>NaN</td>\n",
              "      <td>NaN</td>\n",
              "      <td>...</td>\n",
              "      <td>NaN</td>\n",
              "      <td>NaN</td>\n",
              "      <td>NaN</td>\n",
              "      <td>NaN</td>\n",
              "      <td>NaN</td>\n",
              "      <td>NaN</td>\n",
              "      <td>NaN</td>\n",
              "      <td>NaN</td>\n",
              "      <td>NaN</td>\n",
              "      <td>NaN</td>\n",
              "    </tr>\n",
              "    <tr>\n",
              "      <th>996</th>\n",
              "      <td>NaN</td>\n",
              "      <td>NaN</td>\n",
              "      <td>NaN</td>\n",
              "      <td>NaN</td>\n",
              "      <td>NaN</td>\n",
              "      <td>NaN</td>\n",
              "      <td>NaN</td>\n",
              "      <td>NaN</td>\n",
              "      <td>NaN</td>\n",
              "      <td>NaN</td>\n",
              "      <td>...</td>\n",
              "      <td>NaN</td>\n",
              "      <td>NaN</td>\n",
              "      <td>NaN</td>\n",
              "      <td>NaN</td>\n",
              "      <td>NaN</td>\n",
              "      <td>NaN</td>\n",
              "      <td>NaN</td>\n",
              "      <td>NaN</td>\n",
              "      <td>NaN</td>\n",
              "      <td>NaN</td>\n",
              "    </tr>\n",
              "    <tr>\n",
              "      <th>997</th>\n",
              "      <td>NaN</td>\n",
              "      <td>NaN</td>\n",
              "      <td>NaN</td>\n",
              "      <td>NaN</td>\n",
              "      <td>NaN</td>\n",
              "      <td>NaN</td>\n",
              "      <td>NaN</td>\n",
              "      <td>NaN</td>\n",
              "      <td>NaN</td>\n",
              "      <td>NaN</td>\n",
              "      <td>...</td>\n",
              "      <td>NaN</td>\n",
              "      <td>NaN</td>\n",
              "      <td>NaN</td>\n",
              "      <td>NaN</td>\n",
              "      <td>NaN</td>\n",
              "      <td>NaN</td>\n",
              "      <td>NaN</td>\n",
              "      <td>NaN</td>\n",
              "      <td>NaN</td>\n",
              "      <td>NaN</td>\n",
              "    </tr>\n",
              "    <tr>\n",
              "      <th>998</th>\n",
              "      <td>NaN</td>\n",
              "      <td>NaN</td>\n",
              "      <td>NaN</td>\n",
              "      <td>NaN</td>\n",
              "      <td>NaN</td>\n",
              "      <td>NaN</td>\n",
              "      <td>NaN</td>\n",
              "      <td>NaN</td>\n",
              "      <td>NaN</td>\n",
              "      <td>NaN</td>\n",
              "      <td>...</td>\n",
              "      <td>NaN</td>\n",
              "      <td>NaN</td>\n",
              "      <td>NaN</td>\n",
              "      <td>NaN</td>\n",
              "      <td>NaN</td>\n",
              "      <td>NaN</td>\n",
              "      <td>NaN</td>\n",
              "      <td>NaN</td>\n",
              "      <td>NaN</td>\n",
              "      <td>NaN</td>\n",
              "    </tr>\n",
              "    <tr>\n",
              "      <th>999</th>\n",
              "      <td>NaN</td>\n",
              "      <td>NaN</td>\n",
              "      <td>NaN</td>\n",
              "      <td>NaN</td>\n",
              "      <td>NaN</td>\n",
              "      <td>NaN</td>\n",
              "      <td>NaN</td>\n",
              "      <td>NaN</td>\n",
              "      <td>NaN</td>\n",
              "      <td>NaN</td>\n",
              "      <td>...</td>\n",
              "      <td>NaN</td>\n",
              "      <td>NaN</td>\n",
              "      <td>NaN</td>\n",
              "      <td>NaN</td>\n",
              "      <td>NaN</td>\n",
              "      <td>NaN</td>\n",
              "      <td>NaN</td>\n",
              "      <td>NaN</td>\n",
              "      <td>NaN</td>\n",
              "      <td>NaN</td>\n",
              "    </tr>\n",
              "  </tbody>\n",
              "</table>\n",
              "<p>6921 rows × 6358 columns</p>\n",
              "</div>"
            ],
            "text/plain": [
              "user     0    1  10  100  1000  1001  1002  1003  1004  1005  ...  990  991  \\\n",
              "item                                                          ...             \n",
              "0      8.0  NaN NaN  NaN   NaN   NaN   NaN   NaN   NaN   NaN  ...  NaN  NaN   \n",
              "1     10.0  NaN NaN  NaN   NaN   NaN   NaN   NaN   NaN   NaN  ...  NaN  NaN   \n",
              "10     NaN  7.0 NaN  NaN   NaN   NaN   NaN   NaN   NaN   NaN  ...  NaN  NaN   \n",
              "100    NaN  NaN NaN  NaN   NaN   NaN   NaN   NaN   NaN   NaN  ...  NaN  NaN   \n",
              "1000   NaN  NaN NaN  NaN   NaN   NaN   NaN   NaN   NaN   NaN  ...  NaN  NaN   \n",
              "...    ...  ...  ..  ...   ...   ...   ...   ...   ...   ...  ...  ...  ...   \n",
              "995    NaN  NaN NaN  NaN   NaN   NaN   NaN   NaN   NaN   NaN  ...  NaN  NaN   \n",
              "996    NaN  NaN NaN  NaN   NaN   NaN   NaN   NaN   NaN   NaN  ...  NaN  NaN   \n",
              "997    NaN  NaN NaN  NaN   NaN   NaN   NaN   NaN   NaN   NaN  ...  NaN  NaN   \n",
              "998    NaN  NaN NaN  NaN   NaN   NaN   NaN   NaN   NaN   NaN  ...  NaN  NaN   \n",
              "999    NaN  NaN NaN  NaN   NaN   NaN   NaN   NaN   NaN   NaN  ...  NaN  NaN   \n",
              "\n",
              "user  992  993  994  995  996  997  998  999  \n",
              "item                                          \n",
              "0     NaN  NaN  NaN  NaN  NaN  NaN  NaN  NaN  \n",
              "1     NaN  NaN  NaN  NaN  NaN  NaN  NaN  NaN  \n",
              "10    NaN  8.0  NaN  NaN  NaN  NaN  NaN  NaN  \n",
              "100   NaN  NaN  NaN  NaN  NaN  NaN  NaN  NaN  \n",
              "1000  NaN  NaN  NaN  NaN  NaN  NaN  NaN  NaN  \n",
              "...   ...  ...  ...  ...  ...  ...  ...  ...  \n",
              "995   NaN  NaN  NaN  NaN  NaN  NaN  NaN  NaN  \n",
              "996   NaN  NaN  NaN  NaN  NaN  NaN  NaN  NaN  \n",
              "997   NaN  NaN  NaN  NaN  NaN  NaN  NaN  NaN  \n",
              "998   NaN  NaN  NaN  NaN  NaN  NaN  NaN  NaN  \n",
              "999   NaN  NaN  NaN  NaN  NaN  NaN  NaN  NaN  \n",
              "\n",
              "[6921 rows x 6358 columns]"
            ]
          },
          "execution_count": 135,
          "metadata": {},
          "output_type": "execute_result"
        }
      ],
      "source": [
        "from sklearn.model_selection import train_test_split\n",
        "data = reader.read('dataset/Bookcrossing/BX-Book-Explicit-5Rate-Map.txt', fmt='UIR', sep=',')\n",
        "df = pd.DataFrame(data, columns=['user', 'item', 'rating'])\n",
        "df_wide=pd.pivot(df, index=['item'], columns = 'user',values = 'rating') #Reshape from long to wide\n",
        "df_wide"
      ]
    },
    {
      "cell_type": "code",
      "execution_count": null,
      "metadata": {},
      "outputs": [],
      "source": [
        "\n",
        "print(df_wide.head())\n",
        "print(df_wide.shape)\n",
        "_,df_wide = train_test_split(df_wide,test_size=0.35,random_state=1)\n",
        "print(df_wide.shape)\n",
        "df_wide = df_wide.T\n",
        "print(df_wide.shape)\n",
        "_,df_wide = train_test_split(df_wide,test_size=0.35,random_state=1)\n",
        "print(df_wide.shape)\n",
        "df_wide\n",
        "col_list=list(df_wide.columns)\n",
        "df_new = pd.melt(df_wide, value_vars=col_list,value_name='rating', ignore_index=False)\n",
        "df_new.dropna(how=\"any\",axis=0,inplace=True)\n",
        "print(df_new.shape)\n",
        "print(df.shape)\n",
        "df_new.reset_index(inplace=True)\n",
        "data = df_new.values.tolist()\n",
        "#df.loc[[df['user'] == 5724]]\n",
        "#df.head()\n",
        "#df['user'] == 5724"
      ]
    },
    {
      "cell_type": "code",
      "execution_count": 202,
      "metadata": {},
      "outputs": [],
      "source": [
        "from sklearn.model_selection import train_test_split\n",
        "np.random.seed(123)\n",
        "random_states = np.random.randint(0,100000,20)\n",
        "#rand_int()"
      ]
    },
    {
      "cell_type": "code",
      "execution_count": 476,
      "metadata": {},
      "outputs": [],
      "source": [
        "\n",
        "data_frames = []\n",
        "data = reader.read('dataset/Bookcrossing/BX-Book-Explicit-5Rate-Map.txt', fmt='UIR', sep=',')\n",
        "for i in range(20):\n",
        "    data_frames.append(pd.DataFrame(data, columns=['user', 'item', 'rating']))\n",
        "    data_frames[i] =pd.pivot(data_frames[i], index=['item'], columns = 'user',values = 'rating') #Reshape from long to wide\n",
        "    _,data_frames[i] = train_test_split(data_frames[i],test_size=0.3,random_state=random_states[i])\n",
        "    data_frames[i] = data_frames[i].T\n",
        "    _,data_frames[i] = train_test_split(data_frames[i],test_size=0.3,random_state=random_states[i])\n",
        "    col_list=list(data_frames[i].columns)\n",
        "    data_frames[i] = pd.melt(data_frames[i], value_vars=col_list,value_name='rating', ignore_index=False)\n",
        "    data_frames[i].dropna(how=\"any\",axis=0,inplace=True)\n",
        "    data_frames[i].reset_index(inplace=True)\n",
        "    data_frames[i] = data_frames[i].values.tolist()\n"
      ]
    },
    {
      "cell_type": "code",
      "execution_count": 479,
      "metadata": {},
      "outputs": [
        {
          "name": "stdout",
          "output_type": "stream",
          "text": [
            "7796\n",
            "8149\n",
            "7981\n",
            "7810\n",
            "8051\n",
            "8321\n",
            "7831\n",
            "7799\n",
            "8186\n",
            "7982\n",
            "7907\n",
            "7999\n",
            "7969\n",
            "7854\n",
            "7962\n",
            "8182\n",
            "7711\n",
            "8215\n",
            "7878\n",
            "8663\n"
          ]
        }
      ],
      "source": [
        "for i in range(20):\n",
        "    print(len(data_frames[i]))"
      ]
    },
    {
      "cell_type": "code",
      "execution_count": 480,
      "metadata": {
        "id": "vxGY7OqzMZ2U"
      },
      "outputs": [],
      "source": [
        "\n",
        "rs = RatioSplit(data=data, test_size=0.2, rating_threshold=1.0, seed=123)\n",
        "rs_s = []\n",
        "for i in range(20):\n",
        "    rs_s.append(RatioSplit(data=data_frames[i], test_size=0.2, rating_threshold=1.0, seed=42))"
      ]
    },
    {
      "cell_type": "code",
      "execution_count": 562,
      "metadata": {},
      "outputs": [
        {
          "data": {
            "text/plain": [
              "<cornac.eval_methods.ratio_split.RatioSplit at 0x21db97dd7c8>"
            ]
          },
          "execution_count": 562,
          "metadata": {},
          "output_type": "execute_result"
        }
      ],
      "source": []
    },
    {
      "cell_type": "code",
      "execution_count": 508,
      "metadata": {
        "id": "2XQx7B8LKH3c"
      },
      "outputs": [],
      "source": [
        "# initialize models, here we are comparing: simple, traditional, and neural networks based models\n",
        "models = [\n",
        "          # 1: Random\n",
        "          # 2: MostPop\n",
        "          MostPop(),\n",
        "          # 3: UserKNN\n",
        "          # 4: BPR\n",
        "          BPR(k=10, max_iter=200, learning_rate=0.001, lambda_reg=0.01, seed=123),\n",
        "          # 5: MF\n",
        "          MF(k=30, max_iter=100, learning_rate=0.01, lambda_reg=0.001, seed=123),\n",
        "          # 6: PMF\n",
        "          PMF(k=10, max_iter=100, learning_rate=0.001, lambda_reg=0.001),\n",
        "          # 7: NMF\n",
        "          NMF(k=15, max_iter=50, learning_rate=0.005, lambda_u=0.06, lambda_v=0.06, lambda_bu=0.02, lambda_bi=0.02, use_bias=False, verbose=True, seed=123),\n",
        "          # 8: WMF\n",
        "          WMF(k=50, max_iter=50, learning_rate=0.001, lambda_u=0.01, lambda_v=0.01, verbose=True, seed=123),\n",
        "          # 9: PF\n",
        "          HPF(k=50, seed=123, hierarchical=False, name=\"PF\"),\n",
        "          # 10: NueMF\n",
        "          NeuMF(num_factors=8, layers=[32, 16, 8], act_fn=\"tanh\", num_epochs=1, num_neg=3, batch_size=256, lr=0.001, seed=42, verbose=True),\n",
        "          # 11: VAECF\n",
        "          VAECF(k=10, autoencoder_structure=[20], act_fn=\"tanh\", likelihood=\"mult\", n_epochs=100, batch_size=100, learning_rate=0.001, beta=1.0, seed=123, use_gpu=True, verbose=True)\n",
        "          ]\n",
        "exp_result_copy = []"
      ]
    },
    {
      "cell_type": "code",
      "execution_count": 510,
      "metadata": {
        "id": "4Vos3Py2MLZq"
      },
      "outputs": [
        {
          "name": "stderr",
          "output_type": "stream",
          "text": [
            "100%|██████████| 100/100 [00:24<00:00,  4.16it/s, loss=0.317]\n"
          ]
        },
        {
          "name": "stdout",
          "output_type": "stream",
          "text": [
            "\n",
            "TEST:\n",
            "...\n",
            "      |    MAE |     MSE |   RMSE |    AUC |  F1@10 |  F1@20 |   F1@5 |  F1@50 |    MAP |    MRR | NDCG@10 | NDCG@20 | NDCG@5 | NDCG@50 | Precision@10 | Precision@20 | Precision@5 | Precision@50 | Recall@10 | Recall@20 | Recall@5 | Recall@50 | Train (s) | Test (s)\n",
            "----- + ------ + ------- + ------ + ------ + ------ + ------ + ------ + ------ + ------ + ------ + ------- + ------- + ------ + ------- + ------------ + ------------ + ----------- + ------------ + --------- + --------- + -------- + --------- + --------- + --------\n",
            "VAECF | 6.7603 | 48.9851 | 6.8044 | 0.6614 | 0.0171 | 0.0138 | 0.0160 | 0.0105 | 0.0319 | 0.0414 |  0.0371 |  0.0459 | 0.0265 |  0.0628 |       0.0103 |       0.0076 |      0.0109 |       0.0055 |    0.0694 |    0.1006 |   0.0396 |    0.1780 |   24.0635 |   3.9551\n",
            "\n"
          ]
        },
        {
          "name": "stderr",
          "output_type": "stream",
          "text": [
            "100%|██████████| 100/100 [00:24<00:00,  4.10it/s, loss=0.338]\n"
          ]
        },
        {
          "name": "stdout",
          "output_type": "stream",
          "text": [
            "\n",
            "TEST:\n",
            "...\n",
            "      |    MAE |     MSE |   RMSE |    AUC |  F1@10 |  F1@20 |   F1@5 |  F1@50 |    MAP |    MRR | NDCG@10 | NDCG@20 | NDCG@5 | NDCG@50 | Precision@10 | Precision@20 | Precision@5 | Precision@50 | Recall@10 | Recall@20 | Recall@5 | Recall@50 | Train (s) | Test (s)\n",
            "----- + ------ + ------- + ------ + ------ + ------ + ------ + ------ + ------ + ------ + ------ + ------- + ------- + ------ + ------- + ------------ + ------------ + ----------- + ------------ + --------- + --------- + -------- + --------- + --------- + --------\n",
            "VAECF | 6.8143 | 49.3186 | 6.8604 | 0.6828 | 0.0157 | 0.0151 | 0.0175 | 0.0111 | 0.0285 | 0.0440 |  0.0314 |  0.0446 | 0.0242 |  0.0611 |       0.0097 |       0.0084 |      0.0127 |       0.0058 |    0.0543 |    0.1021 |   0.0349 |    0.1771 |   24.4073 |   3.9130\n",
            "\n"
          ]
        },
        {
          "name": "stderr",
          "output_type": "stream",
          "text": [
            "100%|██████████| 100/100 [00:22<00:00,  4.50it/s, loss=0.324]\n"
          ]
        },
        {
          "name": "stdout",
          "output_type": "stream",
          "text": [
            "\n",
            "TEST:\n",
            "...\n",
            "      |    MAE |     MSE |   RMSE |    AUC |  F1@10 |  F1@20 |   F1@5 |  F1@50 |    MAP |    MRR | NDCG@10 | NDCG@20 | NDCG@5 | NDCG@50 | Precision@10 | Precision@20 | Precision@5 | Precision@50 | Recall@10 | Recall@20 | Recall@5 | Recall@50 | Train (s) | Test (s)\n",
            "----- + ------ + ------- + ------ + ------ + ------ + ------ + ------ + ------ + ------ + ------ + ------- + ------- + ------ + ------- + ------------ + ------------ + ----------- + ------------ + --------- + --------- + -------- + --------- + --------- + --------\n",
            "VAECF | 6.7030 | 48.2517 | 6.7473 | 0.6757 | 0.0154 | 0.0145 | 0.0198 | 0.0106 | 0.0341 | 0.0504 |  0.0371 |  0.0491 | 0.0320 |  0.0637 |       0.0094 |       0.0081 |      0.0138 |       0.0055 |    0.0585 |    0.1009 |   0.0441 |    0.1645 |   22.2230 |   3.8602\n",
            "\n"
          ]
        },
        {
          "name": "stderr",
          "output_type": "stream",
          "text": [
            "100%|██████████| 100/100 [00:20<00:00,  4.88it/s, loss=0.32]\n"
          ]
        },
        {
          "name": "stdout",
          "output_type": "stream",
          "text": [
            "\n",
            "TEST:\n",
            "...\n",
            "      |    MAE |     MSE |   RMSE |    AUC |  F1@10 |  F1@20 |   F1@5 |  F1@50 |    MAP |    MRR | NDCG@10 | NDCG@20 | NDCG@5 | NDCG@50 | Precision@10 | Precision@20 | Precision@5 | Precision@50 | Recall@10 | Recall@20 | Recall@5 | Recall@50 | Train (s) | Test (s)\n",
            "----- + ------ + ------- + ------ + ------ + ------ + ------ + ------ + ------ + ------ + ------ + ------- + ------- + ------ + ------- + ------------ + ------------ + ----------- + ------------ + --------- + --------- + -------- + --------- + --------- + --------\n",
            "VAECF | 6.7607 | 48.8562 | 6.7981 | 0.6743 | 0.0141 | 0.0138 | 0.0121 | 0.0108 | 0.0236 | 0.0349 |  0.0261 |  0.0382 | 0.0166 |  0.0559 |       0.0085 |       0.0076 |      0.0085 |       0.0056 |    0.0537 |    0.0967 |   0.0268 |    0.1764 |   20.5205 |   3.6484\n",
            "\n"
          ]
        },
        {
          "name": "stderr",
          "output_type": "stream",
          "text": [
            "100%|██████████| 100/100 [00:20<00:00,  4.91it/s, loss=0.33]\n"
          ]
        },
        {
          "name": "stdout",
          "output_type": "stream",
          "text": [
            "\n",
            "TEST:\n",
            "...\n",
            "      |    MAE |     MSE |   RMSE |    AUC |  F1@10 |  F1@20 |   F1@5 |  F1@50 |    MAP |    MRR | NDCG@10 | NDCG@20 | NDCG@5 | NDCG@50 | Precision@10 | Precision@20 | Precision@5 | Precision@50 | Recall@10 | Recall@20 | Recall@5 | Recall@50 | Train (s) | Test (s)\n",
            "----- + ------ + ------- + ------ + ------ + ------ + ------ + ------ + ------ + ------ + ------ + ------- + ------- + ------ + ------- + ------------ + ------------ + ----------- + ------------ + --------- + --------- + -------- + --------- + --------- + --------\n",
            "VAECF | 6.9465 | 51.1128 | 6.9824 | 0.6813 | 0.0148 | 0.0135 | 0.0155 | 0.0114 | 0.0281 | 0.0395 |  0.0300 |  0.0411 | 0.0226 |  0.0596 |       0.0092 |       0.0075 |      0.0112 |       0.0060 |    0.0541 |    0.0956 |   0.0328 |    0.1771 |   20.3650 |   3.7721\n",
            "\n"
          ]
        },
        {
          "name": "stderr",
          "output_type": "stream",
          "text": [
            "100%|██████████| 100/100 [00:21<00:00,  4.71it/s, loss=0.332]\n"
          ]
        },
        {
          "name": "stdout",
          "output_type": "stream",
          "text": [
            "\n",
            "TEST:\n",
            "...\n",
            "      |    MAE |     MSE |   RMSE |    AUC |  F1@10 |  F1@20 |   F1@5 |  F1@50 |    MAP |    MRR | NDCG@10 | NDCG@20 | NDCG@5 | NDCG@50 | Precision@10 | Precision@20 | Precision@5 | Precision@50 | Recall@10 | Recall@20 | Recall@5 | Recall@50 | Train (s) | Test (s)\n",
            "----- + ------ + ------- + ------ + ------ + ------ + ------ + ------ + ------ + ------ + ------ + ------- + ------- + ------ + ------- + ------------ + ------------ + ----------- + ------------ + --------- + --------- + -------- + --------- + --------- + --------\n",
            "VAECF | 6.7269 | 48.7120 | 6.7709 | 0.6888 | 0.0189 | 0.0157 | 0.0194 | 0.0113 | 0.0364 | 0.0515 |  0.0419 |  0.0523 | 0.0316 |  0.0685 |       0.0114 |       0.0087 |      0.0134 |       0.0059 |    0.0714 |    0.1090 |   0.0427 |    0.1829 |   21.2386 |   3.9876\n",
            "\n"
          ]
        },
        {
          "name": "stderr",
          "output_type": "stream",
          "text": [
            "100%|██████████| 100/100 [00:20<00:00,  4.91it/s, loss=0.325]\n"
          ]
        },
        {
          "name": "stdout",
          "output_type": "stream",
          "text": [
            "\n",
            "TEST:\n",
            "...\n",
            "      |    MAE |     MSE |   RMSE |    AUC |  F1@10 |  F1@20 |   F1@5 |  F1@50 |    MAP |    MRR | NDCG@10 | NDCG@20 | NDCG@5 | NDCG@50 | Precision@10 | Precision@20 | Precision@5 | Precision@50 | Recall@10 | Recall@20 | Recall@5 | Recall@50 | Train (s) | Test (s)\n",
            "----- + ------ + ------- + ------ + ------ + ------ + ------ + ------ + ------ + ------ + ------ + ------- + ------- + ------ + ------- + ------------ + ------------ + ----------- + ------------ + --------- + --------- + -------- + --------- + --------- + --------\n",
            "VAECF | 6.8619 | 50.0499 | 6.9067 | 0.6408 | 0.0114 | 0.0099 | 0.0105 | 0.0075 | 0.0233 | 0.0328 |  0.0246 |  0.0312 | 0.0178 |  0.0425 |       0.0070 |       0.0056 |      0.0075 |       0.0040 |    0.0418 |    0.0652 |   0.0231 |    0.1149 |   20.3590 |   3.6430\n",
            "\n"
          ]
        },
        {
          "name": "stderr",
          "output_type": "stream",
          "text": [
            "100%|██████████| 100/100 [00:20<00:00,  4.97it/s, loss=0.322]\n"
          ]
        },
        {
          "name": "stdout",
          "output_type": "stream",
          "text": [
            "\n",
            "TEST:\n",
            "...\n",
            "      |    MAE |     MSE |   RMSE |    AUC |  F1@10 |  F1@20 |   F1@5 |  F1@50 |    MAP |    MRR | NDCG@10 | NDCG@20 | NDCG@5 | NDCG@50 | Precision@10 | Precision@20 | Precision@5 | Precision@50 | Recall@10 | Recall@20 | Recall@5 | Recall@50 | Train (s) | Test (s)\n",
            "----- + ------ + ------- + ------ + ------ + ------ + ------ + ------ + ------ + ------ + ------ + ------- + ------- + ------ + ------- + ------------ + ------------ + ----------- + ------------ + --------- + --------- + -------- + --------- + --------- + --------\n",
            "VAECF | 6.7740 | 49.1276 | 6.8253 | 0.6667 | 0.0168 | 0.0131 | 0.0152 | 0.0102 | 0.0278 | 0.0376 |  0.0324 |  0.0399 | 0.0221 |  0.0573 |       0.0103 |       0.0073 |      0.0108 |       0.0054 |    0.0609 |    0.0881 |   0.0334 |    0.1661 |   20.1466 |   3.6345\n",
            "\n"
          ]
        },
        {
          "name": "stderr",
          "output_type": "stream",
          "text": [
            "100%|██████████| 100/100 [00:20<00:00,  4.77it/s, loss=0.333]\n"
          ]
        },
        {
          "name": "stdout",
          "output_type": "stream",
          "text": [
            "\n",
            "TEST:\n",
            "...\n",
            "      |    MAE |     MSE |   RMSE |    AUC |  F1@10 |  F1@20 |   F1@5 |  F1@50 |    MAP |    MRR | NDCG@10 | NDCG@20 | NDCG@5 | NDCG@50 | Precision@10 | Precision@20 | Precision@5 | Precision@50 | Recall@10 | Recall@20 | Recall@5 | Recall@50 | Train (s) | Test (s)\n",
            "----- + ------ + ------- + ------ + ------ + ------ + ------ + ------ + ------ + ------ + ------ + ------- + ------- + ------ + ------- + ------------ + ------------ + ----------- + ------------ + --------- + --------- + -------- + --------- + --------- + --------\n",
            "VAECF | 6.8184 | 49.9253 | 6.8638 | 0.6973 | 0.0158 | 0.0147 | 0.0174 | 0.0107 | 0.0324 | 0.0451 |  0.0355 |  0.0476 | 0.0274 |  0.0634 |       0.0094 |       0.0081 |      0.0117 |       0.0056 |    0.0632 |    0.1072 |   0.0399 |    0.1786 |   20.9750 |   3.8021\n",
            "\n"
          ]
        },
        {
          "name": "stderr",
          "output_type": "stream",
          "text": [
            "100%|██████████| 100/100 [00:21<00:00,  4.64it/s, loss=0.324]\n"
          ]
        },
        {
          "name": "stdout",
          "output_type": "stream",
          "text": [
            "\n",
            "TEST:\n",
            "...\n",
            "      |    MAE |     MSE |   RMSE |    AUC |  F1@10 |  F1@20 |   F1@5 |  F1@50 |    MAP |    MRR | NDCG@10 | NDCG@20 | NDCG@5 | NDCG@50 | Precision@10 | Precision@20 | Precision@5 | Precision@50 | Recall@10 | Recall@20 | Recall@5 | Recall@50 | Train (s) | Test (s)\n",
            "----- + ------ + ------- + ------ + ------ + ------ + ------ + ------ + ------ + ------ + ------ + ------- + ------- + ------ + ------- + ------------ + ------------ + ----------- + ------------ + --------- + --------- + -------- + --------- + --------- + --------\n",
            "VAECF | 6.7515 | 48.6997 | 6.7937 | 0.6725 | 0.0178 | 0.0142 | 0.0188 | 0.0103 | 0.0316 | 0.0458 |  0.0378 |  0.0448 | 0.0286 |  0.0595 |       0.0107 |       0.0079 |      0.0130 |       0.0054 |    0.0672 |    0.0893 |   0.0420 |    0.1537 |   21.5671 |   6.6752\n",
            "\n"
          ]
        },
        {
          "name": "stderr",
          "output_type": "stream",
          "text": [
            "100%|██████████| 100/100 [00:36<00:00,  2.73it/s, loss=0.328]\n"
          ]
        },
        {
          "name": "stdout",
          "output_type": "stream",
          "text": [
            "\n",
            "TEST:\n",
            "...\n",
            "      |    MAE |     MSE |   RMSE |    AUC |  F1@10 |  F1@20 |   F1@5 |  F1@50 |    MAP |    MRR | NDCG@10 | NDCG@20 | NDCG@5 | NDCG@50 | Precision@10 | Precision@20 | Precision@5 | Precision@50 | Recall@10 | Recall@20 | Recall@5 | Recall@50 | Train (s) | Test (s)\n",
            "----- + ------ + ------- + ------ + ------ + ------ + ------ + ------ + ------ + ------ + ------ + ------- + ------- + ------ + ------- + ------------ + ------------ + ----------- + ------------ + --------- + --------- + -------- + --------- + --------- + --------\n",
            "VAECF | 6.9101 | 51.0679 | 6.9477 | 0.6573 | 0.0121 | 0.0121 | 0.0114 | 0.0109 | 0.0229 | 0.0314 |  0.0235 |  0.0337 | 0.0163 |  0.0529 |       0.0073 |       0.0068 |      0.0079 |       0.0057 |    0.0460 |    0.0813 |   0.0259 |    0.1653 |   36.6255 |   6.0269\n",
            "\n"
          ]
        },
        {
          "name": "stderr",
          "output_type": "stream",
          "text": [
            "100%|██████████| 100/100 [00:41<00:00,  2.41it/s, loss=0.325]\n"
          ]
        },
        {
          "name": "stdout",
          "output_type": "stream",
          "text": [
            "\n",
            "TEST:\n",
            "...\n",
            "      |    MAE |     MSE |   RMSE |    AUC |  F1@10 |  F1@20 |   F1@5 |  F1@50 |    MAP |    MRR | NDCG@10 | NDCG@20 | NDCG@5 | NDCG@50 | Precision@10 | Precision@20 | Precision@5 | Precision@50 | Recall@10 | Recall@20 | Recall@5 | Recall@50 | Train (s) | Test (s)\n",
            "----- + ------ + ------- + ------ + ------ + ------ + ------ + ------ + ------ + ------ + ------ + ------- + ------- + ------ + ------- + ------------ + ------------ + ----------- + ------------ + --------- + --------- + -------- + --------- + --------- + --------\n",
            "VAECF | 6.7320 | 48.5462 | 6.7701 | 0.6866 | 0.0154 | 0.0139 | 0.0181 | 0.0106 | 0.0322 | 0.0455 |  0.0349 |  0.0455 | 0.0287 |  0.0623 |       0.0094 |       0.0077 |      0.0126 |       0.0055 |    0.0591 |    0.0965 |   0.0421 |    0.1735 |   41.5717 |   7.2091\n",
            "\n"
          ]
        },
        {
          "name": "stderr",
          "output_type": "stream",
          "text": [
            "100%|██████████| 100/100 [00:24<00:00,  4.04it/s, loss=0.321]\n"
          ]
        },
        {
          "name": "stdout",
          "output_type": "stream",
          "text": [
            "\n",
            "TEST:\n",
            "...\n",
            "      |    MAE |     MSE |   RMSE |    AUC |  F1@10 |  F1@20 |   F1@5 |  F1@50 |    MAP |    MRR | NDCG@10 | NDCG@20 | NDCG@5 | NDCG@50 | Precision@10 | Precision@20 | Precision@5 | Precision@50 | Recall@10 | Recall@20 | Recall@5 | Recall@50 | Train (s) | Test (s)\n",
            "----- + ------ + ------- + ------ + ------ + ------ + ------ + ------ + ------ + ------ + ------ + ------- + ------- + ------ + ------- + ------------ + ------------ + ----------- + ------------ + --------- + --------- + -------- + --------- + --------- + --------\n",
            "VAECF | 6.6909 | 48.0699 | 6.7403 | 0.6693 | 0.0121 | 0.0129 | 0.0137 | 0.0100 | 0.0271 | 0.0397 |  0.0270 |  0.0388 | 0.0212 |  0.0542 |       0.0074 |       0.0072 |      0.0098 |       0.0053 |    0.0451 |    0.0859 |   0.0288 |    0.1527 |   24.7846 |   4.0898\n",
            "\n"
          ]
        },
        {
          "name": "stderr",
          "output_type": "stream",
          "text": [
            "100%|██████████| 100/100 [00:24<00:00,  4.15it/s, loss=0.32]\n"
          ]
        },
        {
          "name": "stdout",
          "output_type": "stream",
          "text": [
            "\n",
            "TEST:\n",
            "...\n",
            "      |    MAE |     MSE |   RMSE |    AUC |  F1@10 |  F1@20 |   F1@5 |  F1@50 |    MAP |    MRR | NDCG@10 | NDCG@20 | NDCG@5 | NDCG@50 | Precision@10 | Precision@20 | Precision@5 | Precision@50 | Recall@10 | Recall@20 | Recall@5 | Recall@50 | Train (s) | Test (s)\n",
            "----- + ------ + ------- + ------ + ------ + ------ + ------ + ------ + ------ + ------ + ------ + ------- + ------- + ------ + ------- + ------------ + ------------ + ----------- + ------------ + --------- + --------- + -------- + --------- + --------- + --------\n",
            "VAECF | 6.8072 | 49.4136 | 6.8455 | 0.6648 | 0.0177 | 0.0135 | 0.0158 | 0.0105 | 0.0288 | 0.0388 |  0.0346 |  0.0422 | 0.0227 |  0.0586 |       0.0106 |       0.0075 |      0.0109 |       0.0055 |    0.0662 |    0.0935 |   0.0339 |    0.1673 |   24.0911 |   4.0274\n",
            "\n"
          ]
        },
        {
          "name": "stderr",
          "output_type": "stream",
          "text": [
            "100%|██████████| 100/100 [00:22<00:00,  4.45it/s, loss=0.325]\n"
          ]
        },
        {
          "name": "stdout",
          "output_type": "stream",
          "text": [
            "\n",
            "TEST:\n",
            "...\n",
            "      |    MAE |     MSE |   RMSE |    AUC |  F1@10 |  F1@20 |   F1@5 |  F1@50 |    MAP |    MRR | NDCG@10 | NDCG@20 | NDCG@5 | NDCG@50 | Precision@10 | Precision@20 | Precision@5 | Precision@50 | Recall@10 | Recall@20 | Recall@5 | Recall@50 | Train (s) | Test (s)\n",
            "----- + ------ + ------- + ------ + ------ + ------ + ------ + ------ + ------ + ------ + ------ + ------- + ------- + ------ + ------- + ------------ + ------------ + ----------- + ------------ + --------- + --------- + -------- + --------- + --------- + --------\n",
            "VAECF | 6.8791 | 50.4612 | 6.9243 | 0.6902 | 0.0166 | 0.0152 | 0.0187 | 0.0117 | 0.0323 | 0.0425 |  0.0352 |  0.0468 | 0.0275 |  0.0643 |       0.0101 |       0.0085 |      0.0130 |       0.0061 |    0.0625 |    0.1037 |   0.0413 |    0.1817 |   22.4863 |   4.0329\n",
            "\n"
          ]
        },
        {
          "name": "stderr",
          "output_type": "stream",
          "text": [
            "100%|██████████| 100/100 [00:22<00:00,  4.37it/s, loss=0.33]\n"
          ]
        },
        {
          "name": "stdout",
          "output_type": "stream",
          "text": [
            "\n",
            "TEST:\n",
            "...\n",
            "      |    MAE |     MSE |   RMSE |    AUC |  F1@10 |  F1@20 |   F1@5 |  F1@50 |    MAP |    MRR | NDCG@10 | NDCG@20 | NDCG@5 | NDCG@50 | Precision@10 | Precision@20 | Precision@5 | Precision@50 | Recall@10 | Recall@20 | Recall@5 | Recall@50 | Train (s) | Test (s)\n",
            "----- + ------ + ------- + ------ + ------ + ------ + ------ + ------ + ------ + ------ + ------ + ------- + ------- + ------ + ------- + ------------ + ------------ + ----------- + ------------ + --------- + --------- + -------- + --------- + --------- + --------\n",
            "VAECF | 6.6989 | 48.4038 | 6.7467 | 0.6946 | 0.0166 | 0.0150 | 0.0161 | 0.0123 | 0.0334 | 0.0459 |  0.0367 |  0.0478 | 0.0264 |  0.0688 |       0.0099 |       0.0083 |      0.0110 |       0.0064 |    0.0679 |    0.1067 |   0.0384 |    0.2001 |   22.9080 |   4.2098\n",
            "\n"
          ]
        },
        {
          "name": "stderr",
          "output_type": "stream",
          "text": [
            "100%|██████████| 100/100 [00:23<00:00,  4.25it/s, loss=0.314]\n"
          ]
        },
        {
          "name": "stdout",
          "output_type": "stream",
          "text": [
            "\n",
            "TEST:\n",
            "...\n",
            "      |    MAE |     MSE |   RMSE |    AUC |  F1@10 |  F1@20 |   F1@5 |  F1@50 |    MAP |    MRR | NDCG@10 | NDCG@20 | NDCG@5 | NDCG@50 | Precision@10 | Precision@20 | Precision@5 | Precision@50 | Recall@10 | Recall@20 | Recall@5 | Recall@50 | Train (s) | Test (s)\n",
            "----- + ------ + ------- + ------ + ------ + ------ + ------ + ------ + ------ + ------ + ------ + ------- + ------- + ------ + ------- + ------------ + ------------ + ----------- + ------------ + --------- + --------- + -------- + --------- + --------- + --------\n",
            "VAECF | 6.7504 | 48.8768 | 6.7953 | 0.6856 | 0.0191 | 0.0157 | 0.0182 | 0.0108 | 0.0359 | 0.0480 |  0.0416 |  0.0523 | 0.0304 |  0.0675 |       0.0114 |       0.0087 |      0.0123 |       0.0056 |    0.0744 |    0.1128 |   0.0434 |    0.1828 |   23.5114 |   4.0560\n",
            "\n"
          ]
        },
        {
          "name": "stderr",
          "output_type": "stream",
          "text": [
            "100%|██████████| 100/100 [00:23<00:00,  4.26it/s, loss=0.337]\n"
          ]
        },
        {
          "name": "stdout",
          "output_type": "stream",
          "text": [
            "\n",
            "TEST:\n",
            "...\n",
            "      |    MAE |     MSE |   RMSE |    AUC |  F1@10 |  F1@20 |   F1@5 |  F1@50 |    MAP |    MRR | NDCG@10 | NDCG@20 | NDCG@5 | NDCG@50 | Precision@10 | Precision@20 | Precision@5 | Precision@50 | Recall@10 | Recall@20 | Recall@5 | Recall@50 | Train (s) | Test (s)\n",
            "----- + ------ + ------- + ------ + ------ + ------ + ------ + ------ + ------ + ------ + ------ + ------- + ------- + ------ + ------- + ------------ + ------------ + ----------- + ------------ + --------- + --------- + -------- + --------- + --------- + --------\n",
            "VAECF | 6.8265 | 49.7358 | 6.8673 | 0.6839 | 0.0164 | 0.0137 | 0.0172 | 0.0100 | 0.0350 | 0.0493 |  0.0391 |  0.0480 | 0.0300 |  0.0625 |       0.0098 |       0.0076 |      0.0121 |       0.0052 |    0.0647 |    0.0960 |   0.0385 |    0.1604 |   23.4970 |   4.2827\n",
            "\n"
          ]
        },
        {
          "name": "stderr",
          "output_type": "stream",
          "text": [
            "100%|██████████| 100/100 [00:28<00:00,  3.50it/s, loss=0.318]\n"
          ]
        },
        {
          "name": "stdout",
          "output_type": "stream",
          "text": [
            "\n",
            "TEST:\n",
            "...\n",
            "      |    MAE |     MSE |   RMSE |    AUC |  F1@10 |  F1@20 |   F1@5 |  F1@50 |    MAP |    MRR | NDCG@10 | NDCG@20 | NDCG@5 | NDCG@50 | Precision@10 | Precision@20 | Precision@5 | Precision@50 | Recall@10 | Recall@20 | Recall@5 | Recall@50 | Train (s) | Test (s)\n",
            "----- + ------ + ------- + ------ + ------ + ------ + ------ + ------ + ------ + ------ + ------ + ------- + ------- + ------ + ------- + ------------ + ------------ + ----------- + ------------ + --------- + --------- + -------- + --------- + --------- + --------\n",
            "VAECF | 6.7423 | 48.8076 | 6.7835 | 0.6840 | 0.0180 | 0.0151 | 0.0162 | 0.0119 | 0.0316 | 0.0458 |  0.0362 |  0.0452 | 0.0250 |  0.0643 |       0.0110 |       0.0085 |      0.0114 |       0.0062 |    0.0637 |    0.0939 |   0.0346 |    0.1801 |   28.6042 |   5.3553\n",
            "\n"
          ]
        },
        {
          "name": "stderr",
          "output_type": "stream",
          "text": [
            "100%|██████████| 100/100 [00:26<00:00,  3.82it/s, loss=0.35]\n"
          ]
        },
        {
          "name": "stdout",
          "output_type": "stream",
          "text": [
            "\n",
            "TEST:\n",
            "...\n",
            "      |    MAE |     MSE |   RMSE |    AUC |  F1@10 |  F1@20 |   F1@5 |  F1@50 |    MAP |    MRR | NDCG@10 | NDCG@20 | NDCG@5 | NDCG@50 | Precision@10 | Precision@20 | Precision@5 | Precision@50 | Recall@10 | Recall@20 | Recall@5 | Recall@50 | Train (s) | Test (s)\n",
            "----- + ------ + ------- + ------ + ------ + ------ + ------ + ------ + ------ + ------ + ------ + ------- + ------- + ------ + ------- + ------------ + ------------ + ----------- + ------------ + --------- + --------- + -------- + --------- + --------- + --------\n",
            "VAECF | 6.8161 | 49.7184 | 6.8716 | 0.6894 | 0.0162 | 0.0164 | 0.0138 | 0.0122 | 0.0275 | 0.0397 |  0.0302 |  0.0447 | 0.0199 |  0.0632 |       0.0099 |       0.0092 |      0.0095 |       0.0064 |    0.0588 |    0.1091 |   0.0307 |    0.1915 |   26.1923 |   4.6000\n",
            "\n"
          ]
        }
      ],
      "source": [
        "# define metrics to evaluate the models\n",
        "metrics = [MAE(), MSE(), RMSE(), AUC(), MAP(), MRR(), \n",
        "           Precision(k=5), Precision(k=10), Precision(k=20), Precision(k=50),\n",
        "           Recall(k=5), Recall(k=10), Recall(k=20), Recall(k=50),\n",
        "           NDCG(k=5), NDCG(k=10), NDCG(k=20), NDCG(k=50),\n",
        "           FMeasure(k=5), FMeasure(k=10), FMeasure(k=20), FMeasure(k=50)]\n",
        "\n",
        "# put it together in an experiment, voilà!\n",
        "#only VAECF\n",
        "for i in range(20):\n",
        "    exp_results = []\n",
        "\n",
        "    models = [VAECF(k=10, autoencoder_structure=[20], act_fn=\"tanh\", likelihood=\"mult\", n_epochs=100, batch_size=100, learning_rate=0.001, beta=1.0, seed=123, use_gpu=True, verbose=True)]\n",
        "\n",
        "    exp = cornac.Experiment(eval_method=rs_s[i], models=models, metrics=metrics, user_based=True)\n",
        "    exp.run()\n",
        "\n",
        "    exp_results = exp_result_copy[:]\n",
        "    exp_results.append(exp.result)\n",
        "    exp_result_copy = exp_results[:]"
      ]
    },
    {
      "cell_type": "code",
      "execution_count": 511,
      "metadata": {},
      "outputs": [],
      "source": [
        "exp_s = []\n",
        "for i in range(20):\n",
        "    exp_s.append(cornac.Experiment(eval_method=rs_s[i], models=models, metrics=metrics, user_based=True))"
      ]
    },
    {
      "cell_type": "code",
      "execution_count": 512,
      "metadata": {
        "id": "JNCOxpCEE7Y5"
      },
      "outputs": [],
      "source": [
        "def compute_user_knn(C):\n",
        "  ctime = time.time()\n",
        "  print(\"Training User-based Collaborative Filtering...\", )\n",
        "\n",
        "  sim = C.dot(C.T)\n",
        "  norms = [norm(C[i]) for i in range(C.shape[0])]\n",
        "\n",
        "  for i in tqdm(range(C.shape[0])):\n",
        "    sim[i][i] = 0.0\n",
        "    for j in range(i+1, C.shape[0]):\n",
        "      sim[i][j] /= (norms[i] * norms[j])\n",
        "      sim[j][i] /= (norms[i] * norms[j])\n",
        "\n",
        "  print(\"Done. Elapsed time:\", time.time() - ctime, \"s\")\n",
        "  rec_score = sim.dot(C)\n",
        "  return rec_score"
      ]
    },
    {
      "cell_type": "code",
      "execution_count": 513,
      "metadata": {
        "id": "ZUShlNW08Ypy"
      },
      "outputs": [],
      "source": [
        "def read_training_data():\n",
        "  training_matrix = np.zeros((rs.train_set.matrix.shape[0], rs.train_set.matrix.shape[1]))\n",
        "  for uid in tqdm(rs.train_set.uid_map.values()):\n",
        "    for iid in rs.train_set.iid_map.values():\n",
        "      training_matrix[uid, iid] = rs.train_set.matrix[uid, iid]\n",
        "  return training_matrix"
      ]
    },
    {
      "cell_type": "code",
      "execution_count": 514,
      "metadata": {
        "colab": {
          "base_uri": "https://localhost:8080/"
        },
        "id": "HtH2WxrIF32p",
        "outputId": "7fe3078c-6dad-4348-a375-f7156d07465d"
      },
      "outputs": [],
      "source": [
        "# creating users-books rating matrix (will be used for User-KNN algorithm)\n",
        "#training_matrix = read_training_data()\n",
        "training_matrices = []\n",
        "for i in range(20):\n",
        "    c = rs_s[i].train_set.matrix.tocoo()\n",
        "    #print(rs.train_set.matrix.tocoo())\n",
        "    df_training = pd.DataFrame({'user': c.row, 'item': c.col, 'rating': c.data})\n",
        "    df_training\n",
        "    #df = pd.DataFrame(data, columns=['user', 'item', 'rating'])\n",
        "    df_training_wide=pd.pivot(df_training, index=['user'], columns = 'item',values = 'rating') #Reshape from long to wide\n",
        "    df_training_wide.fillna(0,inplace=True)\n",
        "    training_matrices.append(df_training_wide.to_numpy())"
      ]
    },
    {
      "cell_type": "code",
      "execution_count": 515,
      "metadata": {},
      "outputs": [],
      "source": [
        "#c = rs.train_set.matrix.tocoo()\n",
        "##print(rs.train_set.matrix.tocoo())\n",
        "#df_training = pd.DataFrame({'user': c.row, 'item': c.col, 'rating': c.data})\n",
        "#df_training\n",
        "##df = pd.DataFrame(data, columns=['user', 'item', 'rating'])\n",
        "#df_training_wide=pd.pivot(df_training, index=['user'], columns = 'item',values = 'rating') #Reshape from long to wide\n",
        "#df_training_wide.fillna(0,inplace=True)\n",
        "#len(df_training_wide.to_numpy())\n",
        "#len(training_matrix)"
      ]
    },
    {
      "cell_type": "markdown",
      "metadata": {
        "colab": {
          "base_uri": "https://localhost:8080/"
        },
        "id": "6V1ya2PSLn0S",
        "outputId": "ab6f859f-753e-4cb1-e18a-65d8f264c0a1"
      },
      "source": [
        "# running User-KNN algorithms and getting the user-book scores\n",
        "#user_knn_scores = compute_user_knn(training_matrix)\n",
        "user_knn_scores = []\n",
        "for i in range(20):\n",
        "    user_knn_scores.append(compute_user_knn(training_matrices[i]))"
      ]
    },
    {
      "cell_type": "markdown",
      "metadata": {
        "id": "e0YTpom8NOMl"
      },
      "source": [
        "# UserKNN recommendation algorithm\n",
        "def get_top_n_UserKNN(n=10):\n",
        "    print(\"User-KNN model is selected:\")\n",
        "    top_n = defaultdict(list)\n",
        "    # test_items = list(rs.test_set.iid_map.keys())\n",
        "    for uid in rs.train_set.uid_map.values():\n",
        "      user_id = list(rs.train_set.user_ids)[uid]\n",
        "      top_n_items_idxs = list(reversed(user_knn_scores[uid].argsort()))[:n]\n",
        "      for iid in top_n_items_idxs:\n",
        "        item_id = list(rs.train_set.item_ids)[iid]\n",
        "        top_n[int(user_id)].append((int(item_id), user_knn_scores[uid][iid]))\n",
        "    return top_n"
      ]
    },
    {
      "cell_type": "code",
      "execution_count": 516,
      "metadata": {
        "id": "_Gj8T894O5kj"
      },
      "outputs": [],
      "source": [
        "def get_top_n(algo_name,k, n=10):\n",
        "  for model in exp_s[k].models:#exp.models:\n",
        "    if model.name == algo_name:\n",
        "      print(model.name + \" model is selected:\")\n",
        "      top_n = defaultdict(list)\n",
        "      for uid in model.train_set.uid_map.values():\n",
        "        user_id = list(model.train_set.user_ids)[uid]\n",
        "        try:\n",
        "          item_rank = model.rank(user_idx=uid)[0]\n",
        "        except:\n",
        "          item_rank = model.rank(user_idx=int(uid))[0]\n",
        "        # collect top N items\n",
        "        item_rank_top = item_rank[:n]\n",
        "        for iid in item_rank_top:\n",
        "          item_id = list(model.train_set.item_ids)[iid]\n",
        "          top_n[int(user_id)].append((int(item_id), model.score(uid, iid)))\n",
        "  return top_n"
      ]
    },
    {
      "cell_type": "code",
      "execution_count": 517,
      "metadata": {
        "id": "OH4d0Y6_1yR1"
      },
      "outputs": [],
      "source": [
        "# random recommendation algorithm\n",
        "def get_top_n_random(k,n=10):\n",
        "    print(\"Random model is selected:\")\n",
        "    top_n = defaultdict(list)\n",
        "    test_items = list(rs_s[k].test_set.iid_map.keys())#list(rs.test_set.iid_map.keys())\n",
        "    for uid in rs_s[k].train_set.uid_map.values():#rs.train_set.uid_map.values():\n",
        "      if uid not in top_n.keys():\n",
        "        user_id = list(rs_s[k].train_set.user_ids)[uid]#list(rs.train_set.user_ids)[uid]\n",
        "        for i in range(0, n):\n",
        "          top_n[int(user_id)].append((int(rd.choice(test_items)), i))\n",
        "    return top_n"
      ]
    },
    {
      "cell_type": "code",
      "execution_count": 518,
      "metadata": {
        "colab": {
          "base_uri": "https://localhost:8080/",
          "height": 206
        },
        "id": "hUiY22RlNqXF",
        "outputId": "2efea0e1-77b0-4209-a00e-d3308a51df70"
      },
      "outputs": [
        {
          "data": {
            "text/html": [
              "<div>\n",
              "<style scoped>\n",
              "    .dataframe tbody tr th:only-of-type {\n",
              "        vertical-align: middle;\n",
              "    }\n",
              "\n",
              "    .dataframe tbody tr th {\n",
              "        vertical-align: top;\n",
              "    }\n",
              "\n",
              "    .dataframe thead th {\n",
              "        text-align: right;\n",
              "    }\n",
              "</style>\n",
              "<table border=\"1\" class=\"dataframe\">\n",
              "  <thead>\n",
              "    <tr style=\"text-align: right;\">\n",
              "      <th></th>\n",
              "      <th>rating</th>\n",
              "    </tr>\n",
              "  </thead>\n",
              "  <tbody>\n",
              "    <tr>\n",
              "      <th>124</th>\n",
              "      <td>0.055049</td>\n",
              "    </tr>\n",
              "    <tr>\n",
              "      <th>70</th>\n",
              "      <td>0.043567</td>\n",
              "    </tr>\n",
              "    <tr>\n",
              "      <th>50</th>\n",
              "      <td>0.031299</td>\n",
              "    </tr>\n",
              "    <tr>\n",
              "      <th>465</th>\n",
              "      <td>0.029569</td>\n",
              "    </tr>\n",
              "    <tr>\n",
              "      <th>581</th>\n",
              "      <td>0.028311</td>\n",
              "    </tr>\n",
              "  </tbody>\n",
              "</table>\n",
              "</div>"
            ],
            "text/plain": [
              "       rating\n",
              "124  0.055049\n",
              "70   0.043567\n",
              "50   0.031299\n",
              "465  0.029569\n",
              "581  0.028311"
            ]
          },
          "execution_count": 518,
          "metadata": {},
          "output_type": "execute_result"
        }
      ],
      "source": [
        "# create item dataframe with normalized item counts\n",
        "df_item_dist = pd.DataFrame(item_dist)\n",
        "df_item_dist.columns = [feedback_column]\n",
        "df_item_dist[feedback_column] /= no_users\n",
        "df_item_dist.head()"
      ]
    },
    {
      "cell_type": "code",
      "execution_count": 519,
      "metadata": {
        "colab": {
          "base_uri": "https://localhost:8080/"
        },
        "id": "qNwYl8XhbnFM",
        "outputId": "8c17d3d4-be97-43df-9b1d-50474a9d3013"
      },
      "outputs": [
        {
          "name": "stdout",
          "output_type": "stream",
          "text": [
            "VAECF model is selected:\n",
            "VAECF model is selected:\n",
            "VAECF model is selected:\n",
            "VAECF model is selected:\n",
            "VAECF model is selected:\n",
            "VAECF model is selected:\n",
            "VAECF model is selected:\n",
            "VAECF model is selected:\n",
            "VAECF model is selected:\n",
            "VAECF model is selected:\n",
            "VAECF model is selected:\n",
            "VAECF model is selected:\n",
            "VAECF model is selected:\n",
            "VAECF model is selected:\n",
            "VAECF model is selected:\n",
            "VAECF model is selected:\n",
            "VAECF model is selected:\n",
            "VAECF model is selected:\n",
            "VAECF model is selected:\n",
            "VAECF model is selected:\n"
          ]
        }
      ],
      "source": [
        "#algo_names = ['Random', 'MostPop', 'UserKNN', 'MF', 'PMF', 'BPR', 'NMF', 'WMF', 'PF', 'NeuMF', 'VAECF']\n",
        "algo_names = ['VAECF']\n",
        "i = 0\n",
        "low_rec_gap_list = [] # one entry per algorithmus\n",
        "medium_rec_gap_list = []\n",
        "high_rec_gap_list = []\n",
        "\n",
        "for k in range(20):\n",
        "  for i in range(0, len(algo_names)):\n",
        "      df_item_dist[algo_names[i]] = 0\n",
        "      low_rec_gap = 0\n",
        "      medium_rec_gap = 0\n",
        "      high_rec_gap = 0\n",
        "      \n",
        "      if algo_names[i] == 'Random':\n",
        "        top_n = get_top_n_random(n=10,k=k)\n",
        "      elif algo_names[i] == 'UserKNN':\n",
        "        top_n = get_top_n_UserKNN(n=10,k=k)\n",
        "      else:\n",
        "        top_n = get_top_n(algo_names[i], n=10,k=k)\n",
        "      low_count = 0\n",
        "      med_count = 0\n",
        "      high_count = 0\n",
        "      for uid, user_ratings in top_n.items():\n",
        "          iid_list = []\n",
        "          for (iid, _) in user_ratings:\n",
        "              df_item_dist.loc[iid, algo_names[i]] += 1\n",
        "              iid_list.append(iid)\n",
        "          gap = sum(item_dist[iid_list] / no_users) / len(iid_list)\n",
        "          if uid in low_users.index:\n",
        "              low_rec_gap += gap\n",
        "              low_count += 1\n",
        "          elif uid in medium_users.index:\n",
        "              medium_rec_gap += gap\n",
        "              med_count += 1\n",
        "          elif uid in high_users.index:\n",
        "              high_rec_gap += gap\n",
        "              high_count += 1\n",
        "      low_rec_gap_list.append(low_rec_gap / low_count)\n",
        "      medium_rec_gap_list.append(medium_rec_gap / med_count)\n",
        "      high_rec_gap_list.append(high_rec_gap / high_count)\n",
        "      i += 1 # next algorithm"
      ]
    },
    {
      "cell_type": "code",
      "execution_count": 520,
      "metadata": {},
      "outputs": [
        {
          "data": {
            "text/plain": [
              "[0.02110102508026386,\n",
              " 0.02110102508026386,\n",
              " 0.02110102508026386,\n",
              " 0.02110102508026386,\n",
              " 0.02110102508026386,\n",
              " 0.02110102508026386,\n",
              " 0.02110102508026386,\n",
              " 0.02110102508026386,\n",
              " 0.02110102508026386,\n",
              " 0.02110102508026386,\n",
              " 0.02110102508026386,\n",
              " 0.02110102508026386,\n",
              " 0.02110102508026386,\n",
              " 0.02110102508026386,\n",
              " 0.02110102508026386,\n",
              " 0.02110102508026386,\n",
              " 0.02110102508026386,\n",
              " 0.02110102508026386,\n",
              " 0.02110102508026386,\n",
              " 0.02110102508026386]"
            ]
          },
          "execution_count": 520,
          "metadata": {},
          "output_type": "execute_result"
        }
      ],
      "source": [
        "low_rec_gap_list"
      ]
    },
    {
      "cell_type": "code",
      "execution_count": 521,
      "metadata": {
        "colab": {
          "base_uri": "https://localhost:8080/",
          "height": 1000
        },
        "id": "v9v_VxxKUQ2Y",
        "outputId": "0c2a6708-65aa-4531-c3b8-5a0fcc0683f4"
      },
      "outputs": [
        {
          "data": {
            "image/png": "[encoded data removed]",
            "text/plain": [
              "<Figure size 500x400 with 1 Axes>"
            ]
          },
          "metadata": {},
          "output_type": "display_data"
        }
      ],
      "source": [
        "sns.set(rc = {'figure.figsize':(5,4)})\n",
        "for i in range(0, len(algo_names)):\n",
        "    plt.figure()\n",
        "    x = df_item_dist[feedback_column]\n",
        "    y = df_item_dist[algo_names[i]]\n",
        "\n",
        "    plt.plot(x, y, 'o')\n",
        "    plt.xlabel('Book popularity', fontsize='15')\n",
        "    plt.ylabel('Recommendation frequency', fontsize='15')\n",
        "    plt.xticks(fontsize='13')\n",
        "    plt.yticks(fontsize='13')\n",
        "    plt.savefig('rec_' + algo_names[i] + '.pdf', dpi=300, bbox_inches='tight')"
      ]
    },
    {
      "cell_type": "code",
      "execution_count": 522,
      "metadata": {
        "id": "SDEdW_ThU8GE"
      },
      "outputs": [],
      "source": [
        "low_gap_vals = []\n",
        "medium_gap_vals = []\n",
        "high_gap_vals = []\n",
        "for k in range(20):\n",
        "    for i in range(0, len(algo_names)):\n",
        "        low_gap_vals.append((low_rec_gap_list[k] - low_gap) / low_gap * 100)\n",
        "        medium_gap_vals.append((medium_rec_gap_list[k] - medium_gap) / medium_gap * 100)\n",
        "        high_gap_vals.append((high_rec_gap_list[k] - high_gap) / high_gap * 100)"
      ]
    },
    {
      "cell_type": "code",
      "execution_count": 523,
      "metadata": {},
      "outputs": [],
      "source": [
        "#low_gap_vals[0]\n",
        "#exp_result_copy[2][0]\n",
        "#exp.result"
      ]
    },
    {
      "cell_type": "markdown",
      "metadata": {
        "colab": {
          "base_uri": "https://localhost:8080/",
          "height": 289
        },
        "id": "rqh13dz7VDJT",
        "outputId": "b630c548-581d-41bc-d857-c97d569b5917"
      },
      "source": [
        "sns.set(rc = {'figure.figsize':(8,4)})\n",
        "\n",
        "# set width of bar\n",
        "barWidth = 0.07\n",
        "\n",
        "# set height of bar\n",
        "#bars1 = [low_gap_vals[0], medium_gap_vals[0], high_gap_vals[0]]\n",
        "#bars2 = [low_gap_vals[1], medium_gap_vals[1], high_gap_vals[1]]\n",
        "#bars3 = [low_gap_vals[2], medium_gap_vals[2], high_gap_vals[2]]\n",
        "#bars4 = [low_gap_vals[3], medium_gap_vals[3], high_gap_vals[3]]\n",
        "#bars5 = [low_gap_vals[4], medium_gap_vals[4], high_gap_vals[4]]\n",
        "#bars6 = [low_gap_vals[5], medium_gap_vals[5], high_gap_vals[5]]\n",
        "#bars7 = [low_gap_vals[6], medium_gap_vals[6], high_gap_vals[6]]\n",
        "#bars8 = [low_gap_vals[7], medium_gap_vals[7], high_gap_vals[7]]\n",
        "#bars9 = [low_gap_vals[8], medium_gap_vals[8], high_gap_vals[8]]\n",
        "#bars10 = [low_gap_vals[9], medium_gap_vals[9], high_gap_vals[9]]\n",
        "#bars11 = [low_gap_vals[10], medium_gap_vals[10], high_gap_vals[10]]\n",
        "bars11 = [low_gap_vals[0], medium_gap_vals[0], high_gap_vals[0]]\n",
        "\n",
        "# Set position of bar on X axis\n",
        "r1 = np.arange(len(bars1))\n",
        "r2 = [x + barWidth for x in r1]\n",
        "r3 = [x + barWidth for x in r2]\n",
        "r4 = [x + barWidth for x in r3]\n",
        "r5 = [x + barWidth for x in r4]\n",
        "r6 = [x + barWidth for x in r5]\n",
        "r7 = [x + barWidth for x in r6]\n",
        "r8 = [x + barWidth for x in r7]\n",
        "r9 = [x + barWidth for x in r8]\n",
        "r10 = [x + barWidth for x in r9]\n",
        "r11 = [x + barWidth for x in r10]\n",
        "# r12 = [x + barWidth for x in r11]\n",
        "# r13 = [x + barWidth for x in r12]\n",
        "\n",
        "# ['Random', 'MostPop', 'UserKNN', 'MF', 'PMF', 'BPR', 'NMF', 'WMF', 'PF', 'NeuMF', 'VAECF']\n",
        "patterns = [ \"/\" , \"\\\\\" , \"|\" , \"-\" , \"+\" , \"x\", \"o\", \"O\", \".\", \"*\", \"--\"]\n",
        "\n",
        "## Make the plot\n",
        "#plt.bar(r1, bars1, width=barWidth, label='Random', hatch=patterns[0])\n",
        "#plt.bar(r2, bars2, width=barWidth, label='MostPop', hatch=patterns[1])\n",
        "#plt.bar(r3, bars3, width=barWidth, label='UserKNN', hatch=patterns[2])\n",
        "#plt.bar(r4, bars4, width=barWidth, label='MF', hatch=patterns[3])\n",
        "#plt.bar(r5, bars5, width=barWidth, label='PMF', hatch=patterns[4])\n",
        "#plt.bar(r6, bars6, width=barWidth, label='BPR', hatch=patterns[5])\n",
        "#plt.bar(r7, bars7, width=barWidth, label='NMF', hatch=patterns[6])\n",
        "#plt.bar(r8, bars8, width=barWidth, label='WMF', hatch=patterns[7])\n",
        "#plt.bar(r9, bars9, width=barWidth, label='PF', hatch=patterns[8])\n",
        "#plt.bar(r10, bars10, width=barWidth, label='NeuMF', hatch=patterns[9])\n",
        "plt.bar(r11, bars11, width=barWidth, label='VAECF', hatch=patterns[10])\n",
        "\n",
        "# Add xticks on the middle of the group bars + show legend\n",
        "plt.xlabel('User group', fontsize='14')\n",
        "plt.ylabel('% $\\Delta$ GAP', fontsize='14')\n",
        "plt.xticks([r + barWidth + 0.3 for r in range(len(bars1))], ['Niche', 'Diverse', 'BestSeller'], fontsize='13')\n",
        "plt.yticks(fontsize='10')\n",
        "plt.legend(bbox_to_anchor=(1.02, 1), loc=2, borderaxespad=0., framealpha=1, fontsize='12')\n",
        "plt.savefig('gap_analysis.pdf', dpi=300, bbox_inches='tight')"
      ]
    },
    {
      "cell_type": "code",
      "execution_count": 582,
      "metadata": {
        "colab": {
          "base_uri": "https://localhost:8080/"
        },
        "id": "b5pLvZipQ8Lk",
        "outputId": "ed406469-e6c4-49bf-9133-902d55229bcc"
      },
      "outputs": [
        {
          "name": "stdout",
          "output_type": "stream",
          "text": [
            "User groups evaluation is started ...\n",
            "> VAECF\n",
            "MAE: 6.8532,6.7476,6.7011\n",
            "Ttest_indResult(statistic=0.8405845886792448, pvalue=0.401224414606836)\n",
            "MSE: 50.0642,48.9689,47.8859\n",
            "Ttest_indResult(statistic=0.940694613543524, pvalue=0.34758911875523546)\n",
            "RMSE: 6.8799,6.7949,6.7538\n",
            "Ttest_indResult(statistic=0.7026138103422063, pvalue=0.4828203342726387)\n",
            "AUC: 0.6847,0.6501,0.6719\n",
            "Ttest_indResult(statistic=0.41379363237936545, pvalue=0.6793095416566564)\n",
            "MAP: 0.0406,0.0286,0.0329\n",
            "Ttest_indResult(statistic=0.5661202238189375, pvalue=0.5717190108187232)\n",
            "MRR: 0.0522,0.0372,0.0431\n",
            "Ttest_indResult(statistic=0.5603861260474349, pvalue=0.5756182529727067)\n",
            "Precision@5: 0.0148,0.0097,0.0105\n",
            "Ttest_indResult(statistic=0.7758214165665263, pvalue=0.43844210944929085)\n",
            "Precision@10: 0.0117,0.0095,0.0112\n",
            "Ttest_indResult(statistic=0.150780426781543, pvalue=0.8802463628283974)\n",
            "Precision@20: 0.0096,0.007,0.0072\n",
            "Ttest_indResult(statistic=1.0538559486835033, pvalue=0.29276430827124805)\n",
            "Precision@50: 0.006,0.0055,0.0047\n",
            "Ttest_indResult(statistic=1.1961350106469342, pvalue=0.23255209105155872)\n",
            "Recall@5: 0.0461,0.036,0.0435\n",
            "Ttest_indResult(statistic=0.12175224430104306, pvalue=0.9031736146228979)\n",
            "Recall@10: 0.0863,0.0609,0.0783\n",
            "Ttest_indResult(statistic=0.2754914955839384, pvalue=0.7831210223395341)\n",
            "Recall@20: 0.1413,0.0874,0.0987\n",
            "Ttest_indResult(statistic=1.2376772793403301, pvalue=0.21676634130918757)\n",
            "Recall@50: 0.2293,0.1687,0.1523\n",
            "Ttest_indResult(statistic=1.8675428168150927, pvalue=0.06276327497002256)\n",
            "NDCG@5: 0.0336,0.0235,0.0284\n",
            "Ttest_indResult(statistic=0.3329061823222038, pvalue=0.7394286848414355)\n",
            "NDCG@10: 0.0467,0.0327,0.0407\n",
            "Ttest_indResult(statistic=0.36069760571193343, pvalue=0.7185695999639921)\n",
            "NDCG@20: 0.0617,0.0403,0.0466\n",
            "Ttest_indResult(statistic=0.8833440867001158, pvalue=0.377730518957307)\n",
            "NDCG@50: 0.0797,0.0584,0.0583\n",
            "Ttest_indResult(statistic=1.2188320737361515, pvalue=0.2238286691069941)\n",
            "F1@5: 0.0209,0.0144,0.016\n",
            "Ttest_indResult(statistic=0.5990122869303002, pvalue=0.5495993695889851)\n",
            "F1@10: 0.0199,0.0158,0.0184\n",
            "Ttest_indResult(statistic=0.243940207853147, pvalue=0.8074374558872095)\n",
            "F1@20: 0.0176,0.0128,0.0129\n",
            "Ttest_indResult(statistic=1.1557877992693744, pvalue=0.24865226414881514)\n",
            "F1@50: 0.0117,0.0106,0.009\n",
            "Ttest_indResult(statistic=1.2787721589248553, pvalue=0.2019276438851122)\n",
            "> VAECF\n",
            "MAE: 6.5795,6.7985,7.0694\n",
            "Ttest_indResult(statistic=-2.918012716695067, pvalue=0.0037736893161404166)\n",
            "MSE: 45.849,49.1657,52.845\n",
            "Ttest_indResult(statistic=-3.184178458924341, pvalue=0.0015953771860127445)\n",
            "RMSE: 6.6109,6.8486,7.1165\n",
            "Ttest_indResult(statistic=-3.0515984923430057, pvalue=0.0024680582705480744)\n",
            "AUC: 0.6475,0.6985,0.6662\n",
            "Ttest_indResult(statistic=-0.5929369341440779, pvalue=0.5536447897981702)\n",
            "MAP: 0.0229,0.0309,0.0264\n",
            "Ttest_indResult(statistic=-0.4687022719819145, pvalue=0.6396035973874578)\n",
            "MRR: 0.0382,0.0463,0.0421\n",
            "Ttest_indResult(statistic=-0.27209443993797816, pvalue=0.7857259813246431)\n",
            "Precision@5: 0.0133,0.0135,0.0094\n",
            "Ttest_indResult(statistic=0.716894505995492, pvalue=0.47396539364138013)\n",
            "Precision@10: 0.0093,0.0103,0.0082\n",
            "Ttest_indResult(statistic=0.3112382520113719, pvalue=0.755823435240222)\n",
            "Precision@20: 0.0077,0.0084,0.0088\n",
            "Ttest_indResult(statistic=-0.5199463787120538, pvalue=0.603462702267495)\n",
            "Precision@50: 0.0057,0.0058,0.006\n",
            "Ttest_indResult(statistic=-0.22326839330721437, pvalue=0.823469977194664)\n",
            "Recall@5: 0.0314,0.0407,0.0204\n",
            "Ttest_indResult(statistic=0.776284827179906, pvalue=0.4381578171594156)\n",
            "Recall@10: 0.0503,0.0577,0.0478\n",
            "Ttest_indResult(statistic=0.11776192626596682, pvalue=0.9063306435308999)\n",
            "Recall@20: 0.0992,0.1019,0.1056\n",
            "Ttest_indResult(statistic=-0.21029977510481815, pvalue=0.8335683916252042)\n",
            "Recall@50: 0.1807,0.1756,0.1783\n",
            "Ttest_indResult(statistic=0.06272279824500455, pvalue=0.950026648315954)\n",
            "NDCG@5: 0.0201,0.0275,0.0178\n",
            "Ttest_indResult(statistic=0.23162888724575886, pvalue=0.8169752441158974)\n",
            "NDCG@10: 0.0262,0.0342,0.0275\n",
            "Ttest_indResult(statistic=-0.11697242803289887, pvalue=0.9069557431444446)\n",
            "NDCG@20: 0.0389,0.0465,0.044\n",
            "Ttest_indResult(statistic=-0.40364295518930665, pvalue=0.6867465798409582)\n",
            "NDCG@50: 0.0566,0.0628,0.0599\n",
            "Ttest_indResult(statistic=-0.24624699961144594, pvalue=0.8056499058944673)\n",
            "F1@5: 0.0173,0.0193,0.0122\n",
            "Ttest_indResult(statistic=0.7080217223649066, pvalue=0.479450387873954)\n",
            "F1@10: 0.0149,0.0167,0.0133\n",
            "Ttest_indResult(statistic=0.2914060272189998, pvalue=0.7709307932447421)\n",
            "F1@20: 0.0139,0.0152,0.0158\n",
            "Ttest_indResult(statistic=-0.48192179210666863, pvalue=0.6301930075760694)\n",
            "F1@50: 0.011,0.011,0.0114\n",
            "Ttest_indResult(statistic=-0.20130576614390447, pvalue=0.8405881960822544)\n",
            "> VAECF\n",
            "MAE: 6.8532,6.7476,6.7011\n",
            "Ttest_indResult(statistic=0.8405845886792448, pvalue=0.401224414606836)\n",
            "MSE: 50.0642,48.9689,47.8859\n",
            "Ttest_indResult(statistic=0.940694613543524, pvalue=0.34758911875523546)\n",
            "RMSE: 6.8799,6.7949,6.7538\n",
            "Ttest_indResult(statistic=0.7026138103422063, pvalue=0.4828203342726387)\n",
            "AUC: 0.6847,0.6501,0.6719\n",
            "Ttest_indResult(statistic=0.41379363237936545, pvalue=0.6793095416566564)\n",
            "MAP: 0.0406,0.0286,0.0329\n",
            "Ttest_indResult(statistic=0.5661202238189375, pvalue=0.5717190108187232)\n",
            "MRR: 0.0522,0.0372,0.0431\n",
            "Ttest_indResult(statistic=0.5603861260474349, pvalue=0.5756182529727067)\n",
            "Precision@5: 0.0148,0.0097,0.0105\n",
            "Ttest_indResult(statistic=0.7758214165665263, pvalue=0.43844210944929085)\n",
            "Precision@10: 0.0117,0.0095,0.0112\n",
            "Ttest_indResult(statistic=0.150780426781543, pvalue=0.8802463628283974)\n",
            "Precision@20: 0.0096,0.007,0.0072\n",
            "Ttest_indResult(statistic=1.0538559486835033, pvalue=0.29276430827124805)\n",
            "Precision@50: 0.006,0.0055,0.0047\n",
            "Ttest_indResult(statistic=1.1961350106469342, pvalue=0.23255209105155872)\n",
            "Recall@5: 0.0461,0.036,0.0435\n",
            "Ttest_indResult(statistic=0.12175224430104306, pvalue=0.9031736146228979)\n",
            "Recall@10: 0.0863,0.0609,0.0783\n",
            "Ttest_indResult(statistic=0.2754914955839384, pvalue=0.7831210223395341)\n",
            "Recall@20: 0.1413,0.0874,0.0987\n",
            "Ttest_indResult(statistic=1.2376772793403301, pvalue=0.21676634130918757)\n",
            "Recall@50: 0.2293,0.1687,0.1523\n",
            "Ttest_indResult(statistic=1.8675428168150927, pvalue=0.06276327497002256)\n",
            "NDCG@5: 0.0336,0.0235,0.0284\n",
            "Ttest_indResult(statistic=0.3329061823222038, pvalue=0.7394286848414355)\n",
            "NDCG@10: 0.0467,0.0327,0.0407\n",
            "Ttest_indResult(statistic=0.36069760571193343, pvalue=0.7185695999639921)\n",
            "NDCG@20: 0.0617,0.0403,0.0466\n",
            "Ttest_indResult(statistic=0.8833440867001158, pvalue=0.377730518957307)\n",
            "NDCG@50: 0.0797,0.0584,0.0583\n",
            "Ttest_indResult(statistic=1.2188320737361515, pvalue=0.2238286691069941)\n",
            "F1@5: 0.0209,0.0144,0.016\n",
            "Ttest_indResult(statistic=0.5990122869303002, pvalue=0.5495993695889851)\n",
            "F1@10: 0.0199,0.0158,0.0184\n",
            "Ttest_indResult(statistic=0.243940207853147, pvalue=0.8074374558872095)\n",
            "F1@20: 0.0176,0.0128,0.0129\n",
            "Ttest_indResult(statistic=1.1557877992693744, pvalue=0.24865226414881514)\n",
            "F1@50: 0.0117,0.0106,0.009\n",
            "Ttest_indResult(statistic=1.2787721589248553, pvalue=0.2019276438851122)\n",
            "> VAECF\n",
            "MAE: 6.5795,6.7985,7.0694\n",
            "Ttest_indResult(statistic=-2.918012716695067, pvalue=0.0037736893161404166)\n",
            "MSE: 45.849,49.1657,52.845\n",
            "Ttest_indResult(statistic=-3.184178458924341, pvalue=0.0015953771860127445)\n",
            "RMSE: 6.6109,6.8486,7.1165\n",
            "Ttest_indResult(statistic=-3.0515984923430057, pvalue=0.0024680582705480744)\n",
            "AUC: 0.6475,0.6985,0.6662\n",
            "Ttest_indResult(statistic=-0.5929369341440779, pvalue=0.5536447897981702)\n",
            "MAP: 0.0229,0.0309,0.0264\n",
            "Ttest_indResult(statistic=-0.4687022719819145, pvalue=0.6396035973874578)\n",
            "MRR: 0.0382,0.0463,0.0421\n",
            "Ttest_indResult(statistic=-0.27209443993797816, pvalue=0.7857259813246431)\n",
            "Precision@5: 0.0133,0.0135,0.0094\n",
            "Ttest_indResult(statistic=0.716894505995492, pvalue=0.47396539364138013)\n",
            "Precision@10: 0.0093,0.0103,0.0082\n",
            "Ttest_indResult(statistic=0.3112382520113719, pvalue=0.755823435240222)\n",
            "Precision@20: 0.0077,0.0084,0.0088\n",
            "Ttest_indResult(statistic=-0.5199463787120538, pvalue=0.603462702267495)\n",
            "Precision@50: 0.0057,0.0058,0.006\n",
            "Ttest_indResult(statistic=-0.22326839330721437, pvalue=0.823469977194664)\n",
            "Recall@5: 0.0314,0.0407,0.0204\n",
            "Ttest_indResult(statistic=0.776284827179906, pvalue=0.4381578171594156)\n",
            "Recall@10: 0.0503,0.0577,0.0478\n",
            "Ttest_indResult(statistic=0.11776192626596682, pvalue=0.9063306435308999)\n",
            "Recall@20: 0.0992,0.1019,0.1056\n",
            "Ttest_indResult(statistic=-0.21029977510481815, pvalue=0.8335683916252042)\n",
            "Recall@50: 0.1807,0.1756,0.1783\n",
            "Ttest_indResult(statistic=0.06272279824500455, pvalue=0.950026648315954)\n",
            "NDCG@5: 0.0201,0.0275,0.0178\n",
            "Ttest_indResult(statistic=0.23162888724575886, pvalue=0.8169752441158974)\n",
            "NDCG@10: 0.0262,0.0342,0.0275\n",
            "Ttest_indResult(statistic=-0.11697242803289887, pvalue=0.9069557431444446)\n",
            "NDCG@20: 0.0389,0.0465,0.044\n",
            "Ttest_indResult(statistic=-0.40364295518930665, pvalue=0.6867465798409582)\n",
            "NDCG@50: 0.0566,0.0628,0.0599\n",
            "Ttest_indResult(statistic=-0.24624699961144594, pvalue=0.8056499058944673)\n",
            "F1@5: 0.0173,0.0193,0.0122\n",
            "Ttest_indResult(statistic=0.7080217223649066, pvalue=0.479450387873954)\n",
            "F1@10: 0.0149,0.0167,0.0133\n",
            "Ttest_indResult(statistic=0.2914060272189998, pvalue=0.7709307932447421)\n",
            "F1@20: 0.0139,0.0152,0.0158\n",
            "Ttest_indResult(statistic=-0.48192179210666863, pvalue=0.6301930075760694)\n",
            "F1@50: 0.011,0.011,0.0114\n",
            "Ttest_indResult(statistic=-0.20130576614390447, pvalue=0.8405881960822544)\n",
            "> VAECF\n",
            "MAE: 6.6048,6.7342,6.699\n",
            "Ttest_indResult(statistic=-0.4884356483801533, pvalue=0.6255922784778136)\n",
            "MSE: 47.0931,48.5703,48.3682\n",
            "Ttest_indResult(statistic=-0.5456864122534649, pvalue=0.5856803832858342)\n",
            "RMSE: 6.6536,6.7718,6.7609\n",
            "Ttest_indResult(statistic=-0.5660679888514001, pvalue=0.5717638079438045)\n",
            "AUC: 0.6786,0.6726,0.6827\n",
            "Ttest_indResult(statistic=-0.1396565298954469, pvalue=0.8890235490126039)\n",
            "MAP: 0.0389,0.0303,0.0421\n",
            "Ttest_indResult(statistic=-0.2267863151988812, pvalue=0.820741828672605)\n",
            "MRR: 0.0549,0.0422,0.0728\n",
            "Ttest_indResult(statistic=-0.8271794892249298, pvalue=0.40878202254266727)\n",
            "Precision@5: 0.013,0.0123,0.0196\n",
            "Ttest_indResult(statistic=-1.0588651839611252, pvalue=0.29049903596425647)\n",
            "Precision@10: 0.0078,0.0089,0.0124\n",
            "Ttest_indResult(statistic=-1.344678582198388, pvalue=0.17972817932719767)\n",
            "Precision@20: 0.0075,0.0076,0.0101\n",
            "Ttest_indResult(statistic=-1.1492220523717, pvalue=0.251364829303842)\n",
            "Precision@50: 0.0055,0.0054,0.0063\n",
            "Ttest_indResult(statistic=-0.6784263093087654, pvalue=0.49801583698948637)\n",
            "Recall@5: 0.0424,0.0405,0.0574\n",
            "Ttest_indResult(statistic=-0.6805276950755053, pvalue=0.49668666040177545)\n",
            "Recall@10: 0.05,0.0571,0.0718\n",
            "Ttest_indResult(statistic=-0.9064391594384253, pvalue=0.36541899193335403)\n",
            "Recall@20: 0.0955,0.0987,0.1135\n",
            "Ttest_indResult(statistic=-0.5884191716981724, pvalue=0.5566864478280128)\n",
            "Recall@50: 0.1639,0.1611,0.1765\n",
            "Ttest_indResult(statistic=-0.33570868178356433, pvalue=0.7373213675557009)\n",
            "NDCG@5: 0.0354,0.0272,0.0441\n",
            "Ttest_indResult(statistic=-0.5099090344569657, pvalue=0.6104839687258845)\n",
            "NDCG@10: 0.038,0.0331,0.0495\n",
            "Ttest_indResult(statistic=-0.6634627452878241, pvalue=0.5075353841810706)\n",
            "NDCG@20: 0.0511,0.0447,0.0614\n",
            "Ttest_indResult(statistic=-0.5788819946158806, pvalue=0.5630960482835349)\n",
            "NDCG@50: 0.0668,0.0591,0.0756\n",
            "Ttest_indResult(statistic=-0.48484295829147167, pvalue=0.6281357726172985)\n",
            "F1@5: 0.019,0.0178,0.0269\n",
            "Ttest_indResult(statistic=-0.8837387021413472, pvalue=0.37753334957721996)\n",
            "F1@10: 0.0129,0.0147,0.02\n",
            "Ttest_indResult(statistic=-1.2624610440946524, pvalue=0.20774735254092946)\n",
            "F1@20: 0.0136,0.0137,0.0179\n",
            "Ttest_indResult(statistic=-1.0551192788168833, pvalue=0.2922058499904369)\n",
            "F1@50: 0.0104,0.0102,0.0119\n",
            "Ttest_indResult(statistic=-0.647792682456149, pvalue=0.5176063692245148)\n",
            "> VAECF\n",
            "MAE: 6.6908,6.7483,6.8759\n",
            "Ttest_indResult(statistic=-0.9834320842389238, pvalue=0.3261979695031473)\n",
            "MSE: 47.9594,48.7268,50.2323\n",
            "Ttest_indResult(statistic=-0.9524067012231029, pvalue=0.3416678229838991)\n",
            "RMSE: 6.7204,6.7859,6.9205\n",
            "Ttest_indResult(statistic=-1.073047615293224, pvalue=0.2841237740752284)\n",
            "AUC: 0.6687,0.6755,0.676\n",
            "Ttest_indResult(statistic=-0.23350384409267586, pvalue=0.8155315863539514)\n",
            "MAP: 0.0222,0.0265,0.015\n",
            "Ttest_indResult(statistic=1.3274433143469624, pvalue=0.18538496885577205)\n",
            "MRR: 0.038,0.0376,0.0221\n",
            "Ttest_indResult(statistic=1.5135726533355576, pvalue=0.13120125425339832)\n",
            "Precision@5: 0.0105,0.0088,0.0055\n",
            "Ttest_indResult(statistic=1.1062619320932658, pvalue=0.2695114377217556)\n",
            "Precision@10: 0.0079,0.0096,0.0055\n",
            "Ttest_indResult(statistic=0.7898056828606633, pvalue=0.43027349442403384)\n",
            "Precision@20: 0.0069,0.0082,0.0062\n",
            "Ttest_indResult(statistic=0.34960574109323295, pvalue=0.7268832028442109)\n",
            "Precision@50: 0.0054,0.0061,0.0044\n",
            "Ttest_indResult(statistic=0.9315783491040125, pvalue=0.35231366455735635)\n",
            "Recall@5: 0.0247,0.0312,0.0139\n",
            "Ttest_indResult(statistic=0.8122701410237962, pvalue=0.41728940521754565)\n",
            "Recall@10: 0.0389,0.0667,0.0244\n",
            "Ttest_indResult(statistic=0.8888245437193154, pvalue=0.37481911324020123)\n",
            "Recall@20: 0.0784,0.1134,0.0587\n",
            "Ttest_indResult(statistic=0.8080481080201501, pvalue=0.4197118021056204)\n",
            "Recall@50: 0.1672,0.1889,0.1432\n",
            "Ttest_indResult(statistic=0.6466949068216112, pvalue=0.5183305521413692)\n",
            "NDCG@5: 0.0169,0.0191,0.0078\n",
            "Ttest_indResult(statistic=1.1633295149567848, pvalue=0.245632766876325)\n",
            "NDCG@10: 0.0225,0.0313,0.0123\n",
            "Ttest_indResult(statistic=1.1780404757416318, pvalue=0.2397266980587635)\n",
            "NDCG@20: 0.0335,0.0442,0.0228\n",
            "Ttest_indResult(statistic=1.067354641581122, pvalue=0.28668146761816105)\n",
            "NDCG@50: 0.0532,0.0615,0.0398\n",
            "Ttest_indResult(statistic=1.1959727505231708, pvalue=0.232664357987891)\n",
            "F1@5: 0.0135,0.0131,0.0073\n",
            "Ttest_indResult(statistic=1.01958369360657, pvalue=0.3087585455504866)\n",
            "F1@10: 0.0125,0.0162,0.0086\n",
            "Ttest_indResult(statistic=0.8071790468325846, pvalue=0.42021145615918387)\n",
            "F1@20: 0.0124,0.015,0.011\n",
            "Ttest_indResult(statistic=0.36459128445620503, pvalue=0.7156768533464573)\n",
            "F1@50: 0.0103,0.0116,0.0084\n",
            "Ttest_indResult(statistic=0.9174249197355888, pvalue=0.3596669141761075)\n",
            "> VAECF\n",
            "MAE: 6.8611,6.9801,6.9223\n",
            "Ttest_indResult(statistic=-0.33605160940870993, pvalue=0.7370563947194826)\n",
            "MSE: 50.0308,51.4736,51.009\n",
            "Ttest_indResult(statistic=-0.4170006809022007, pvalue=0.6769628504273133)\n",
            "RMSE: 6.8961,7.0169,6.9563\n",
            "Ttest_indResult(statistic=-0.3340497549662401, pvalue=0.7385650038504092)\n",
            "AUC: 0.6675,0.6879,0.6739\n",
            "Ttest_indResult(statistic=-0.20043367611821944, pvalue=0.8412711792672615)\n",
            "MAP: 0.0451,0.0248,0.0226\n",
            "Ttest_indResult(statistic=1.8196227034295598, pvalue=0.06976861257013678)\n",
            "MRR: 0.0566,0.0365,0.0331\n",
            "Ttest_indResult(statistic=1.4047162599996648, pvalue=0.16109411888803846)\n",
            "Precision@5: 0.0158,0.0111,0.0073\n",
            "Ttest_indResult(statistic=1.5363152913350606, pvalue=0.12546807707474628)\n",
            "Precision@10: 0.0112,0.0099,0.0049\n",
            "Ttest_indResult(statistic=1.9966752768802127, pvalue=0.04672346142588214)\n",
            "Precision@20: 0.0089,0.0076,0.0061\n",
            "Ttest_indResult(statistic=1.3560046800476886, pvalue=0.17607201675770845)\n",
            "Precision@50: 0.0059,0.0063,0.005\n",
            "Ttest_indResult(statistic=0.8184363366321784, pvalue=0.4137287483592189)\n",
            "Recall@5: 0.0609,0.0267,0.0254\n",
            "Ttest_indResult(statistic=1.6508375872091785, pvalue=0.0997715222718281)\n",
            "Recall@10: 0.0872,0.0511,0.0325\n",
            "Ttest_indResult(statistic=2.1996973071735906, pvalue=0.02855678915012135)\n",
            "Recall@20: 0.1291,0.0872,0.0907\n",
            "Ttest_indResult(statistic=1.1766517865978692, pvalue=0.24022573505128633)\n",
            "Recall@50: 0.1933,0.1749,0.1692\n",
            "Ttest_indResult(statistic=0.6083664269195871, pvalue=0.543384282267491)\n",
            "NDCG@5: 0.042,0.0184,0.0174\n",
            "Ttest_indResult(statistic=1.6583210580758172, pvalue=0.09825125058958596)\n",
            "NDCG@10: 0.051,0.027,0.0198\n",
            "Ttest_indResult(statistic=2.0279485027292705, pvalue=0.04340953022471578)\n",
            "NDCG@20: 0.0629,0.0367,0.0346\n",
            "Ttest_indResult(statistic=1.7560973680692027, pvalue=0.08004667394587314)\n",
            "NDCG@50: 0.0776,0.0568,0.0517\n",
            "Ttest_indResult(statistic=1.559346703510318, pvalue=0.11992162630367888)\n",
            "F1@5: 0.0239,0.0144,0.0109\n",
            "Ttest_indResult(statistic=1.5828262378340487, pvalue=0.1144677348632676)\n",
            "F1@10: 0.0193,0.0156,0.0081\n",
            "Ttest_indResult(statistic=2.094034212649128, pvalue=0.03705846448675813)\n",
            "F1@20: 0.0163,0.0134,0.0112\n",
            "Ttest_indResult(statistic=1.3535679856920972, pvalue=0.1768477781077134)\n",
            "F1@50: 0.0114,0.0119,0.0096\n",
            "Ttest_indResult(statistic=0.8303855544775556, pvalue=0.40695173918720906)\n",
            "> VAECF\n",
            "MAE: 6.5947,6.7648,6.7334\n",
            "Ttest_indResult(statistic=-0.7286856624364044, pvalue=0.46671709649312165)\n",
            "MSE: 47.1313,49.228,48.5822\n",
            "Ttest_indResult(statistic=-0.6159712256171923, pvalue=0.5383433421739641)\n",
            "RMSE: 6.6341,6.8114,6.7734\n",
            "Ttest_indResult(statistic=-0.7370207188439628, pvalue=0.46163983654190144)\n",
            "AUC: 0.7237,0.6737,0.7038\n",
            "Ttest_indResult(statistic=0.6797603631455944, pvalue=0.49713860201866933)\n",
            "MAP: 0.0406,0.0385,0.0258\n",
            "Ttest_indResult(statistic=1.3943654411462214, pvalue=0.16415679253304297)\n",
            "MRR: 0.0531,0.0541,0.0416\n",
            "Ttest_indResult(statistic=0.6956938031134947, pvalue=0.4871162429724938)\n",
            "Precision@5: 0.0148,0.0138,0.0108\n",
            "Ttest_indResult(statistic=0.6981391774332342, pvalue=0.4855878300210411)\n",
            "Precision@10: 0.0093,0.0121,0.0114\n",
            "Ttest_indResult(statistic=-0.6091562485198698, pvalue=0.5428451489496826)\n",
            "Precision@20: 0.0071,0.0093,0.0084\n",
            "Ttest_indResult(statistic=-0.636622380780569, pvalue=0.5248175948482159)\n",
            "Precision@50: 0.0051,0.006,0.0063\n",
            "Ttest_indResult(statistic=-1.0974590819647403, pvalue=0.27325070720858397)\n",
            "Recall@5: 0.0556,0.0431,0.0286\n",
            "Ttest_indResult(statistic=1.3550468210646502, pvalue=0.1763408364134999)\n",
            "Recall@10: 0.0694,0.0707,0.0758\n",
            "Ttest_indResult(statistic=-0.23918926782918523, pvalue=0.8111091274548243)\n",
            "Recall@20: 0.1096,0.1088,0.1089\n",
            "Ttest_indResult(statistic=0.020059933345998177, pvalue=0.9840078341736427)\n",
            "Recall@50: 0.1841,0.178,0.1978\n",
            "Ttest_indResult(statistic=-0.3494818445079501, pvalue=0.7269532443777753)\n",
            "NDCG@5: 0.0388,0.0334,0.0188\n",
            "Ttest_indResult(statistic=1.4911472001027024, pvalue=0.13688981622986587)\n",
            "NDCG@10: 0.0436,0.0438,0.0339\n",
            "Ttest_indResult(statistic=0.6752013458463674, pvalue=0.500026463309051)\n",
            "NDCG@20: 0.0538,0.0547,0.0433\n",
            "Ttest_indResult(statistic=0.7073123506345729, pvalue=0.4798777015175678)\n",
            "NDCG@50: 0.0695,0.0698,0.063\n",
            "Ttest_indResult(statistic=0.4180492833982063, pvalue=0.6761863162233881)\n",
            "F1@5: 0.0226,0.0198,0.015\n",
            "Ttest_indResult(statistic=0.9074165817332782, pvalue=0.3648568015317367)\n",
            "F1@10: 0.0159,0.0196,0.0194\n",
            "Ttest_indResult(statistic=-0.5691362700450944, pvalue=0.5696555710540478)\n",
            "F1@20: 0.0132,0.0165,0.0154\n",
            "Ttest_indResult(statistic=-0.5838214128413999, pvalue=0.5597441935225665)\n",
            "F1@50: 0.0098,0.0115,0.0121\n",
            "Ttest_indResult(statistic=-1.087853133830779, pvalue=0.27746355565808495)\n",
            "> VAECF\n",
            "MAE: 6.8897,6.8411,6.9026\n",
            "Ttest_indResult(statistic=-0.07167289622971683, pvalue=0.9429121460793932)\n",
            "MSE: 50.1539,49.8456,50.5814\n",
            "Ttest_indResult(statistic=-0.18439271999113788, pvalue=0.8538356026943912)\n",
            "RMSE: 6.9396,6.885,6.9457\n",
            "Ttest_indResult(statistic=-0.03491565940173866, pvalue=0.9721712651083697)\n",
            "AUC: 0.6456,0.6452,0.6236\n",
            "Ttest_indResult(statistic=0.672608394923627, pvalue=0.5017376252149297)\n",
            "MAP: 0.018,0.0242,0.0247\n",
            "Ttest_indResult(statistic=-0.6171272552165918, pvalue=0.5376400700059916)\n",
            "MRR: 0.0276,0.0348,0.0309\n",
            "Ttest_indResult(statistic=-0.26767115368425837, pvalue=0.7891447177358585)\n",
            "Precision@5: 0.0078,0.0079,0.0062\n",
            "Ttest_indResult(statistic=0.36872935485609604, pvalue=0.7126013190821159)\n",
            "Precision@10: 0.0062,0.0072,0.0068\n",
            "Ttest_indResult(statistic=-0.19773118481372148, pvalue=0.843395362478701)\n",
            "Precision@20: 0.0059,0.0055,0.0056\n",
            "Ttest_indResult(statistic=0.14252282432331287, pvalue=0.8867670550355548)\n",
            "Precision@50: 0.0048,0.0036,0.0045\n",
            "Ttest_indResult(statistic=0.3102409759206445, pvalue=0.7566028778902598)\n",
            "Recall@5: 0.0206,0.0239,0.023\n",
            "Ttest_indResult(statistic=-0.1505223250785519, pvalue=0.8804582728906586)\n",
            "Recall@10: 0.03,0.0444,0.0435\n",
            "Ttest_indResult(statistic=-0.6980086838290184, pvalue=0.48573689373013285)\n",
            "Recall@20: 0.0639,0.0659,0.0642\n",
            "Ttest_indResult(statistic=-0.014554466501150255, pvalue=0.988397738179964)\n",
            "Recall@50: 0.1477,0.1059,0.1162\n",
            "Ttest_indResult(statistic=0.9004963356781251, pvalue=0.36861116084964496)\n",
            "NDCG@5: 0.0132,0.0189,0.0181\n",
            "Ttest_indResult(statistic=-0.411840993110744, pvalue=0.6807633847190138)\n",
            "NDCG@10: 0.0169,0.0264,0.0254\n",
            "Ttest_indResult(statistic=-0.6745605023056972, pvalue=0.5004980381845046)\n",
            "NDCG@20: 0.0262,0.0324,0.0316\n",
            "Ttest_indResult(statistic=-0.41340517524618947, pvalue=0.6796185040848298)\n",
            "NDCG@50: 0.0446,0.0415,0.0438\n",
            "Ttest_indResult(statistic=0.06272397700705067, pvalue=0.9500299649462697)\n",
            "F1@5: 0.0106,0.0109,0.0092\n",
            "Ttest_indResult(statistic=0.2184143722776198, pvalue=0.8272614937568714)\n",
            "F1@10: 0.0099,0.0119,0.0112\n",
            "Ttest_indResult(statistic=-0.27008803419318633, pvalue=0.7872866343778956)\n",
            "F1@20: 0.0104,0.0098,0.0098\n",
            "Ttest_indResult(statistic=0.1744089859598063, pvalue=0.8616670177083914)\n",
            "F1@50: 0.0093,0.0068,0.0084\n",
            "Ttest_indResult(statistic=0.38472555985459, pvalue=0.7007256882225424)\n",
            "> VAECF\n",
            "MAE: 6.8798,6.7287,6.8253\n",
            "Ttest_indResult(statistic=0.29098635940797984, pvalue=0.7712711972512684)\n",
            "MSE: 50.3434,48.6248,49.6618\n",
            "Ttest_indResult(statistic=0.2864975597210574, pvalue=0.7747030508018136)\n",
            "RMSE: 6.9346,6.7838,6.862\n",
            "Ttest_indResult(statistic=0.39364174835625354, pvalue=0.6941368206831462)\n",
            "AUC: 0.6907,0.6594,0.6692\n",
            "Ttest_indResult(statistic=0.6920753950423496, pvalue=0.4894475651045622)\n",
            "MAP: 0.0449,0.0229,0.0287\n",
            "Ttest_indResult(statistic=1.137899745524871, pvalue=0.25610808589697664)\n",
            "MRR: 0.0525,0.0321,0.0423\n",
            "Ttest_indResult(statistic=0.5933211361008547, pvalue=0.5534319123733059)\n",
            "Precision@5: 0.0167,0.0094,0.0101\n",
            "Ttest_indResult(statistic=1.119299291076454, pvalue=0.2639451159938945)\n",
            "Precision@10: 0.0121,0.0099,0.0101\n",
            "Ttest_indResult(statistic=0.5382791723907241, pvalue=0.5908000846432564)\n",
            "Precision@20: 0.0091,0.0072,0.006\n",
            "Ttest_indResult(statistic=1.394815066408561, pvalue=0.16414643649130198)\n",
            "Precision@50: 0.0062,0.0053,0.0049\n",
            "Ttest_indResult(statistic=1.0415847558117597, pvalue=0.2984778084969319)\n",
            "Recall@5: 0.0657,0.0256,0.0306\n",
            "Ttest_indResult(statistic=1.539804395957199, pvalue=0.12470600805893493)\n",
            "Recall@10: 0.0909,0.0533,0.0591\n",
            "Ttest_indResult(statistic=1.1634198265995948, pvalue=0.24562220216042221)\n",
            "Recall@20: 0.1237,0.0817,0.0781\n",
            "Ttest_indResult(statistic=1.4387493358968193, pvalue=0.1513074136658828)\n",
            "Recall@50: 0.1995,0.1568,0.1669\n",
            "Ttest_indResult(statistic=0.7759795793030441, pvalue=0.4383978027137262)\n",
            "NDCG@5: 0.0426,0.0164,0.0226\n",
            "Ttest_indResult(statistic=1.225831454203983, pvalue=0.22126352735879154)\n",
            "NDCG@10: 0.0516,0.0267,0.0337\n",
            "Ttest_indResult(statistic=1.0507875436598626, pvalue=0.2942370787724245)\n",
            "NDCG@20: 0.0613,0.0347,0.0384\n",
            "Ttest_indResult(statistic=1.3116867066514346, pvalue=0.19067051011423186)\n",
            "NDCG@50: 0.0787,0.0513,0.0579\n",
            "Ttest_indResult(statistic=1.1377769305304866, pvalue=0.2561592935849573)\n",
            "F1@5: 0.0258,0.0125,0.0143\n",
            "Ttest_indResult(statistic=1.3015868432448636, pvalue=0.19409783725479757)\n",
            "F1@10: 0.0209,0.0157,0.0167\n",
            "Ttest_indResult(statistic=0.6706548102544332, pvalue=0.5029779124667326)\n",
            "F1@20: 0.0167,0.0128,0.011\n",
            "Ttest_indResult(statistic=1.4154595421094227, pvalue=0.15801424152427815)\n",
            "F1@50: 0.0119,0.01,0.0095\n",
            "Ttest_indResult(statistic=1.0369530208234579, pvalue=0.30062759982251724)\n",
            "> VAECF\n",
            "MAE: 6.7695,6.8921,6.6239\n",
            "Ttest_indResult(statistic=0.7221035175759354, pvalue=0.47078049208994566)\n",
            "MSE: 49.0844,50.8018,47.8655\n",
            "Ttest_indResult(statistic=0.49715082399765265, pvalue=0.6194385432209759)\n",
            "RMSE: 6.8069,6.9395,6.67\n",
            "Ttest_indResult(statistic=0.6850209889182048, pvalue=0.49384754583097346)\n",
            "AUC: 0.7018,0.701,0.6807\n",
            "Ttest_indResult(statistic=0.6929912416621912, pvalue=0.48883895210313766)\n",
            "MAP: 0.0202,0.0354,0.0343\n",
            "Ttest_indResult(statistic=-1.2875549207852317, pvalue=0.19887071046502014)\n",
            "MRR: 0.026,0.0513,0.0436\n",
            "Ttest_indResult(statistic=-1.3788630058104465, pvalue=0.1689407936603032)\n",
            "Precision@5: 0.0091,0.0125,0.0116\n",
            "Ttest_indResult(statistic=-0.4987599296818734, pvalue=0.6183056900649604)\n",
            "Precision@10: 0.0071,0.0102,0.009\n",
            "Ttest_indResult(statistic=-0.6073668935038377, pvalue=0.5440564213910426)\n",
            "Precision@20: 0.0055,0.0087,0.0087\n",
            "Ttest_indResult(statistic=-1.606241620700272, pvalue=0.10924887717560497)\n",
            "Precision@50: 0.0045,0.0059,0.0057\n",
            "Ttest_indResult(statistic=-1.0094395487410317, pvalue=0.3135588099889398)\n",
            "Recall@5: 0.0303,0.0419,0.043\n",
            "Ttest_indResult(statistic=-0.6517332722841147, pvalue=0.5150608529023917)\n",
            "Recall@10: 0.0482,0.0682,0.0613\n",
            "Ttest_indResult(statistic=-0.5678714204824473, pvalue=0.5705373487922609)\n",
            "Recall@20: 0.0871,0.1136,0.1058\n",
            "Ttest_indResult(statistic=-0.6272651502524004, pvalue=0.5309516731403894)\n",
            "Recall@50: 0.1732,0.1815,0.1746\n",
            "Ttest_indResult(statistic=-0.03710012653856221, pvalue=0.9704292833902586)\n",
            "NDCG@5: 0.0157,0.0303,0.0295\n",
            "Ttest_indResult(statistic=-1.0835985712134588, pvalue=0.2793931101593327)\n",
            "NDCG@10: 0.0219,0.0394,0.036\n",
            "Ttest_indResult(statistic=-1.0442892116052116, pvalue=0.29717318215486155)\n",
            "NDCG@20: 0.0315,0.052,0.0491\n",
            "Ttest_indResult(statistic=-1.246507979843969, pvalue=0.21352822027591117)\n",
            "NDCG@50: 0.049,0.0674,0.0643\n",
            "Ttest_indResult(statistic=-1.0225703765727794, pvalue=0.3073161168360789)\n",
            "F1@5: 0.0135,0.0184,0.0177\n",
            "Ttest_indResult(statistic=-0.5506309404392925, pvalue=0.5822871399590948)\n",
            "F1@10: 0.0121,0.0171,0.0154\n",
            "Ttest_indResult(statistic=-0.6261102124903241, pvalue=0.5317078789414935)\n",
            "F1@20: 0.0102,0.0157,0.0158\n",
            "Ttest_indResult(statistic=-1.535179636772863, pvalue=0.1257696252187472)\n",
            "F1@50: 0.0088,0.0112,0.0109\n",
            "Ttest_indResult(statistic=-0.994602995283411, pvalue=0.3207126668061399)\n",
            "> VAECF\n",
            "MAE: 6.6069,6.7727,6.8241\n",
            "Ttest_indResult(statistic=-1.0898820324163239, pvalue=0.27664859521563573)\n",
            "MSE: 47.3512,48.8449,49.5534\n",
            "Ttest_indResult(statistic=-0.909974264462588, pvalue=0.36357397032270555)\n",
            "RMSE: 6.6357,6.8213,6.8581\n",
            "Ttest_indResult(statistic=-1.1218085133099185, pvalue=0.2628500051244924)\n",
            "AUC: 0.678,0.6792,0.6449\n",
            "Ttest_indResult(statistic=1.1017139770048217, pvalue=0.2714780532423603)\n",
            "MAP: 0.0303,0.0332,0.0277\n",
            "Ttest_indResult(statistic=0.22045878712609965, pvalue=0.8256653328024368)\n",
            "MRR: 0.0399,0.0487,0.0417\n",
            "Ttest_indResult(statistic=-0.11936287642877981, pvalue=0.9050685683463814)\n",
            "Precision@5: 0.0121,0.0135,0.012\n",
            "Ttest_indResult(statistic=0.014587897846397763, pvalue=0.9883707487709121)\n",
            "Precision@10: 0.0107,0.0108,0.0107\n",
            "Ttest_indResult(statistic=0.018688748537292563, pvalue=0.9851019526769917)\n",
            "Precision@20: 0.0077,0.008,0.008\n",
            "Ttest_indResult(statistic=-0.12437868858011299, pvalue=0.9010995843041947)\n",
            "Precision@50: 0.0055,0.0057,0.0044\n",
            "Ttest_indResult(statistic=0.9723914865215914, pvalue=0.33164709550769)\n",
            "Recall@5: 0.047,0.0427,0.0344\n",
            "Ttest_indResult(statistic=0.5992250804592869, pvalue=0.5494796089828511)\n",
            "Recall@10: 0.0794,0.0663,0.0578\n",
            "Ttest_indResult(statistic=0.8188969727793198, pvalue=0.4135017839492262)\n",
            "Recall@20: 0.0998,0.0875,0.085\n",
            "Ttest_indResult(statistic=0.5046213072804114, pvalue=0.6141990265278258)\n",
            "Recall@50: 0.1676,0.16,0.1189\n",
            "Ttest_indResult(statistic=1.3690264994829107, pvalue=0.1720254370655847)\n",
            "NDCG@5: 0.0272,0.0302,0.0245\n",
            "Ttest_indResult(statistic=0.19352736137009735, pvalue=0.8466782655433808)\n",
            "NDCG@10: 0.0383,0.0389,0.0336\n",
            "Ttest_indResult(statistic=0.318140110675447, pvalue=0.750602240998671)\n",
            "NDCG@20: 0.0447,0.0457,0.0418\n",
            "Ttest_indResult(statistic=0.18642436790128303, pvalue=0.8522392552820319)\n",
            "NDCG@50: 0.0603,0.0622,0.0494\n",
            "Ttest_indResult(statistic=0.6873835017359772, pvalue=0.492377507312045)\n",
            "F1@5: 0.0183,0.0196,0.0168\n",
            "Ttest_indResult(statistic=0.19023488679013284, pvalue=0.849255033475145)\n",
            "F1@10: 0.0184,0.0178,0.0173\n",
            "Ttest_indResult(statistic=0.16843251394153513, pvalue=0.8663576749941955)\n",
            "F1@20: 0.014,0.0142,0.0143\n",
            "Ttest_indResult(statistic=-0.06183387998027261, pvalue=0.95073671318071)\n",
            "F1@50: 0.0105,0.0109,0.0084\n",
            "Ttest_indResult(statistic=0.995399330554755, pvalue=0.3203523626007484)\n",
            "> VAECF\n",
            "MAE: 6.996,6.9304,6.7585\n",
            "Ttest_indResult(statistic=1.2341266122822516, pvalue=0.21815146569818963)\n",
            "MSE: 52.2154,51.4022,48.8285\n",
            "Ttest_indResult(statistic=1.3892082586144536, pvalue=0.16583154254193136)\n",
            "RMSE: 7.0364,6.965,6.804\n",
            "Ttest_indResult(statistic=1.2246398590330507, pvalue=0.22170137430616116)\n",
            "AUC: 0.6338,0.6637,0.6575\n",
            "Ttest_indResult(statistic=-0.7154998835471327, pvalue=0.4748739020281054)\n",
            "MAP: 0.0137,0.0262,0.02\n",
            "Ttest_indResult(statistic=-1.2332990096676073, pvalue=0.21845950702265374)\n",
            "MRR: 0.0231,0.0346,0.028\n",
            "Ttest_indResult(statistic=-0.5361695879355779, pvalue=0.5922509541538105)\n",
            "Precision@5: 0.0042,0.0086,0.0093\n",
            "Ttest_indResult(statistic=-1.100340538754306, pvalue=0.27209316293871755)\n",
            "Precision@10: 0.0049,0.0072,0.01\n",
            "Ttest_indResult(statistic=-1.5159629086259008, pvalue=0.13061421914515586)\n",
            "Precision@20: 0.0038,0.0073,0.0077\n",
            "Ttest_indResult(statistic=-1.923236836637446, pvalue=0.05542590412836802)\n",
            "Precision@50: 0.0039,0.006,0.0064\n",
            "Ttest_indResult(statistic=-2.0374514541677957, pvalue=0.042509298132596074)\n",
            "Recall@5: 0.0105,0.0302,0.0256\n",
            "Ttest_indResult(statistic=-1.1154684177250838, pvalue=0.2655700540138211)\n",
            "Recall@10: 0.0268,0.0486,0.0558\n",
            "Ttest_indResult(statistic=-1.425135006571172, pvalue=0.15518983399884975)\n",
            "Recall@20: 0.0431,0.0903,0.0869\n",
            "Ttest_indResult(statistic=-1.7556247688236073, pvalue=0.08020460957879519)\n",
            "Recall@50: 0.115,0.1777,0.1708\n",
            "Ttest_indResult(statistic=-1.5945394043267005, pvalue=0.11190075730851055)\n",
            "NDCG@5: 0.0072,0.0198,0.0134\n",
            "Ttest_indResult(statistic=-0.859652240814197, pvalue=0.3906883957806039)\n",
            "NDCG@10: 0.0133,0.026,0.0245\n",
            "Ttest_indResult(statistic=-1.2220459685230234, pvalue=0.22267920119188833)\n",
            "NDCG@20: 0.0181,0.038,0.0335\n",
            "Ttest_indResult(statistic=-1.5654883869750165, pvalue=0.11855520987033473)\n",
            "NDCG@50: 0.0343,0.058,0.0532\n",
            "Ttest_indResult(statistic=-1.7091009061543696, pvalue=0.0884984097009816)\n",
            "F1@5: 0.0054,0.0125,0.0134\n",
            "Ttest_indResult(statistic=-1.2263828581968117, pvalue=0.22104604988744492)\n",
            "F1@10: 0.0079,0.012,0.0163\n",
            "Ttest_indResult(statistic=-1.5328342954737533, pvalue=0.12640310815630135)\n",
            "F1@20: 0.0069,0.0131,0.0137\n",
            "Ttest_indResult(statistic=-1.9099590420406598, pvalue=0.057121461941891306)\n",
            "F1@50: 0.0075,0.0114,0.0122\n",
            "Ttest_indResult(statistic=-2.0308160155874146, pvalue=0.04318260169079375)\n",
            "> VAECF\n",
            "MAE: 6.7641,6.7683,6.5786\n",
            "Ttest_indResult(statistic=0.9109060220081485, pvalue=0.3630737852145529)\n",
            "MSE: 49.2087,48.8797,46.784\n",
            "Ttest_indResult(statistic=0.9711258629212611, pvalue=0.3322653263434616)\n",
            "RMSE: 6.7964,6.8114,6.6052\n",
            "Ttest_indResult(statistic=0.9432802350601279, pvalue=0.34629407739553375)\n",
            "AUC: 0.651,0.7001,0.6749\n",
            "Ttest_indResult(statistic=-0.7444026433700394, pvalue=0.4572136769437054)\n",
            "MAP: 0.0312,0.034,0.0268\n",
            "Ttest_indResult(statistic=0.4209723961154803, pvalue=0.6740756611090202)\n",
            "MRR: 0.0397,0.0487,0.0402\n",
            "Ttest_indResult(statistic=-0.03272151888151779, pvalue=0.9739183504189673)\n",
            "Precision@5: 0.0108,0.013,0.0129\n",
            "Ttest_indResult(statistic=-0.3630682626625929, pvalue=0.7168087237324043)\n",
            "Precision@10: 0.0074,0.0097,0.0103\n",
            "Ttest_indResult(statistic=-0.847039030343997, pvalue=0.39764633001997785)\n",
            "Precision@20: 0.0061,0.0086,0.0065\n",
            "Ttest_indResult(statistic=-0.18847632518542337, pvalue=0.8506302805882295)\n",
            "Precision@50: 0.0049,0.0061,0.0044\n",
            "Ttest_indResult(statistic=0.45877910686766943, pvalue=0.6467238954389133)\n",
            "Recall@5: 0.0462,0.042,0.0386\n",
            "Ttest_indResult(statistic=0.3514870795929455, pvalue=0.7254688794340631)\n",
            "Recall@10: 0.0631,0.0563,0.0646\n",
            "Ttest_indResult(statistic=-0.05777660830293739, pvalue=0.9539649068929361)\n",
            "Recall@20: 0.0833,0.1042,0.0829\n",
            "Ttest_indResult(statistic=0.016517373414148724, pvalue=0.9868325849031031)\n",
            "Recall@50: 0.1666,0.1842,0.144\n",
            "Ttest_indResult(statistic=0.5989582073461134, pvalue=0.5496512614925738)\n",
            "NDCG@5: 0.0287,0.0299,0.0246\n",
            "Ttest_indResult(statistic=0.3035433484350611, pvalue=0.7616855230577573)\n",
            "NDCG@10: 0.0347,0.0354,0.0333\n",
            "Ttest_indResult(statistic=0.09510367175364817, pvalue=0.9242957629011)\n",
            "NDCG@20: 0.0412,0.0488,0.0382\n",
            "Ttest_indResult(statistic=0.20134988721813052, pvalue=0.8405609954899079)\n",
            "NDCG@50: 0.0595,0.0663,0.0516\n",
            "Ttest_indResult(statistic=0.5193935511081793, pvalue=0.6038680321689414)\n",
            "F1@5: 0.0171,0.0184,0.0184\n",
            "Ttest_indResult(statistic=-0.14119730593304117, pvalue=0.8878085239596192)\n",
            "F1@10: 0.0131,0.0156,0.0171\n",
            "Ttest_indResult(statistic=-0.6826323910776727, pvalue=0.49536417853595816)\n",
            "F1@20: 0.0111,0.0153,0.0117\n",
            "Ttest_indResult(statistic=-0.18106122285651532, pvalue=0.8564413763471428)\n",
            "F1@50: 0.0093,0.0115,0.0084\n",
            "Ttest_indResult(statistic=0.4546127349474851, pvalue=0.6497155521388793)\n",
            "> VAECF\n",
            "MAE: 6.8455,6.6297,6.727\n",
            "Ttest_indResult(statistic=0.675565374702003, pvalue=0.4998138366529594)\n",
            "MSE: 50.1631,47.3819,48.1357\n",
            "Ttest_indResult(statistic=0.9073326145467145, pvalue=0.36492671599899584)\n",
            "RMSE: 6.9194,6.6759,6.7626\n",
            "Ttest_indResult(statistic=0.9070207784545913, pvalue=0.3650913352013254)\n",
            "AUC: 0.6623,0.6714,0.6696\n",
            "Ttest_indResult(statistic=-0.22555477671638643, pvalue=0.821694449739427)\n",
            "MAP: 0.0265,0.027,0.0281\n",
            "Ttest_indResult(statistic=-0.14886412725879564, pvalue=0.8817564069649958)\n",
            "MRR: 0.0301,0.0435,0.0377\n",
            "Ttest_indResult(statistic=-0.5892053861115095, pvalue=0.5561471649110015)\n",
            "Precision@5: 0.0052,0.0107,0.0111\n",
            "Ttest_indResult(statistic=-1.3228700165412621, pvalue=0.1868411829476035)\n",
            "Precision@10: 0.0052,0.0079,0.008\n",
            "Ttest_indResult(statistic=-1.0079347951198034, pvalue=0.31426184172781363)\n",
            "Precision@20: 0.0065,0.0072,0.0077\n",
            "Ttest_indResult(statistic=-0.6045982504632856, pvalue=0.5458825938660905)\n",
            "Precision@50: 0.0045,0.0058,0.0043\n",
            "Ttest_indResult(statistic=0.2167223845024732, pvalue=0.8285654395419114)\n",
            "Recall@5: 0.0227,0.027,0.0401\n",
            "Ttest_indResult(statistic=-0.9375625118092042, pvalue=0.3491898520771657)\n",
            "Recall@10: 0.04,0.0426,0.0576\n",
            "Ttest_indResult(statistic=-0.7770636598791123, pvalue=0.43770621904649476)\n",
            "Recall@20: 0.092,0.0745,0.1142\n",
            "Ttest_indResult(statistic=-0.7014024068172012, pvalue=0.48357141906588086)\n",
            "Recall@50: 0.144,0.1557,0.1523\n",
            "Ttest_indResult(statistic=-0.22398553898875714, pvalue=0.8229142207299188)\n",
            "NDCG@5: 0.0167,0.0217,0.0242\n",
            "Ttest_indResult(statistic=-0.5979895825921299, pvalue=0.5502779336139412)\n",
            "NDCG@10: 0.023,0.0273,0.0302\n",
            "Ttest_indResult(statistic=-0.5470810858179795, pvalue=0.5847116188919633)\n",
            "NDCG@20: 0.0378,0.0368,0.0455\n",
            "Ttest_indResult(statistic=-0.5298590098643039, pvalue=0.5965841350259196)\n",
            "NDCG@50: 0.0502,0.0555,0.0542\n",
            "Ttest_indResult(statistic=-0.27059453558034313, pvalue=0.7868806760547287)\n",
            "F1@5: 0.0083,0.0144,0.0166\n",
            "Ttest_indResult(statistic=-1.191312031441129, pvalue=0.2344308152383069)\n",
            "F1@10: 0.009,0.0126,0.0137\n",
            "Ttest_indResult(statistic=-0.9685443374803858, pvalue=0.3335180080151605)\n",
            "F1@20: 0.012,0.0127,0.0142\n",
            "Ttest_indResult(statistic=-0.6107949770187671, pvalue=0.541777182916251)\n",
            "F1@50: 0.0087,0.011,0.0083\n",
            "Ttest_indResult(statistic=0.18809228734376976, pvalue=0.8509258025151646)\n",
            "> VAECF\n",
            "MAE: 6.945,6.8005,6.6929\n",
            "Ttest_indResult(statistic=1.3866275169144378, pvalue=0.16657471229772797)\n",
            "MSE: 51.0465,49.3833,47.908\n",
            "Ttest_indResult(statistic=1.3699499488286306, pvalue=0.1717167984919988)\n",
            "RMSE: 6.9865,6.8401,6.7244\n",
            "Ttest_indResult(statistic=1.4529202707144602, pvalue=0.14728071288982378)\n",
            "AUC: 0.6671,0.6686,0.6506\n",
            "Ttest_indResult(statistic=0.5111750664009719, pvalue=0.6096007480825798)\n",
            "MAP: 0.0268,0.0303,0.0259\n",
            "Ttest_indResult(statistic=0.10192667419340481, pvalue=0.9188822954156521)\n",
            "MRR: 0.0364,0.0412,0.0337\n",
            "Ttest_indResult(statistic=0.24992876120028787, pvalue=0.8028118025498724)\n",
            "Precision@5: 0.0159,0.0095,0.0104\n",
            "Ttest_indResult(statistic=0.9209685124875635, pvalue=0.35779953703119316)\n",
            "Precision@10: 0.0099,0.0103,0.0123\n",
            "Ttest_indResult(statistic=-0.607554808951483, pvalue=0.543937836341827)\n",
            "Precision@20: 0.006,0.008,0.0075\n",
            "Ttest_indResult(statistic=-0.6953436152938433, pvalue=0.48737290846818626)\n",
            "Precision@50: 0.0058,0.0055,0.0051\n",
            "Ttest_indResult(statistic=0.6551779019726446, pvalue=0.5128503107780773)\n",
            "Recall@5: 0.0416,0.0306,0.0368\n",
            "Ttest_indResult(statistic=0.2471021053676523, pvalue=0.804996546997863)\n",
            "Recall@10: 0.0549,0.0645,0.0825\n",
            "Ttest_indResult(statistic=-1.0611423642141953, pvalue=0.28947028121291857)\n",
            "Recall@20: 0.0637,0.099,0.1052\n",
            "Ttest_indResult(statistic=-1.4402944894966014, pvalue=0.15081655172643477)\n",
            "Recall@50: 0.1742,0.1646,0.1691\n",
            "Ttest_indResult(statistic=0.13062973814273876, pvalue=0.8961549009421919)\n",
            "NDCG@5: 0.0258,0.0227,0.0195\n",
            "Ttest_indResult(statistic=0.5476937966451019, pvalue=0.5843053887171198)\n",
            "NDCG@10: 0.031,0.0353,0.0358\n",
            "Ttest_indResult(statistic=-0.3702779816638737, pvalue=0.7114340759720519)\n",
            "NDCG@20: 0.0338,0.0449,0.042\n",
            "Ttest_indResult(statistic=-0.6059570820428504, pvalue=0.5449969089655013)\n",
            "NDCG@50: 0.0581,0.0595,0.0563\n",
            "Ttest_indResult(statistic=0.12210470445506086, pvalue=0.9028970388723705)\n",
            "F1@5: 0.0217,0.0141,0.0156\n",
            "Ttest_indResult(statistic=0.7184642674562906, pvalue=0.4730247151311696)\n",
            "F1@10: 0.0162,0.0173,0.0205\n",
            "Ttest_indResult(statistic=-0.6625095976893867, pvalue=0.5081482958661365)\n",
            "F1@20: 0.0107,0.0144,0.0136\n",
            "Ttest_indResult(statistic=-0.7469321599061782, pvalue=0.45568370896113886)\n",
            "F1@50: 0.0111,0.0105,0.0097\n",
            "Ttest_indResult(statistic=0.6400434949166711, pvalue=0.5226279923708069)\n",
            "> VAECF\n",
            "MAE: 6.8719,6.8919,6.8448\n",
            "Ttest_indResult(statistic=0.1543039827718592, pvalue=0.877476287676325)\n",
            "MSE: 49.9456,50.808,49.83\n",
            "Ttest_indResult(statistic=0.051141946963304104, pvalue=0.9592472582130666)\n",
            "RMSE: 6.926,6.9347,6.889\n",
            "Ttest_indResult(statistic=0.21409467132122686, pvalue=0.8306221454610354)\n",
            "AUC: 0.6841,0.6927,0.6879\n",
            "Ttest_indResult(statistic=-0.12262343043478903, pvalue=0.9024893645046436)\n",
            "MAP: 0.0347,0.0323,0.0301\n",
            "Ttest_indResult(statistic=0.4099340287474799, pvalue=0.6821539011285676)\n",
            "MRR: 0.0488,0.0421,0.0381\n",
            "Ttest_indResult(statistic=0.7129324463706977, pvalue=0.47645495492962575)\n",
            "Precision@5: 0.0153,0.0131,0.0106\n",
            "Ttest_indResult(statistic=0.8168540746472726, pvalue=0.4146754900215148)\n",
            "Precision@10: 0.0125,0.0098,0.0086\n",
            "Ttest_indResult(statistic=1.0166428106853935, pvalue=0.31016212230472323)\n",
            "Precision@20: 0.0094,0.0082,0.0086\n",
            "Ttest_indResult(statistic=0.28251724295801733, pvalue=0.7777463969391568)\n",
            "Precision@50: 0.0071,0.0061,0.0053\n",
            "Ttest_indResult(statistic=1.2376805323436348, pvalue=0.21682542676926445)\n",
            "Recall@5: 0.0381,0.0418,0.043\n",
            "Ttest_indResult(statistic=-0.24338550410614607, pvalue=0.8078770832855611)\n",
            "Recall@10: 0.0737,0.0585,0.0651\n",
            "Ttest_indResult(statistic=0.3210859534268237, pvalue=0.7483741614400037)\n",
            "Recall@20: 0.1044,0.0984,0.1202\n",
            "Ttest_indResult(statistic=-0.47331813867342415, pvalue=0.6363386634452074)\n",
            "Recall@50: 0.1886,0.1827,0.1719\n",
            "Ttest_indResult(statistic=0.4138953885099145, pvalue=0.6792535249849901)\n",
            "NDCG@5: 0.0289,0.0276,0.0257\n",
            "Ttest_indResult(statistic=0.22803199107869998, pvalue=0.8197804221921515)\n",
            "NDCG@10: 0.041,0.034,0.0335\n",
            "Ttest_indResult(statistic=0.4977742375004916, pvalue=0.619016553972266)\n",
            "NDCG@20: 0.05,0.0453,0.0484\n",
            "Ttest_indResult(statistic=0.09946716156465096, pvalue=0.9208353791352253)\n",
            "NDCG@50: 0.0697,0.0642,0.0597\n",
            "Ttest_indResult(statistic=0.6054487713750376, pvalue=0.5453495233271259)\n",
            "F1@5: 0.0205,0.0189,0.0167\n",
            "Ttest_indResult(statistic=0.4493296786518766, pvalue=0.6535260387997297)\n",
            "F1@10: 0.0203,0.0161,0.015\n",
            "Ttest_indResult(statistic=0.8407872621230745, pvalue=0.40115274043109295)\n",
            "F1@20: 0.0166,0.0147,0.0157\n",
            "Ttest_indResult(statistic=0.1805755917934288, pvalue=0.8568255506453747)\n",
            "F1@50: 0.0134,0.0116,0.0101\n",
            "Ttest_indResult(statistic=1.2189433043125826, pvalue=0.22384616080145184)\n",
            "> VAECF\n",
            "MAE: 6.615,6.7904,6.4842\n",
            "Ttest_indResult(statistic=0.6331333090648256, pvalue=0.5271133746077612)\n",
            "MSE: 47.4404,49.4467,45.9616\n",
            "Ttest_indResult(statistic=0.5866530527260234, pvalue=0.5578636981694249)\n",
            "RMSE: 6.6585,6.8434,6.5195\n",
            "Ttest_indResult(statistic=0.675751915075303, pvalue=0.499701948253252)\n",
            "AUC: 0.694,0.6906,0.7085\n",
            "Ttest_indResult(statistic=-0.47339862048596815, pvalue=0.6362620009589932)\n",
            "MAP: 0.0327,0.0305,0.0433\n",
            "Ttest_indResult(statistic=-0.8501474830216275, pvalue=0.39589921293481967)\n",
            "MRR: 0.0503,0.0421,0.0539\n",
            "Ttest_indResult(statistic=-0.21333399447557605, pvalue=0.8312066906490044)\n",
            "Precision@5: 0.0115,0.0094,0.0155\n",
            "Ttest_indResult(statistic=-0.7065897498680853, pvalue=0.48035220141488943)\n",
            "Precision@10: 0.0102,0.0085,0.0142\n",
            "Ttest_indResult(statistic=-1.048302690275148, pvalue=0.29531577624051725)\n",
            "Precision@20: 0.008,0.0075,0.0113\n",
            "Ttest_indResult(statistic=-1.4071503942456434, pvalue=0.1603846039398301)\n",
            "Precision@50: 0.0061,0.006,0.0081\n",
            "Ttest_indResult(statistic=-1.5304519863687254, pvalue=0.1269246672699378)\n",
            "Recall@5: 0.0379,0.0307,0.064\n",
            "Ttest_indResult(statistic=-1.1129587946733512, pvalue=0.26658839473747936)\n",
            "Recall@10: 0.0636,0.0573,0.107\n",
            "Ttest_indResult(statistic=-1.4919004657508232, pvalue=0.13674216011371723)\n",
            "Recall@20: 0.0956,0.0929,0.1629\n",
            "Ttest_indResult(statistic=-1.9715740688207448, pvalue=0.049547194935478454)\n",
            "Recall@50: 0.1822,0.1888,0.2553\n",
            "Ttest_indResult(statistic=-1.7675497012294659, pvalue=0.07811994263237247)\n",
            "NDCG@5: 0.0275,0.0228,0.0373\n",
            "Ttest_indResult(statistic=-0.6482486982941983, pvalue=0.5173039694434531)\n",
            "NDCG@10: 0.0368,0.032,0.0521\n",
            "Ttest_indResult(statistic=-0.9552082822785521, pvalue=0.34021664872188895)\n",
            "NDCG@20: 0.0462,0.0423,0.0678\n",
            "Ttest_indResult(statistic=-1.3020850705037166, pvalue=0.19385393568878878)\n",
            "NDCG@50: 0.0656,0.0635,0.0897\n",
            "Ttest_indResult(statistic=-1.4092792487742265, pvalue=0.15975494590178937)\n",
            "F1@5: 0.0166,0.0136,0.024\n",
            "Ttest_indResult(statistic=-0.8497588069728941, pvalue=0.3961149789649646)\n",
            "F1@10: 0.0169,0.0142,0.0242\n",
            "Ttest_indResult(statistic=-1.1315705902967952, pvalue=0.25868959291080235)\n",
            "F1@20: 0.0144,0.0134,0.0207\n",
            "Ttest_indResult(statistic=-1.4634998387848512, pvalue=0.14434386126554663)\n",
            "F1@50: 0.0117,0.0115,0.0156\n",
            "Ttest_indResult(statistic=-1.5287891371073026, pvalue=0.12733643267522218)\n",
            "> VAECF\n",
            "MAE: 7.0247,6.7237,6.5871\n",
            "Ttest_indResult(statistic=2.238257515853361, pvalue=0.02592095647225882)\n",
            "MSE: 52.2666,48.3761,47.3697\n",
            "Ttest_indResult(statistic=2.036389155602468, pvalue=0.04256922573748709)\n",
            "RMSE: 7.0725,6.7663,6.6362\n",
            "Ttest_indResult(statistic=2.2707215148288395, pvalue=0.02385635353303792)\n",
            "AUC: 0.6719,0.6847,0.7005\n",
            "Ttest_indResult(statistic=-0.9110250157900643, pvalue=0.3629969517884567)\n",
            "MAP: 0.0304,0.0401,0.0281\n",
            "Ttest_indResult(statistic=0.20339800608338576, pvalue=0.8389587076969626)\n",
            "MRR: 0.0432,0.0541,0.0343\n",
            "Ttest_indResult(statistic=0.6517130866308771, pvalue=0.5150738594172029)\n",
            "Precision@5: 0.0166,0.0123,0.0085\n",
            "Ttest_indResult(statistic=1.4638303377256512, pvalue=0.1442634601583601)\n",
            "Precision@10: 0.0117,0.0125,0.0079\n",
            "Ttest_indResult(statistic=1.0843000893745165, pvalue=0.2790825494458559)\n",
            "Precision@20: 0.0076,0.0095,0.007\n",
            "Ttest_indResult(statistic=0.2774981613921548, pvalue=0.7815843886312318)\n",
            "Precision@50: 0.0043,0.0061,0.0054\n",
            "Ttest_indResult(statistic=-0.9573410675027153, pvalue=0.33914841679559726)\n",
            "Recall@5: 0.0563,0.0439,0.0307\n",
            "Ttest_indResult(statistic=1.2300066963770726, pvalue=0.21963631627640895)\n",
            "Recall@10: 0.0747,0.0815,0.0529\n",
            "Ttest_indResult(statistic=0.8858578778430514, pvalue=0.37638746771571796)\n",
            "Recall@20: 0.1011,0.1252,0.0861\n",
            "Ttest_indResult(statistic=0.5129631497999999, pvalue=0.6083460042609946)\n",
            "Recall@50: 0.1349,0.201,0.1709\n",
            "Ttest_indResult(statistic=-0.9648189730853294, pvalue=0.3353948715930559)\n",
            "NDCG@5: 0.0328,0.0329,0.0205\n",
            "Ttest_indResult(statistic=0.9094721369808508, pvalue=0.36381440548950184)\n",
            "NDCG@10: 0.0394,0.0466,0.0285\n",
            "Ttest_indResult(statistic=0.7625506852936874, pvalue=0.4463168960255868)\n",
            "NDCG@20: 0.0465,0.0587,0.0381\n",
            "Ttest_indResult(statistic=0.5706072021601217, pvalue=0.5686833355877912)\n",
            "NDCG@50: 0.0543,0.0752,0.0566\n",
            "Ttest_indResult(statistic=-0.1461605783733985, pvalue=0.8838905504363535)\n",
            "F1@5: 0.0248,0.0181,0.0126\n",
            "Ttest_indResult(statistic=1.4789562475173395, pvalue=0.1401773195845903)\n",
            "F1@10: 0.0198,0.0209,0.0132\n",
            "Ttest_indResult(statistic=1.1291330407998688, pvalue=0.2597232308071435)\n",
            "F1@20: 0.0139,0.0173,0.0126\n",
            "Ttest_indResult(statistic=0.3609452417492976, pvalue=0.7183886281767559)\n",
            "F1@50: 0.0082,0.0118,0.0103\n",
            "Ttest_indResult(statistic=-0.9507928974497373, pvalue=0.34245743319165)\n",
            "> VAECF\n",
            "MAE: 6.6378,6.8533,6.9187\n",
            "Ttest_indResult(statistic=-1.4815292174888284, pvalue=0.13948791702514063)\n",
            "MSE: 47.6613,49.9883,50.8956\n",
            "Ttest_indResult(statistic=-1.3810989343587086, pvalue=0.1682497462913455)\n",
            "RMSE: 6.6767,6.8937,6.9629\n",
            "Ttest_indResult(statistic=-1.5161339401865959, pvalue=0.1305111106133499)\n",
            "AUC: 0.7081,0.6764,0.6858\n",
            "Ttest_indResult(statistic=0.7571527045870289, pvalue=0.44953720782403983)\n",
            "MAP: 0.0264,0.0328,0.051\n",
            "Ttest_indResult(statistic=-1.4998950437711467, pvalue=0.1346659154803086)\n",
            "MRR: 0.0375,0.0501,0.0582\n",
            "Ttest_indResult(statistic=-1.1392166028791313, pvalue=0.25549805430494366)\n",
            "Precision@5: 0.0078,0.0123,0.0153\n",
            "Ttest_indResult(statistic=-1.4007758552525118, pvalue=0.1622877836563669)\n",
            "Precision@10: 0.0072,0.0101,0.0115\n",
            "Ttest_indResult(statistic=-1.2917286806764756, pvalue=0.1974195820079812)\n",
            "Precision@20: 0.0052,0.0083,0.0073\n",
            "Ttest_indResult(statistic=-1.0800266623839399, pvalue=0.28097529821883116)\n",
            "Precision@50: 0.0044,0.0054,0.0054\n",
            "Ttest_indResult(statistic=-0.8410993200597854, pvalue=0.40094481680391914)\n",
            "Recall@5: 0.0251,0.0366,0.0579\n",
            "Ttest_indResult(statistic=-1.5895160397314017, pvalue=0.11296984667620591)\n",
            "Recall@10: 0.049,0.0622,0.0886\n",
            "Ttest_indResult(statistic=-1.494846235609419, pvalue=0.13597840429501612)\n",
            "Recall@20: 0.0719,0.1017,0.1003\n",
            "Ttest_indResult(statistic=-0.9902077681463294, pvalue=0.32284983792482014)\n",
            "Recall@50: 0.134,0.1637,0.1745\n",
            "Ttest_indResult(statistic=-1.1239365894775075, pvalue=0.2619151485896725)\n",
            "NDCG@5: 0.0203,0.0283,0.0453\n",
            "Ttest_indResult(statistic=-1.424982952874475, pvalue=0.15517464510474482)\n",
            "NDCG@10: 0.0286,0.037,0.0564\n",
            "Ttest_indResult(statistic=-1.524117673448806, pvalue=0.12850541549079905)\n",
            "NDCG@20: 0.0347,0.0481,0.0604\n",
            "Ttest_indResult(statistic=-1.390935537006996, pvalue=0.16524899296730047)\n",
            "NDCG@50: 0.0492,0.0621,0.0768\n",
            "Ttest_indResult(statistic=-1.4701344413335506, pvalue=0.14254612091956786)\n",
            "F1@5: 0.0116,0.017,0.0233\n",
            "Ttest_indResult(statistic=-1.4524277940182038, pvalue=0.1474006408221079)\n",
            "F1@10: 0.0122,0.0165,0.0199\n",
            "Ttest_indResult(statistic=-1.3366602187140273, pvalue=0.18232008775233607)\n",
            "F1@20: 0.0096,0.0149,0.0134\n",
            "Ttest_indResult(statistic=-1.066996890371157, pvalue=0.2868088684011849)\n",
            "F1@50: 0.0085,0.0103,0.0103\n",
            "Ttest_indResult(statistic=-0.8575825804658223, pvalue=0.3917898072920085)\n"
          ]
        }
      ],
      "source": [
        "# analysis on different users groups based on the NDCG@10\n",
        "# reult have difference parameter and show the values of evaluation includes per user performance on each evaluation metrics\n",
        "\n",
        "ttest_group_results_list = []\n",
        "metric_group_results_list = []\n",
        "print(\"User groups evaluation is started ...\")\n",
        "\n",
        "niche_users = list()\n",
        "divers_users = list()\n",
        "focused_users = list()\n",
        "\n",
        "metric_group_results = defaultdict(list)\n",
        "metric_group_results['MAE'] = list()\n",
        "metric_group_results['Precision@10'] = list()\n",
        "metric_group_results['Recall@10'] = list()\n",
        "metric_group_results['NDCG@10'] = list()\n",
        "\n",
        "ttest_group_results = defaultdict(list)\n",
        "ttest_group_results['MAE'] = list()\n",
        "ttest_group_results['Precision@10'] = list()\n",
        "ttest_group_results['Recall@10'] = list()\n",
        "ttest_group_results['NDCG@10'] = list()\n",
        "for i in range(20):\n",
        "  for eachresult in exp_result_copy[i]:#exp.result:\n",
        "    print(\"> \" + eachresult.model_name)\n",
        "    user_results = eachresult.metric_user_results # <- this is a dictionary\n",
        "    for metric in exp_s[i].metrics:\n",
        "      for user_idx, user_performance in user_results[metric.name].items():\n",
        "        user_id = int(list(rs.train_set.user_ids)[user_idx])\n",
        "        if user_id in low_users.index:\n",
        "          niche_users.append(user_performance)\n",
        "        elif user_id in medium_users.index:\n",
        "          divers_users.append(user_performance)\n",
        "        elif user_id in high_users.index:\n",
        "          focused_users.append(user_performance)\n",
        "        else:\n",
        "          print(\"Oops! We could not find a user!\")\n",
        "\n",
        "      print(metric.name + \": \" + str(round(np.mean(niche_users), 4)) + \",\" + str(round(np.mean(divers_users), 4)) + \",\" + str(round(np.mean(focused_users), 4)))\n",
        "      if metric.name in metric_group_results.keys():\n",
        "        metric_group_results[metric.name].append((round(np.mean(niche_users), 4),\n",
        "                                                  round(np.mean(divers_users), 4),\n",
        "                                                  round(np.mean(focused_users), 4)))\n",
        "        \n",
        "        ttest_group_results[metric.name].append((round(stats.ttest_ind(niche_users, divers_users)[1], 8),\n",
        "                                                round(stats.ttest_ind(niche_users, focused_users)[1], 8),\n",
        "                                                round(stats.ttest_ind(divers_users, focused_users)[1], 8)))\n",
        "\n",
        "      print(stats.ttest_ind(niche_users, focused_users))\n",
        "      niche_users.clear()\n",
        "      divers_users.clear()\n",
        "      focused_users.clear()\n",
        "    #print() \n",
        "    ttest_group_results_list.append(ttest_group_results)\n",
        "    metric_group_results_list.append(metric_group_results)\n",
        "  "
      ]
    },
    {
      "cell_type": "markdown",
      "metadata": {
        "colab": {
          "base_uri": "https://localhost:8080/",
          "height": 740
        },
        "id": "M-TTFrbOQuQj",
        "outputId": "cd0176a7-dcd0-4b28-b662-0267d09cb1cd"
      },
      "source": [
        "sns.set(rc = {'figure.figsize':(6,2)})\n",
        "\n",
        "for metric in ['MAE', 'Precision@10', 'Recall@10', 'NDCG@10']:\n",
        "  data = [[], [], []]\n",
        "  #labels = [['', '', '', '', '', '', '', '', ''], [], []]\n",
        "  labels = [[''], [], []]\n",
        "  for item in metric_group_results[metric]:\n",
        "    # print(item)\n",
        "    data[0].append(item[0])\n",
        "    data[1].append(item[1])\n",
        "    data[2].append(item[2])\n",
        "\n",
        "\n",
        "  for item in ttest_group_results[metric]:\n",
        "    if item[0] < 0.005:\n",
        "      labels[1].append('*')\n",
        "    else:\n",
        "      labels[1].append('')\n",
        "    if item[1] < 0.005 and item[2] < 0.005:\n",
        "      labels[2].append('**')\n",
        "    else:\n",
        "      labels[2].append('')\n",
        "\n",
        "  fig, ax = plt.subplots()\n",
        "  ax = sns.heatmap(data, annot=labels, fmt = '', cmap=\"Blues\")\n",
        "  #ax.set_xticklabels(['MostPop', 'BPR', 'MF', 'PFM', 'NMF', 'WMF', 'PF', 'NeuMF', 'VAECF'])\n",
        "  ax.set_xticklabels(['VAECF'])\n",
        "  ax.set_yticklabels(['Niche', 'Diverse', 'BestSeller'])\n",
        "  ax.tick_params(axis='x', rotation=280)\n",
        "  ax.tick_params(axis='y', rotation=0)\n",
        "  plt.savefig(f'{metric}_metric_analysis.pdf', dpi=300, bbox_inches='tight')"
      ]
    },
    {
      "cell_type": "code",
      "execution_count": 525,
      "metadata": {},
      "outputs": [
        {
          "name": "stdout",
          "output_type": "stream",
          "text": [
            "defaultdict(<class 'list'>, {'MAE': [(6.8532, 6.7476, 6.7011), (6.5795, 6.7985, 7.0694), (6.8532, 6.7476, 6.7011), (6.5795, 6.7985, 7.0694), (6.6048, 6.7342, 6.699), (6.6908, 6.7483, 6.8759), (6.8611, 6.9801, 6.9223), (6.5947, 6.7648, 6.7334), (6.8897, 6.8411, 6.9026), (6.8798, 6.7287, 6.8253), (6.7695, 6.8921, 6.6239), (6.6069, 6.7727, 6.8241), (6.996, 6.9304, 6.7585), (6.7641, 6.7683, 6.5786), (6.8455, 6.6297, 6.727), (6.945, 6.8005, 6.6929), (6.8719, 6.8919, 6.8448), (6.615, 6.7904, 6.4842), (7.0247, 6.7237, 6.5871), (6.6378, 6.8533, 6.9187)], 'Precision@10': [(0.0117, 0.0095, 0.0112), (0.0093, 0.0103, 0.0082), (0.0117, 0.0095, 0.0112), (0.0093, 0.0103, 0.0082), (0.0078, 0.0089, 0.0124), (0.0079, 0.0096, 0.0055), (0.0112, 0.0099, 0.0049), (0.0093, 0.0121, 0.0114), (0.0062, 0.0072, 0.0068), (0.0121, 0.0099, 0.0101), (0.0071, 0.0102, 0.009), (0.0107, 0.0108, 0.0107), (0.0049, 0.0072, 0.01), (0.0074, 0.0097, 0.0103), (0.0052, 0.0079, 0.008), (0.0099, 0.0103, 0.0123), (0.0125, 0.0098, 0.0086), (0.0102, 0.0085, 0.0142), (0.0117, 0.0125, 0.0079), (0.0072, 0.0101, 0.0115)], 'Recall@10': [(0.0863, 0.0609, 0.0783), (0.0503, 0.0577, 0.0478), (0.0863, 0.0609, 0.0783), (0.0503, 0.0577, 0.0478), (0.05, 0.0571, 0.0718), (0.0389, 0.0667, 0.0244), (0.0872, 0.0511, 0.0325), (0.0694, 0.0707, 0.0758), (0.03, 0.0444, 0.0435), (0.0909, 0.0533, 0.0591), (0.0482, 0.0682, 0.0613), (0.0794, 0.0663, 0.0578), (0.0268, 0.0486, 0.0558), (0.0631, 0.0563, 0.0646), (0.04, 0.0426, 0.0576), (0.0549, 0.0645, 0.0825), (0.0737, 0.0585, 0.0651), (0.0636, 0.0573, 0.107), (0.0747, 0.0815, 0.0529), (0.049, 0.0622, 0.0886)], 'NDCG@10': [(0.0467, 0.0327, 0.0407), (0.0262, 0.0342, 0.0275), (0.0467, 0.0327, 0.0407), (0.0262, 0.0342, 0.0275), (0.038, 0.0331, 0.0495), (0.0225, 0.0313, 0.0123), (0.051, 0.027, 0.0198), (0.0436, 0.0438, 0.0339), (0.0169, 0.0264, 0.0254), (0.0516, 0.0267, 0.0337), (0.0219, 0.0394, 0.036), (0.0383, 0.0389, 0.0336), (0.0133, 0.026, 0.0245), (0.0347, 0.0354, 0.0333), (0.023, 0.0273, 0.0302), (0.031, 0.0353, 0.0358), (0.041, 0.034, 0.0335), (0.0368, 0.032, 0.0521), (0.0394, 0.0466, 0.0285), (0.0286, 0.037, 0.0564)]})\n"
          ]
        }
      ],
      "source": [
        "print(metric_group_results)"
      ]
    },
    {
      "cell_type": "code",
      "execution_count": 583,
      "metadata": {},
      "outputs": [
        {
          "name": "stdout",
          "output_type": "stream",
          "text": [
            "[(0.2439509, 0.7185696, 0.49995324), (0.46229386, 0.90695574, 0.52752537), (0.2439509, 0.7185696, 0.49995324), (0.46229386, 0.90695574, 0.52752537), (0.68982027, 0.50753538, 0.17954531), (0.35917806, 0.2397267, 0.03991152), (0.03351984, 0.04340953, 0.43173737), (0.9898315, 0.50002646, 0.42760068), (0.38981325, 0.50049804, 0.92530303), (0.03217561, 0.29423708, 0.47525735), (0.14048568, 0.29717318, 0.78717189), (0.96039928, 0.75060224, 0.666505), (0.20159377, 0.2226792, 0.88145616), (0.95229144, 0.92429576, 0.8597706), (0.68472425, 0.58471162, 0.77393344), (0.71800962, 0.71143408, 0.96141228), (0.57610525, 0.61901655, 0.97054039), (0.67877729, 0.34021665, 0.09938765), (0.60701486, 0.4463169, 0.16983653), (0.48277769, 0.12850542, 0.15471547)]\n"
          ]
        }
      ],
      "source": [
        "print(ttest_group_results['NDCG@10'])"
      ]
    },
    {
      "cell_type": "code",
      "execution_count": 584,
      "metadata": {},
      "outputs": [],
      "source": [
        "NCG_list = []\n",
        "for i in range(20):\n",
        "    NCG_list.append(ttest_group_results['NDCG@10'][i][2])\n"
      ]
    },
    {
      "cell_type": "code",
      "execution_count": 585,
      "metadata": {},
      "outputs": [
        {
          "name": "stdout",
          "output_type": "stream",
          "text": [
            "7.919017537144606\n",
            "0.003709598285237098\n"
          ]
        }
      ],
      "source": [
        "from scipy.stats import ttest_1samp\n",
        "t_stat, p_val = ttest_1samp(NCG_list,popmean=0.005)\n",
        "print(t_stat)\n",
        "print(p_value/2)"
      ]
    }
  ],
  "metadata": {
    "colab": {
      "collapsed_sections": [],
      "include_colab_link": true,
      "name": "FairBook.ipynb",
      "provenance": []
    },
    "kernelspec": {
      "display_name": "tf1_15",
      "language": "python",
      "name": "python3"
    },
    "language_info": {
      "codemirror_mode": {
        "name": "ipython",
        "version": 3
      },
      "file_extension": ".py",
      "mimetype": "text/x-python",
      "name": "python",
      "nbconvert_exporter": "python",
      "pygments_lexer": "ipython3",
      "version": "3.7.15"
    },
    "vscode": {
      "interpreter": {
        "hash": "b8a9b79dd278816dedf4283d9fa40364cf89c85882201262942e9baa9884ce48"
      }
    }
  },
  "nbformat": 4,
  "nbformat_minor": 0
}
