{
 "cells": [
  {
   "cell_type": "markdown",
   "metadata": {},
   "source": [
    "Book-Crossing: This dataset was collected by Cai-Nicolas Ziegler in a 4-week crawl (August / September 2004) from the Book-Crossing community with kind permission from Ron Hornbaker, CTO of Humankind Systems. It contains 278,858 users (anonymized but with demographic information) providing 1,149,780 ratings (explicit / implicit) about 271,379 books."
   ]
  },
  {
   "cell_type": "markdown",
   "metadata": {},
   "source": [
    "Book-Crossing Dataset:\n",
    "- Split based on the implicit and explicit feedback\n",
    "- Remove users with fewer than 5 interaction"
   ]
  },
  {
   "cell_type": "code",
   "execution_count": 1,
   "metadata": {},
   "outputs": [],
   "source": [
    "# importing required pakcages\n",
    "import pandas as pd\n",
    "from tqdm import tqdm"
   ]
  },
  {
   "cell_type": "code",
   "execution_count": 23,
   "metadata": {},
   "outputs": [],
   "source": [
    "# config\n",
    "data_config = 'Goodreads'\n",
    "config = {\n",
    "    'Goodreads':\n",
    "    {\n",
    "        'ds_name': 'Goodreads',\n",
    "        'ds_fullname': 'goodreads_interactions_comics_graphic',\n",
    "        'ds_fmt': 'json',\n",
    "        'ds_acronym': 'GR',\n",
    "        'ds_rate': 10,\n",
    "        'ds_toprate': 50,\n",
    "        'ds_sep': ',',\n",
    "        'ds_encode': 'utf-8'\n",
    "    }\n",
    "}"
   ]
  },
  {
   "cell_type": "code",
   "execution_count": 3,
   "metadata": {},
   "outputs": [],
   "source": [
    "# loading the Book-Crossing dataset\n",
    "if data_config == 'Goodreads':\n",
    "    # load dataset using json reader\n",
    "    dataset_fpath = f\"dataset/{data_config}/goodreads_interactions_comics_graphic.json\"\n",
    "    dataset = pd.read_json(dataset_fpath, lines=True, orient='columns')\n",
    "    # remove those row with rating 0 and save the other rows (rating = 1-5)\n",
    "    dataset = dataset.loc[dataset['rating'] != 0, ['user_id', 'book_id', 'rating']]\n",
    "elif data_config == 'Bookcrossing':\n",
    "    dataset = pd.read_csv(\"dataset/BX-Book-Ratings.csv\", sep=\";\", encoding='ISO-8859–1')\n",
    "    \n",
    "dataset.columns = ['User-ID', 'Book-ID', 'Book-Rating']"
   ]
  },
  {
   "cell_type": "code",
   "execution_count": 4,
   "metadata": {},
   "outputs": [
    {
     "data": {
      "text/plain": [
       "Index(['User-ID', 'Book-ID', 'Book-Rating'], dtype='object')"
      ]
     },
     "execution_count": 4,
     "metadata": {},
     "output_type": "execute_result"
    }
   ],
   "source": [
    "# what columns or attributes the dataset is included?\n",
    "dataset.columns"
   ]
  },
  {
   "cell_type": "code",
   "execution_count": 5,
   "metadata": {},
   "outputs": [
    {
     "name": "stdout",
     "output_type": "stream",
     "text": [
      "Original dataset statistics: \n",
      "> No. of users: 244309\n",
      "> No. of Books: 89169\n",
      "> No. of Interaction: 4514094\n"
     ]
    }
   ],
   "source": [
    "# statistics on explicit dataset\n",
    "print(\"Original dataset statistics: \")\n",
    "print(f\"> No. of users: {len(dataset['User-ID'].unique())}\")\n",
    "print(f\"> No. of Books: {len(dataset['Book-ID'].unique())}\")\n",
    "print(f\"> No. of Interaction: {dataset.shape[0]}\")"
   ]
  },
  {
   "cell_type": "code",
   "execution_count": 6,
   "metadata": {},
   "outputs": [
    {
     "data": {
      "text/plain": [
       "5    1689761\n",
       "4    1627804\n",
       "3     937833\n",
       "2     209939\n",
       "1      48757\n",
       "Name: Book-Rating, dtype: int64"
      ]
     },
     "execution_count": 6,
     "metadata": {},
     "output_type": "execute_result"
    }
   ],
   "source": [
    "# checking the number of times in which a rating happened - (0: implicit, 1-10: explicit)\n",
    "dataset['Book-Rating'].value_counts()"
   ]
  },
  {
   "cell_type": "code",
   "execution_count": 7,
   "metadata": {},
   "outputs": [],
   "source": [
    "# This method return a dataframe in which the specified values are removed from a specific column. We can use it to generate the implicit/explicit dataset.\n",
    "# To do this, we can remove the 0 or 1-10 values from the `Book-Rating` column.\n",
    "def filter_rows_by_values(df, col, values):\n",
    "    return df[~df[col].isin(values)]"
   ]
  },
  {
   "cell_type": "code",
   "execution_count": 8,
   "metadata": {},
   "outputs": [],
   "source": [
    "# To create the explicit dataset, we first remove those rows which includes 0 on Book-Rating columns (implicit ones), then we save the new generated daaset.\n",
    "if data_config == 'Bookcrossing':\n",
    "    dataset = filter_rows_by_values(dataset, \"Book-Rating\", [0])\n",
    "    dataset.to_csv(\"BX-Book-Explicit.csv\", index=False)\n",
    "\n",
    "    # Here we can check that our explicit dataset does not include 0 rating.\n",
    "    dataset['Book-Rating'].value_counts()\n",
    "\n",
    "    # statistics on explicit dataset\n",
    "    print(\"Explicit dataset statistics: \")\n",
    "    print(f\"> No. of users: {len(dataset['User-ID'].unique())}\")\n",
    "    print(f\"> No. of Books: {len(dataset['ISBN'].unique())}\")\n",
    "    print(f\"> No. of Interaction: {dataset.shape[0]}\")"
   ]
  },
  {
   "cell_type": "markdown",
   "metadata": {},
   "source": [
    "### Remove user with more than TopRate interactions"
   ]
  },
  {
   "cell_type": "code",
   "execution_count": 15,
   "metadata": {},
   "outputs": [
    {
     "name": "stdout",
     "output_type": "stream",
     "text": [
      "The numebr of users with more than 50 interactions: 18125\n"
     ]
    }
   ],
   "source": [
    "# To check if there is any user with more than toprate interaction in the preprocessed dataset\n",
    "# The correct output will be zero\n",
    "uid_value_counts = dataset['User-ID'].value_counts()\n",
    "print(f\"The numebr of users with more than {config[data_config]['ds_toprate']} interactions: {uid_value_counts[uid_value_counts > config[data_config]['ds_toprate']].count()}\")"
   ]
  },
  {
   "cell_type": "code",
   "execution_count": 16,
   "metadata": {},
   "outputs": [],
   "source": [
    "# To remove the users with fewer than 5 interaction we first count the number of interactino per user and add a new column (`Count`) in the dataframe.\n",
    "# This column shows the number of interaction per user in the dataset\n",
    "users_counts = dataset['User-ID'].value_counts()\n",
    "users_counts = users_counts.to_dict() #converts to dictionary\n",
    "dataset['Count'] = dataset['User-ID'].map(users_counts)"
   ]
  },
  {
   "cell_type": "code",
   "execution_count": 19,
   "metadata": {},
   "outputs": [],
   "source": [
    "dataset = filter_rows_by_values(dataset, \"Count\", list(range(config[data_config]['ds_toprate'], max(dataset['Count']) + 1)))"
   ]
  },
  {
   "cell_type": "code",
   "execution_count": 21,
   "metadata": {},
   "outputs": [
    {
     "name": "stdout",
     "output_type": "stream",
     "text": [
      "New dataset statistics (users with interactions < 50): \n",
      "> No. of users: 225808\n",
      "> No. of Books: 64981\n",
      "> No. of Interaction: 1556645\n"
     ]
    }
   ],
   "source": [
    "# statistics on explicit dataset after removing users with more than 200 int.\n",
    "print(f\"New dataset statistics (users with interactions < {config[data_config]['ds_toprate']}): \")\n",
    "print(f\"> No. of users: {len(dataset['User-ID'].unique())}\")\n",
    "print(f\"> No. of Books: {len(dataset['Book-ID'].unique())}\")\n",
    "print(f\"> No. of Interaction: {dataset.shape[0]}\")"
   ]
  },
  {
   "cell_type": "markdown",
   "metadata": {},
   "source": [
    "### Iteratively remove users and items with fewer than `ds_rate` interactions"
   ]
  },
  {
   "cell_type": "code",
   "execution_count": 25,
   "metadata": {},
   "outputs": [
    {
     "data": {
      "text/plain": [
       "[0, 1, 2, 3, 4, 5, 6, 7, 8, 9]"
      ]
     },
     "execution_count": 25,
     "metadata": {},
     "output_type": "execute_result"
    }
   ],
   "source": [
    "list(range(config[data_config]['ds_rate']))"
   ]
  },
  {
   "cell_type": "code",
   "execution_count": 27,
   "metadata": {},
   "outputs": [
    {
     "name": "stdout",
     "output_type": "stream",
     "text": [
      "The current number of user and item with < 10 interactions: \n",
      "No. of users < 10 ineractions: 175908\n",
      "No. of items < 10 ineractions: 47741\n"
     ]
    },
    {
     "name": "stderr",
     "output_type": "stream",
     "text": [
      "/var/folders/nb/mtr544q50k388rbnch13x9dm0000gn/T/ipykernel_5889/4179250089.py:23: SettingWithCopyWarning: \n",
      "A value is trying to be set on a copy of a slice from a DataFrame.\n",
      "Try using .loc[row_indexer,col_indexer] = value instead\n",
      "\n",
      "See the caveats in the documentation: https://pandas.pydata.org/pandas-docs/stable/user_guide/indexing.html#returning-a-view-versus-a-copy\n",
      "  dataset['Count'] = dataset['Book-ID'].map(items_counts)\n"
     ]
    },
    {
     "name": "stdout",
     "output_type": "stream",
     "text": [
      "The current number of user and item with < 10 interactions: \n",
      "No. of users < 10 ineractions: 4989\n",
      "No. of items < 10 ineractions: 1112\n",
      "The current number of user and item with < 10 interactions: \n",
      "No. of users < 10 ineractions: 474\n",
      "No. of items < 10 ineractions: 146\n",
      "The current number of user and item with < 10 interactions: \n",
      "No. of users < 10 ineractions: 90\n",
      "No. of items < 10 ineractions: 32\n",
      "The current number of user and item with < 10 interactions: \n",
      "No. of users < 10 ineractions: 15\n",
      "No. of items < 10 ineractions: 2\n",
      "The current number of user and item with < 10 interactions: \n",
      "No. of users < 10 ineractions: 2\n",
      "No. of items < 10 ineractions: 2\n",
      "The current number of user and item with < 10 interactions: \n",
      "No. of users < 10 ineractions: 1\n",
      "No. of items < 10 ineractions: 0\n",
      "The current number of user and item with < 10 interactions: \n",
      "No. of users < 10 ineractions: 0\n",
      "No. of items < 10 ineractions: 0\n"
     ]
    }
   ],
   "source": [
    "user_interaction, item_interaction = 1, 1\n",
    "\n",
    "while user_interaction != 0 or item_interaction != 0:\n",
    "    print(f\"The current number of user and item with < {config[data_config]['ds_rate']} interactions: \")\n",
    "    # user side fewer than ds_rate cheking\n",
    "    uid_value_counts = dataset['User-ID'].value_counts()\n",
    "    user_interaction = uid_value_counts[uid_value_counts < config[data_config]['ds_rate']].count()\n",
    "    print(f\"No. of users < {config[data_config]['ds_rate']} ineractions: {user_interaction}\")\n",
    "\n",
    "    users_counts = dataset['User-ID'].value_counts()\n",
    "    users_counts = users_counts.to_dict() #converts to dictionary\n",
    "    dataset['Count'] = dataset['User-ID'].map(users_counts)\n",
    "\n",
    "    dataset = filter_rows_by_values(dataset, \"Count\", list(range(config[data_config]['ds_rate'])))\n",
    "\n",
    "    # item side fewer than ds_rate cheking\n",
    "    bid_value_counts = dataset['Book-ID'].value_counts()\n",
    "    item_interaction = bid_value_counts[bid_value_counts < config[data_config]['ds_rate']].count()\n",
    "    print(f\"No. of items < {config[data_config]['ds_rate']} ineractions: {item_interaction}\")\n",
    "\n",
    "    items_counts = dataset['Book-ID'].value_counts()\n",
    "    items_counts = items_counts.to_dict() #converts to dictionary\n",
    "    dataset['Count'] = dataset['Book-ID'].map(items_counts)\n",
    "\n",
    "    dataset = filter_rows_by_values(dataset, \"Count\", list(range(config[data_config]['ds_rate'])))"
   ]
  },
  {
   "cell_type": "code",
   "execution_count": 28,
   "metadata": {},
   "outputs": [
    {
     "name": "stdout",
     "output_type": "stream",
     "text": [
      "No. of users: 44254\n",
      "No. of Books: 11303\n",
      "No. of Interaction: 898791\n"
     ]
    }
   ],
   "source": [
    "# statistics on 5 rate explicit dataset (after pre-processing)\n",
    "print(f\"No. of users: {len(dataset['User-ID'].unique())}\")\n",
    "print(f\"No. of Books: {len(dataset['Book-ID'].unique())}\")\n",
    "print(f\"No. of Interaction: {dataset.shape[0]}\")"
   ]
  },
  {
   "cell_type": "code",
   "execution_count": 29,
   "metadata": {},
   "outputs": [],
   "source": [
    "# Before we save the preprocessed explicit dataset (5Rate) we first remove the added column which is `Count`\n",
    "del dataset['Count']"
   ]
  },
  {
   "cell_type": "code",
   "execution_count": 30,
   "metadata": {},
   "outputs": [],
   "source": [
    "# Here we save our new explicit dataset to do our experiments and analysis on that.\n",
    "# dataset.to_csv(\"BX-Book-Explicit-5Rate.csv\", index=False)"
   ]
  },
  {
   "cell_type": "markdown",
   "metadata": {},
   "source": [
    "### User and Item ID Mapping"
   ]
  },
  {
   "cell_type": "code",
   "execution_count": null,
   "metadata": {},
   "outputs": [],
   "source": [
    "# dataset = pd.read_csv(\"BX-Book-Explicit-5Rate.csv\", sep=\",\", encoding='ISO-8859–1')"
   ]
  },
  {
   "cell_type": "code",
   "execution_count": 31,
   "metadata": {},
   "outputs": [],
   "source": [
    "uid_to_index = dict()\n",
    "bid_to_index = dict()\n",
    "\n",
    "last_user_id = 0\n",
    "last_book_id = 0\n",
    "\n",
    "for eachline in dataset.iterrows():\n",
    "  # add a new user id with an index\n",
    "  if eachline[1][0] not in uid_to_index.keys():\n",
    "    uid_to_index[eachline[1][0]] = last_user_id\n",
    "    last_user_id += 1\n",
    "  # add a new book id with an index\n",
    "  if eachline[1][1] not in bid_to_index.keys():\n",
    "    bid_to_index[eachline[1][1]] = last_book_id\n",
    "    last_book_id += 1"
   ]
  },
  {
   "cell_type": "code",
   "execution_count": 33,
   "metadata": {},
   "outputs": [
    {
     "name": "stderr",
     "output_type": "stream",
     "text": [
      "898791it [02:03, 7275.28it/s]\n"
     ]
    }
   ],
   "source": [
    "# write the file with new mapped indices into a txt file\n",
    "mapped_dataset = open(f\"dataset/{config[data_config]}/GR-Book-Explicit-10Rate-Map.csv\", 'w')\n",
    "mapped_dataset.write('uid' + ',' + 'bid' + ',' + 'rating' + '\\n')\n",
    "\n",
    "for eachline in tqdm(dataset.iterrows()):\n",
    "    mapped_dataset.write(str(uid_to_index[eachline[1][0]]) + \",\" + str(bid_to_index[eachline[1][1]]) + \",\" + str(eachline[1][2]) + \"\\n\")\n",
    "mapped_dataset.close()"
   ]
  }
 ],
 "metadata": {
  "interpreter": {
   "hash": "0adcc2737ebf6a4a119f135174df96668767fca1ef1112612db5ecadf2b6d608"
  },
  "kernelspec": {
   "display_name": "Python 3.8.0 64-bit",
   "language": "python",
   "name": "python3"
  },
  "language_info": {
   "codemirror_mode": {
    "name": "ipython",
    "version": 3
   },
   "file_extension": ".py",
   "mimetype": "text/x-python",
   "name": "python",
   "nbconvert_exporter": "python",
   "pygments_lexer": "ipython3",
   "version": "3.8.0"
  },
  "orig_nbformat": 4
 },
 "nbformat": 4,
 "nbformat_minor": 2
}
